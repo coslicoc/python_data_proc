{
  "cells": [
    {
      "cell_type": "code",
      "execution_count": null,
      "metadata": {
        "id": "FFf-_GPLCoJf"
      },
      "outputs": [],
      "source": [
        "import numpy as np\n",
        "from numpy import random"
      ]
    },
    {
      "cell_type": "code",
      "execution_count": null,
      "metadata": {
        "id": "Ugzv_5QWCtFp"
      },
      "outputs": [],
      "source": [
        "np.random.seed(10)"
      ]
    },
    {
      "cell_type": "markdown",
      "metadata": {
        "id": "4id84s6U-oDN"
      },
      "source": [
        "Задание 1\n"
      ]
    },
    {
      "cell_type": "code",
      "execution_count": null,
      "metadata": {
        "id": "kQXVbgKwz5Lt"
      },
      "outputs": [],
      "source": [
        "def rand_generate():\n",
        "  num_unique = np.random.randint(4, 9)\n",
        "  unique_values = np.random.choice(range(1, 11), size=num_unique, replace=False)\n",
        "  remaining_values = np.random.choice(unique_values, size=10 - num_unique, replace=True)\n",
        "  result = np.concatenate((unique_values, remaining_values))\n",
        "  np.random.shuffle(result)\n",
        "  return result"
      ]
    },
    {
      "cell_type": "code",
      "execution_count": null,
      "metadata": {
        "id": "8ERzbIdS546V"
      },
      "outputs": [],
      "source": [
        "v1 = rand_generate()\n",
        "v2 = rand_generate()\n",
        "v3 = rand_generate()"
      ]
    },
    {
      "cell_type": "code",
      "execution_count": null,
      "metadata": {
        "colab": {
          "base_uri": "https://localhost:8080/"
        },
        "id": "4X5bqZBP8inZ",
        "outputId": "61295197-1e01-4369-a0c6-f59d4c376dc4"
      },
      "outputs": [
        {
          "name": "stdout",
          "output_type": "stream",
          "text": [
            "[7 7 9 3 3 3 6 8 9 7] [ 1 10  8  6  3  4  3 10  8  7] [ 5  2  6  6 10  5  6  2  6 10]\n"
          ]
        }
      ],
      "source": [
        "print(v1, v2, v3)"
      ]
    },
    {
      "cell_type": "code",
      "execution_count": null,
      "metadata": {
        "colab": {
          "base_uri": "https://localhost:8080/"
        },
        "id": "3Jsn05el-qpF",
        "outputId": "34aaefdb-eb43-4012-8076-5f225547c2d0"
      },
      "outputs": [
        {
          "data": {
            "text/plain": [
              "array([[ 7,  7,  9,  3,  3,  3,  6,  8,  9,  7],\n",
              "       [ 1, 10,  8,  6,  3,  4,  3, 10,  8,  7],\n",
              "       [ 5,  2,  6,  6, 10,  5,  6,  2,  6, 10]])"
            ]
          },
          "execution_count": 6,
          "metadata": {},
          "output_type": "execute_result"
        }
      ],
      "source": [
        "vec = np.vstack((v1, v2, v3))\n",
        "vec"
      ]
    },
    {
      "cell_type": "code",
      "execution_count": null,
      "metadata": {
        "colab": {
          "base_uri": "https://localhost:8080/"
        },
        "id": "gQijkied-1Sa",
        "outputId": "4ceaa7d1-6db3-403c-9575-5ffa222d360a"
      },
      "outputs": [
        {
          "data": {
            "text/plain": [
              "array([ 8, 17, 17,  9,  6,  7,  9, 18, 17, 14])"
            ]
          },
          "execution_count": 7,
          "metadata": {},
          "output_type": "execute_result"
        }
      ],
      "source": [
        "sum_vec = v1 + v2\n",
        "sum_vec"
      ]
    },
    {
      "cell_type": "code",
      "execution_count": null,
      "metadata": {
        "colab": {
          "base_uri": "https://localhost:8080/"
        },
        "id": "0RX7FBG2ADPI",
        "outputId": "dbf4679e-914b-4d25-ebd3-fe150809f8cd"
      },
      "outputs": [
        {
          "data": {
            "text/plain": [
              "array([7, 7, 9, 3, 3, 6, 8, 9])"
            ]
          },
          "execution_count": 8,
          "metadata": {},
          "output_type": "execute_result"
        }
      ],
      "source": [
        "not_match = v1[v1 != v2]\n",
        "not_match"
      ]
    },
    {
      "cell_type": "markdown",
      "metadata": {
        "id": "tdTaMsW4HcTl"
      },
      "source": [
        "Задание 2"
      ]
    },
    {
      "cell_type": "code",
      "execution_count": null,
      "metadata": {
        "id": "AZy_h-8uHbu9"
      },
      "outputs": [],
      "source": [
        "M = np.random.randint(1, 11, size=(30, 30))"
      ]
    },
    {
      "cell_type": "code",
      "execution_count": null,
      "metadata": {
        "colab": {
          "base_uri": "https://localhost:8080/"
        },
        "id": "ns5Jm-0oz5rL",
        "outputId": "59fe2012-9df8-4590-b590-6421f719e4d8"
      },
      "outputs": [
        {
          "data": {
            "text/plain": [
              "4"
            ]
          },
          "execution_count": 10,
          "metadata": {},
          "output_type": "execute_result"
        }
      ],
      "source": [
        "M[-1][-1]"
      ]
    },
    {
      "cell_type": "code",
      "execution_count": null,
      "metadata": {
        "colab": {
          "base_uri": "https://localhost:8080/"
        },
        "id": "6llUy5a4K6k0",
        "outputId": "5da986df-306d-4d61-98eb-35b981714c1e"
      },
      "outputs": [
        {
          "data": {
            "text/plain": [
              "array([[ 8,  2,  4,  6,  5,  2,  8,  9,  7,  1,  5,  4,  1,  2,  3,  8,\n",
              "         9,  9,  7,  1,  4,  6,  7,  4,  7,  4,  3, 10, 10, 10],\n",
              "       [ 8,  7,  2,  7,  1,  2,  3,  6,  1,  5,  3, 10,  9,  6,  3,  7,\n",
              "         4,  8,  7,  6,  9,  2,  1,  9,  7,  9,  5,  8,  3,  7]])"
            ]
          },
          "execution_count": 11,
          "metadata": {},
          "output_type": "execute_result"
        }
      ],
      "source": [
        "M[10:21][5:7]"
      ]
    },
    {
      "cell_type": "code",
      "execution_count": null,
      "metadata": {
        "colab": {
          "base_uri": "https://localhost:8080/"
        },
        "id": "NoDaLFcFLZxh",
        "outputId": "0ec28187-7958-4dad-fed1-2cca60ae9183"
      },
      "outputs": [
        {
          "name": "stdout",
          "output_type": "stream",
          "text": [
            "9\n"
          ]
        }
      ],
      "source": [
        "unique_mat = np.unique(M)\n",
        "if len(unique_mat) > 2:\n",
        "  print(unique_mat[-2])"
      ]
    },
    {
      "cell_type": "code",
      "execution_count": null,
      "metadata": {
        "colab": {
          "base_uri": "https://localhost:8080/"
        },
        "id": "Yq4rtIVgz7GY",
        "outputId": "c4ba9798-56c0-41a6-ed3e-7f36fda28e26"
      },
      "outputs": [
        {
          "data": {
            "text/plain": [
              "array([ 9,  6,  6,  7,  7,  5,  7,  7,  3,  9,  5,  3,  5,  2,  1,  8,  4,\n",
              "        7,  8,  5, 10,  9,  2,  8,  6,  5,  1,  4,  2,  4])"
            ]
          },
          "execution_count": 13,
          "metadata": {},
          "output_type": "execute_result"
        }
      ],
      "source": [
        "diag_vals = np.diag(M)\n",
        "diag_vals"
      ]
    },
    {
      "cell_type": "code",
      "execution_count": null,
      "metadata": {
        "colab": {
          "base_uri": "https://localhost:8080/"
        },
        "collapsed": true,
        "id": "VO7-xBeC6WYn",
        "outputId": "a95c109c-c9ab-4ad9-b5d4-72460a2ebd68"
      },
      "outputs": [
        {
          "data": {
            "text/plain": [
              "array([ 9,  9,  7,  7,  6,  7,  7, 10,  9, 10,  9, 10, 10,  6,  8,  6, 10,\n",
              "       10, 10,  6, 10,  7,  7,  7,  6,  7,  6,  6,  9,  6, 10,  9,  6,  8,\n",
              "        9,  6,  9, 10, 10,  6, 10,  8,  8,  8, 10,  8,  7, 10,  7,  9, 10,\n",
              "        7,  6,  9,  8,  7,  6,  9,  6,  8,  9,  8,  8,  7, 10,  6,  7, 10,\n",
              "        7, 10,  9,  8,  8,  6,  6,  9,  8,  6,  6,  8,  7,  9,  7,  6, 10,\n",
              "        9, 10,  7, 10,  6,  9,  7,  7,  6,  8, 10, 10,  7,  7,  8, 10,  8,\n",
              "        8, 10,  6,  9,  6, 10, 10,  7, 10,  8,  9, 10,  7, 10, 10,  8, 10,\n",
              "        9,  6,  6,  6,  9,  8,  8,  9,  7,  8,  6,  7,  6,  9, 10,  7,  9,\n",
              "       10,  9,  8,  8,  7,  6,  6, 10,  6,  9,  7,  8,  8, 10,  8,  7,  8,\n",
              "       10,  6,  8,  7,  6,  8,  8,  7,  8, 10,  6,  9,  9,  9,  7,  6,  9,\n",
              "        9,  9,  7,  9, 10,  9,  7,  8,  6,  7, 10,  7,  8, 10,  6, 10,  9,\n",
              "       10,  7,  9,  7,  8,  8,  7, 10,  8,  6,  7,  8,  8,  6,  7,  6,  8,\n",
              "        7,  7,  9,  9, 10, 10,  8,  8,  9,  9, 10,  6,  8,  6,  8,  8,  9,\n",
              "       10, 10, 10,  8,  6,  8,  9,  7,  8,  9,  9,  7,  6,  7,  7, 10, 10,\n",
              "       10,  8,  7,  7,  6, 10,  9,  6,  7,  8,  7,  6,  9,  9,  7,  9,  8,\n",
              "        7,  7,  6,  8, 10,  8,  7,  9, 10,  7,  7,  7,  9,  7,  9,  8,  8,\n",
              "        9,  8,  7,  8,  8,  6, 10,  8,  9,  8,  6,  7, 10,  6,  9,  8,  8,\n",
              "        6,  8, 10,  9,  8,  6, 10,  6,  8,  9,  7,  6, 10,  6,  9, 10,  6,\n",
              "        6, 10, 10,  7,  7,  8,  8,  8, 10, 10,  8,  8, 10,  8,  6,  7,  8,\n",
              "        7,  6,  9,  7,  8,  6,  9,  8,  9,  9,  6, 10, 10,  6,  8, 10,  6,\n",
              "        8,  9,  9,  6,  6, 10, 10,  7,  7,  6,  6,  7,  9, 10,  9,  6,  6,\n",
              "        8,  9, 10,  6, 10,  7,  8,  7,  6,  6,  6, 10,  7,  8,  8, 10,  6,\n",
              "       10,  9,  6, 10,  7,  6,  8, 10,  8,  7,  7,  9,  6,  7,  6,  9, 10,\n",
              "        9,  9, 10, 10,  8,  7,  8,  8,  7,  8,  6,  8, 10,  7,  8,  6, 10,\n",
              "       10, 10, 10,  6,  6, 10,  7,  8, 10,  9, 10,  8, 10,  9,  8, 10,  8,\n",
              "        8, 10,  9,  9,  9,  9,  6,  6,  7,  7, 10,  9, 10,  9,  6,  9, 10,\n",
              "        8,  8,  8,  7,  6, 10,  9,  8,  7, 10,  9,  9,  8, 10,  8, 10,  8,\n",
              "        9,  6,  9,  8, 10,  6,  7])"
            ]
          },
          "execution_count": 14,
          "metadata": {},
          "output_type": "execute_result"
        }
      ],
      "source": [
        "mask = M > 5\n",
        "vals = M[mask]\n",
        "vals"
      ]
    },
    {
      "cell_type": "markdown",
      "metadata": {
        "id": "psPf9jB-O200"
      },
      "source": [
        "Задание 3"
      ]
    },
    {
      "cell_type": "code",
      "execution_count": null,
      "metadata": {
        "colab": {
          "base_uri": "https://localhost:8080/"
        },
        "id": "_zb-9N3uNLuB",
        "outputId": "9fef6664-db70-4a26-f31c-47c6cd4bd961"
      },
      "outputs": [
        {
          "data": {
            "text/plain": [
              "array([['7', '7', '9', '3', '3', '3', '6', '8', '9', '7'],\n",
              "       ['1', '10', '8', '6', '3', '4', '3', '10', '8', '7'],\n",
              "       ['5', '2', '6', '6', '10', '5', '6', '2', '6', '10']], dtype='<U21')"
            ]
          },
          "execution_count": 15,
          "metadata": {},
          "output_type": "execute_result"
        }
      ],
      "source": [
        "vec_str = vec.astype(str)\n",
        "vec_str"
      ]
    },
    {
      "cell_type": "code",
      "execution_count": null,
      "metadata": {
        "colab": {
          "base_uri": "https://localhost:8080/"
        },
        "id": "lJw77eQDO4dh",
        "outputId": "0c982556-6a8c-468f-f32f-89f9b2fc6dbf"
      },
      "outputs": [
        {
          "data": {
            "text/plain": [
              "array([['10', '6', '2', '6', '5', '10', '6', '6', '2', '5'],\n",
              "       ['7', '8', '10', '3', '4', '3', '6', '8', '10', '1'],\n",
              "       ['7', '9', '8', '6', '3', '3', '3', '9', '7', '7']], dtype='<U21')"
            ]
          },
          "execution_count": 16,
          "metadata": {},
          "output_type": "execute_result"
        }
      ],
      "source": [
        "vec_str = vec_str[::-1, ::-1]\n",
        "vec_str"
      ]
    },
    {
      "cell_type": "code",
      "execution_count": null,
      "metadata": {
        "collapsed": true,
        "id": "BOKJx24LUOJ5"
      },
      "outputs": [],
      "source": [
        "M_flat = M.flatten()\n",
        "#M_flat"
      ]
    },
    {
      "cell_type": "code",
      "execution_count": null,
      "metadata": {
        "id": "7sBlRjz4Sst1"
      },
      "outputs": [],
      "source": [
        "vec_reshaped = vec.reshape(15, 2)"
      ]
    },
    {
      "cell_type": "code",
      "execution_count": null,
      "metadata": {
        "colab": {
          "base_uri": "https://localhost:8080/"
        },
        "id": "QEuEnep1UXt5",
        "outputId": "b1f8e3b5-4409-4e99-b5d5-612600dd5957"
      },
      "outputs": [
        {
          "data": {
            "text/plain": [
              "array([ 7,  7,  9,  3,  3,  3,  6,  8,  9,  7, 10,  8,  6,  3,  4,  3, 10,\n",
              "        8,  7,  5,  2,  6,  6, 10,  5,  6,  2,  6, 10])"
            ]
          },
          "execution_count": 19,
          "metadata": {},
          "output_type": "execute_result"
        }
      ],
      "source": [
        "vec_filtered = vec[vec >= 2]\n",
        "vec_filtered"
      ]
    },
    {
      "cell_type": "markdown",
      "metadata": {
        "id": "a6sK3jYCj0ma"
      },
      "source": [
        "Задание 4"
      ]
    },
    {
      "cell_type": "code",
      "execution_count": null,
      "metadata": {
        "id": "MYhmTwzWdE6D"
      },
      "outputs": [],
      "source": [
        "def task_41(x):\n",
        "  mean_val = np.mean(x)\n",
        "  median_val = np.median(x)\n",
        "  var_val = np.var(x)\n",
        "  print(f'mean = {mean_val}, median = {median_val}, variance = {var_val}')"
      ]
    },
    {
      "cell_type": "code",
      "execution_count": null,
      "metadata": {
        "colab": {
          "base_uri": "https://localhost:8080/"
        },
        "id": "U0bMxDwqavdJ",
        "outputId": "bf124c22-b2f3-43f4-e493-28bd7e059d74"
      },
      "outputs": [
        {
          "name": "stdout",
          "output_type": "stream",
          "text": [
            "mean = 6.0, median = 6.0, variance = 6.866666666666666\n"
          ]
        }
      ],
      "source": [
        "task_41(vec)"
      ]
    },
    {
      "cell_type": "code",
      "execution_count": null,
      "metadata": {
        "colab": {
          "base_uri": "https://localhost:8080/"
        },
        "id": "ftr4GRMvayKY",
        "outputId": "8213e518-e7f2-49f0-8f83-b5b2e90ce51d"
      },
      "outputs": [
        {
          "name": "stdout",
          "output_type": "stream",
          "text": [
            "mean = 5.585555555555556, median = 6.0, variance = 8.536013580246914\n"
          ]
        }
      ],
      "source": [
        "task_41(M)"
      ]
    },
    {
      "cell_type": "code",
      "execution_count": null,
      "metadata": {
        "id": "xHtvMAbyoc4H"
      },
      "outputs": [],
      "source": [
        "import matplotlib.pyplot as plt"
      ]
    },
    {
      "cell_type": "code",
      "execution_count": null,
      "metadata": {
        "id": "f_BayPsQnTRb"
      },
      "outputs": [],
      "source": [
        "def plot_empirical_cdf(sample):\n",
        "  sample_flat = sample.flatten()\n",
        "  hist, edges = np.histogram(sample, bins=len(sample_flat))\n",
        "  Y = hist.cumsum()\n",
        "  for i in range(len(Y)):\n",
        "      plt.plot([edges[i], edges[i+1]],[Y[i], Y[i]], c=\"blue\")\n",
        "  plt.show()"
      ]
    },
    {
      "cell_type": "code",
      "execution_count": null,
      "metadata": {
        "colab": {
          "base_uri": "https://localhost:8080/",
          "height": 430
        },
        "id": "mSWfzIf2ojuZ",
        "outputId": "aac4771c-ae03-4b69-d5b5-7603973d10bf"
      },
      "outputs": [
        {
          "data": {
            "image/png": "[encoded data removed]",
            "text/plain": [
              "<Figure size 640x480 with 1 Axes>"
            ]
          },
          "metadata": {},
          "output_type": "display_data"
        }
      ],
      "source": [
        "plot_empirical_cdf(vec)"
      ]
    },
    {
      "cell_type": "code",
      "execution_count": null,
      "metadata": {
        "collapsed": true,
        "id": "GvAmWNTvnQ2L"
      },
      "outputs": [],
      "source": [
        "corr = np.corrcoef(M, rowvar=False)\n",
        "#corr"
      ]
    },
    {
      "cell_type": "code",
      "execution_count": null,
      "metadata": {
        "id": "riTnsxTn0CKE"
      },
      "outputs": [],
      "source": [
        "from scipy import stats"
      ]
    },
    {
      "cell_type": "code",
      "execution_count": null,
      "metadata": {
        "id": "Z1pGF3z04M15"
      },
      "outputs": [],
      "source": [
        "unique_vals = np.random.choice(range(1, 11), size=3, replace=False)"
      ]
    },
    {
      "cell_type": "code",
      "execution_count": null,
      "metadata": {
        "colab": {
          "base_uri": "https://localhost:8080/"
        },
        "id": "8ppw-5v98O0u",
        "outputId": "2c614374-8ff3-442c-d223-4588834fda5e"
      },
      "outputs": [
        {
          "data": {
            "text/plain": [
              "(array([7, 7, 8, 8, 9, 7, 7, 8, 9, 9]), array([9, 9, 7, 9, 8, 9, 9, 9, 9, 7]))"
            ]
          },
          "execution_count": 34,
          "metadata": {},
          "output_type": "execute_result"
        }
      ],
      "source": [
        "A = np.random.choice(unique_vals, size=10)\n",
        "B = np.random.choice(unique_vals, size=10)\n",
        "A, B"
      ]
    },
    {
      "cell_type": "code",
      "execution_count": null,
      "metadata": {
        "id": "SM5y8KzG--NU"
      },
      "outputs": [],
      "source": [
        "contingency_table = np.array([np.sum((A == val0) & (B == val1)) for val0 in unique_vals for val1 in unique_vals])"
      ]
    },
    {
      "cell_type": "code",
      "execution_count": null,
      "metadata": {
        "id": "W7ZiTOOz_XxD"
      },
      "outputs": [],
      "source": [
        "contingency_table = contingency_table.reshape(3, 3)"
      ]
    },
    {
      "cell_type": "code",
      "execution_count": null,
      "metadata": {
        "colab": {
          "base_uri": "https://localhost:8080/"
        },
        "id": "n_W7zAqn8-k4",
        "outputId": "49ae93f9-dd1c-483f-9e33-8cfdd5a9f9ba"
      },
      "outputs": [
        {
          "name": "stdout",
          "output_type": "stream",
          "text": [
            "Статистика Хи-квадрат: 4.761904761904762\n",
            "p-значение: 0.31261122859368184\n",
            "Степени свободы: 4\n",
            "Принимаем H0\n"
          ]
        }
      ],
      "source": [
        "chi2, p, dof, ex = stats.chi2_contingency(contingency_table)\n",
        "\n",
        "print(\"Статистика Хи-квадрат:\", chi2)\n",
        "print(\"p-значение:\", p)\n",
        "print(\"Степени свободы:\", dof)\n",
        "\n",
        "if p < 0.05:\n",
        "    print(\"отвергаем H0\")\n",
        "else:\n",
        "    print(\"Принимаем H0\")\n"
      ]
    },
    {
      "cell_type": "markdown",
      "metadata": {
        "id": "ge8IrGQhBAb5"
      },
      "source": [
        "Задание 5"
      ]
    },
    {
      "cell_type": "code",
      "execution_count": null,
      "metadata": {
        "colab": {
          "base_uri": "https://localhost:8080/"
        },
        "id": "VWi6v9Q-nXYi",
        "outputId": "d9f00090-5bf5-4ba2-c9e7-81811ad49812"
      },
      "outputs": [
        {
          "data": {
            "text/plain": [
              "((3, 10), (30, 30))"
            ]
          },
          "execution_count": 38,
          "metadata": {},
          "output_type": "execute_result"
        }
      ],
      "source": [
        "np.shape(vec), np.shape(M)"
      ]
    },
    {
      "cell_type": "code",
      "execution_count": null,
      "metadata": {
        "id": "UUq9vxXVfwS2"
      },
      "outputs": [],
      "source": [
        "vec_reshaped = vec.reshape(30, 1)"
      ]
    },
    {
      "cell_type": "code",
      "execution_count": null,
      "metadata": {
        "colab": {
          "base_uri": "https://localhost:8080/"
        },
        "collapsed": true,
        "id": "lyOY2knYf8FA",
        "outputId": "c2b60151-21af-4af3-adc3-6f345c8035d3"
      },
      "outputs": [
        {
          "data": {
            "text/plain": [
              "array([[ 994],\n",
              "       [ 771],\n",
              "       [1172],\n",
              "       [ 890],\n",
              "       [1063],\n",
              "       [1010],\n",
              "       [ 898],\n",
              "       [1054],\n",
              "       [ 785],\n",
              "       [ 941],\n",
              "       [1023],\n",
              "       [ 914],\n",
              "       [1066],\n",
              "       [ 956],\n",
              "       [1013],\n",
              "       [1007],\n",
              "       [1059],\n",
              "       [1149],\n",
              "       [ 904],\n",
              "       [1106],\n",
              "       [ 952],\n",
              "       [ 924],\n",
              "       [1025],\n",
              "       [1090],\n",
              "       [ 982],\n",
              "       [ 965],\n",
              "       [1152],\n",
              "       [1140],\n",
              "       [ 970],\n",
              "       [1177]])"
            ]
          },
          "execution_count": 40,
          "metadata": {},
          "output_type": "execute_result"
        }
      ],
      "source": [
        "np.matmul(M, vec_reshaped)"
      ]
    },
    {
      "cell_type": "code",
      "execution_count": null,
      "metadata": {
        "colab": {
          "base_uri": "https://localhost:8080/"
        },
        "id": "h59yBX3RphAx",
        "outputId": "a6fb45ad-05f1-4521-f75a-91ac78f3314f"
      },
      "outputs": [
        {
          "data": {
            "text/plain": [
              "-2.4892041587781155e+30"
            ]
          },
          "execution_count": 42,
          "metadata": {},
          "output_type": "execute_result"
        }
      ],
      "source": [
        "np.linalg.det(M)"
      ]
    },
    {
      "cell_type": "code",
      "execution_count": null,
      "metadata": {
        "colab": {
          "base_uri": "https://localhost:8080/"
        },
        "id": "RJ-DWj8i0KO2",
        "outputId": "110699cc-bfc1-4f50-8d02-b8f96ee28db6"
      },
      "outputs": [
        {
          "data": {
            "text/plain": [
              "array([[436, 407, 342],\n",
              "       [407, 448, 315],\n",
              "       [342, 315, 402]])"
            ]
          },
          "execution_count": 43,
          "metadata": {},
          "output_type": "execute_result"
        }
      ],
      "source": [
        "vec @ vec.T"
      ]
    },
    {
      "cell_type": "code",
      "execution_count": null,
      "metadata": {
        "colab": {
          "base_uri": "https://localhost:8080/"
        },
        "id": "nrVfda8dBdFc",
        "outputId": "3ac52c40-a1c3-4382-82e3-0e637c72bed5"
      },
      "outputs": [
        {
          "data": {
            "text/plain": [
              "array([[436, 407, 342],\n",
              "       [407, 448, 315],\n",
              "       [342, 315, 402]])"
            ]
          },
          "execution_count": 44,
          "metadata": {},
          "output_type": "execute_result"
        }
      ],
      "source": [
        "np.dot(vec, vec.T)"
      ]
    },
    {
      "cell_type": "code",
      "execution_count": null,
      "metadata": {
        "colab": {
          "base_uri": "https://localhost:8080/"
        },
        "collapsed": true,
        "id": "0vCFqfT2BRCq",
        "outputId": "90d01aec-c9a8-42b9-f1da-69362009cbf8"
      },
      "outputs": [
        {
          "data": {
            "text/plain": [
              "array([[-1.18929099],\n",
              "       [-2.34136456],\n",
              "       [ 0.81067944],\n",
              "       [ 0.48919644],\n",
              "       [-0.85380327],\n",
              "       [ 3.07626436],\n",
              "       [ 0.24002415],\n",
              "       [-1.20938951],\n",
              "       [ 0.69105262],\n",
              "       [ 3.49336482],\n",
              "       [ 1.96158548],\n",
              "       [ 0.56310905],\n",
              "       [ 0.05144862],\n",
              "       [-1.84961102],\n",
              "       [-1.95555959],\n",
              "       [-1.49480067],\n",
              "       [-0.09155494],\n",
              "       [ 0.42667733],\n",
              "       [-3.6119695 ],\n",
              "       [-0.23889344],\n",
              "       [-0.28193873],\n",
              "       [ 0.32494705],\n",
              "       [-2.19798572],\n",
              "       [ 3.32972695],\n",
              "       [-0.77891775],\n",
              "       [-0.18354884],\n",
              "       [-0.29216964],\n",
              "       [ 0.52193858],\n",
              "       [ 1.86986314],\n",
              "       [ 2.70784761]])"
            ]
          },
          "execution_count": 45,
          "metadata": {},
          "output_type": "execute_result"
        }
      ],
      "source": [
        "np.linalg.solve(M, vec_reshaped)"
      ]
    },
    {
      "cell_type": "code",
      "execution_count": null,
      "metadata": {
        "id": "BqBw88LqgeRq"
      },
      "outputs": [],
      "source": [
        "v, w = np.linalg.eig(M)"
      ]
    },
    {
      "cell_type": "markdown",
      "metadata": {
        "id": "PcH-M2TtiH_o"
      },
      "source": [
        "Задание 6"
      ]
    },
    {
      "cell_type": "code",
      "execution_count": 1,
      "metadata": {
        "id": "MxNBr1E5iBvb"
      },
      "outputs": [],
      "source": [
        "from PIL import Image\n",
        "import numpy as np\n",
        "import scipy.stats as sts\n",
        "import matplotlib.pyplot as plt"
      ]
    },
    {
      "cell_type": "code",
      "execution_count": 2,
      "metadata": {
        "colab": {
          "base_uri": "https://localhost:8080/"
        },
        "id": "RLeHtPqviC7J",
        "outputId": "e89f1356-527d-41c9-88d8-e69e28b703f6"
      },
      "outputs": [
        {
          "data": {
            "text/plain": [
              "(688, 516, 4)"
            ]
          },
          "execution_count": 2,
          "metadata": {},
          "output_type": "execute_result"
        }
      ],
      "source": [
        "fst_img = Image.open('data/pic1.png')\n",
        "fst_img_arr = np.array(fst_img)\n",
        "np.shape(fst_img_arr)"
      ]
    },
    {
      "cell_type": "code",
      "execution_count": 3,
      "metadata": {
        "colab": {
          "base_uri": "https://localhost:8080/"
        },
        "id": "ypfco8nVjixB",
        "outputId": "8741c8ce-1543-4168-fc19-ed38595c6160"
      },
      "outputs": [
        {
          "data": {
            "text/plain": [
              "(688, 516, 4)"
            ]
          },
          "execution_count": 3,
          "metadata": {},
          "output_type": "execute_result"
        }
      ],
      "source": [
        "scnd_img = Image.open('data/pic2.png')\n",
        "scnd_img_arr = np.array(scnd_img)\n",
        "np.shape(scnd_img_arr)"
      ]
    },
    {
      "cell_type": "code",
      "execution_count": 4,
      "metadata": {
        "colab": {
          "base_uri": "https://localhost:8080/"
        },
        "id": "IFe27fQip5qU",
        "outputId": "e6bb730f-a629-44a8-92ef-a4dee6315c6a"
      },
      "outputs": [
        {
          "data": {
            "text/plain": [
              "126161.61403533169"
            ]
          },
          "execution_count": 4,
          "metadata": {},
          "output_type": "execute_result"
        }
      ],
      "source": [
        "dist = np.linalg.norm(scnd_img_arr - fst_img_arr)\n",
        "dist"
      ]
    },
    {
      "cell_type": "code",
      "execution_count": 5,
      "metadata": {
        "id": "rbqP3mAsqYcX"
      },
      "outputs": [],
      "source": [
        "def pca(data, n_components):\n",
        "  mean = np.mean(data, axis=0)\n",
        "  centered_data = data - mean\n",
        "\n",
        "  covariance_matrix = np.cov(centered_data, rowvar=False)\n",
        "\n",
        "  eigenvalues, eigenvectors = np.linalg.eigh(covariance_matrix)\n",
        "  sorted_indices = np.argsort(eigenvalues)[::-1]\n",
        "\n",
        "  print(sorted_indices, eigenvalues[sorted_indices])\n",
        "\n",
        "  sorted_eigenvalues = eigenvalues[sorted_indices]\n",
        "  print(f\"sorted eigenvalues = {sorted_eigenvalues}\")\n",
        "  sorted_eigenvectors = eigenvectors[:, sorted_indices]\n",
        "  print(f\"sorted eigenvectors = {sorted_eigenvectors}\")\n",
        "\n",
        "  selected_eigenvectors = sorted_eigenvectors[:, :n_components]\n",
        "  print(f\"selected = {selected_eigenvectors}\")\n",
        "\n",
        "  transformed_data = np.dot(centered_data, selected_eigenvectors)\n",
        "\n",
        "  return transformed_data, sorted_eigenvalues, selected_eigenvectors"
      ]
    },
    {
      "cell_type": "code",
      "execution_count": 6,
      "metadata": {
        "colab": {
          "base_uri": "https://localhost:8080/"
        },
        "id": "hzMcuLRcQlP6",
        "outputId": "5378bc4e-f233-4bb2-bf9b-9e6d3ef32f92"
      },
      "outputs": [
        {
          "name": "stdout",
          "output_type": "stream",
          "text": [
            "(355008, 4)\n",
            "[3 2 1 0] [1.60568289e+04 2.50856372e+02 3.64061317e+01 1.90776291e+00]\n",
            "sorted eigenvalues = [1.60568289e+04 2.50856372e+02 3.64061317e+01 1.90776291e+00]\n",
            "sorted eigenvectors = [[-0.57353529  0.00676958 -0.78257565 -0.24204708]\n",
            " [-0.58223962 -0.00187348  0.18158701  0.79247692]\n",
            " [-0.57622993  0.00149677  0.59546534 -0.55980162]\n",
            " [ 0.00365436  0.99997421  0.00474676  0.00396124]]\n",
            "selected = [[-0.57353529  0.00676958 -0.78257565]\n",
            " [-0.58223962 -0.00187348  0.18158701]\n",
            " [-0.57622993  0.00149677  0.59546534]\n",
            " [ 0.00365436  0.99997421  0.00474676]]\n",
            "[[ -55.12986965 -253.81610373   -2.04264619]\n",
            " [ -68.05404749    1.22846302   -0.87640916]\n",
            " [ -62.85803295    1.20928441   -0.85983925]\n",
            " ...\n",
            " [ -63.41892843    1.21561909    2.3553021 ]\n",
            " [ -63.41892843    1.21561909    2.3553021 ]\n",
            " [ -64.35078937 -253.7778047     1.14487865]]\n"
          ]
        }
      ],
      "source": [
        "flattened_pic = scnd_img_arr.reshape(-1, 4)\n",
        "print(np.shape(flattened_pic))\n",
        "\n",
        "new_pic, eigenvalues, eigenvectors = pca(flattened_pic, n_components=3)\n",
        "\n",
        "print(new_pic)"
      ]
    },
    {
      "cell_type": "code",
      "execution_count": null,
      "metadata": {
        "colab": {
          "base_uri": "https://localhost:8080/"
        },
        "id": "_DxCYuYUWNqJ",
        "outputId": "1fd54bb6-cceb-4066-fce4-5a1cdbfd1fe0"
      },
      "outputs": [
        {
          "data": {
            "text/plain": [
              "(355008, 3)"
            ]
          },
          "execution_count": 8,
          "metadata": {},
          "output_type": "execute_result"
        }
      ],
      "source": [
        "np.shape(new_pic)"
      ]
    },
    {
      "cell_type": "code",
      "execution_count": null,
      "metadata": {
        "id": "10zfmf76WT0l"
      },
      "outputs": [],
      "source": [
        "new_pic = new_pic.reshape(688, 516, 3)"
      ]
    },
    {
      "cell_type": "code",
      "execution_count": null,
      "metadata": {
        "colab": {
          "base_uri": "https://localhost:8080/",
          "height": 470
        },
        "id": "zV6w4kG8Joom",
        "outputId": "055b7cf1-be25-48dd-e5ab-2aa250a6e49c"
      },
      "outputs": [
        {
          "name": "stderr",
          "output_type": "stream",
          "text": [
            "WARNING:matplotlib.image:Clipping input data to the valid range for imshow with RGB data ([0..1] for floats or [0..255] for integers).\n"
          ]
        },
        {
          "data": {
            "text/plain": [
              "<matplotlib.image.AxesImage at 0x7d2a7ab02500>"
            ]
          },
          "execution_count": 10,
          "metadata": {},
          "output_type": "execute_result"
        },
        {
          "data": {
            "image/png": "[encoded data removed]",
            "text/plain": [
              "<Figure size 640x480 with 1 Axes>"
            ]
          },
          "metadata": {},
          "output_type": "display_data"
        }
      ],
      "source": [
        "plt.imshow(new_pic)"
      ]
    },
    {
      "cell_type": "code",
      "execution_count": null,
      "metadata": {
        "id": "ArpX-aiHMW8O"
      },
      "outputs": [],
      "source": [
        "from sklearn.cluster import KMeans"
      ]
    },
    {
      "cell_type": "code",
      "execution_count": null,
      "metadata": {
        "id": "BwmxU_du88-U"
      },
      "outputs": [],
      "source": [
        "pixels = fst_img_arr.reshape(-1, 4)\n",
        "\n",
        "kmeans = KMeans(n_clusters=2)\n",
        "kmeans.fit(pixels)\n",
        "new_pic2 = kmeans.labels_.reshape(scnd_img_arr.shape[:2])"
      ]
    },
    {
      "cell_type": "code",
      "execution_count": null,
      "metadata": {
        "colab": {
          "base_uri": "https://localhost:8080/",
          "height": 452
        },
        "id": "egN2M_Cq89z9",
        "outputId": "4669fd79-a2d4-48b8-d265-90c30c0560b2"
      },
      "outputs": [
        {
          "data": {
            "text/plain": [
              "<matplotlib.image.AxesImage at 0x7a056d4c8820>"
            ]
          },
          "execution_count": 117,
          "metadata": {},
          "output_type": "execute_result"
        },
        {
          "data": {
            "image/png": "[encoded data removed]",
            "text/plain": [
              "<Figure size 640x480 with 1 Axes>"
            ]
          },
          "metadata": {},
          "output_type": "display_data"
        }
      ],
      "source": [
        "plt.imshow(new_pic2, cmap='grey')"
      ]
    },
    {
      "cell_type": "code",
      "execution_count": null,
      "metadata": {
        "colab": {
          "base_uri": "https://localhost:8080/",
          "height": 226
        },
        "id": "dPDrCws1JzRB",
        "outputId": "b540e63e-7ca1-4e39-f04e-b82ada52c24b"
      },
      "outputs": [
        {
          "name": "stdout",
          "output_type": "stream",
          "text": [
            "Most common color = [239 238 245 255]\n"
          ]
        },
        {
          "data": {
            "text/plain": [
              "(-0.5, 0.5, 0.5, -0.5)"
            ]
          },
          "execution_count": 103,
          "metadata": {},
          "output_type": "execute_result"
        },
        {
          "data": {
            "image/png": "[encoded data removed]",
            "text/plain": [
              "<Figure size 200x200 with 1 Axes>"
            ]
          },
          "metadata": {},
          "output_type": "display_data"
        }
      ],
      "source": [
        "common_color = sts.mode(pixels, axis=0)[0]\n",
        "print(f\"Most common color = {common_color}\")\n",
        "\n",
        "plt.figure(figsize=(2, 2))\n",
        "plt.imshow([[common_color]])\n",
        "plt.axis('off')"
      ]
    },
    {
      "cell_type": "code",
      "execution_count": null,
      "metadata": {
        "id": "ab6oIY1WBPPB"
      },
      "outputs": [],
      "source": [
        "class KalmanFilter(object):\n",
        "    def __init__(self, F = None, B = None, H = None, Q = None, R = None, P = None, x0 = None):\n",
        "\n",
        "        if(F is None or H is None):\n",
        "            raise ValueError(\"Set proper system dynamics.\")\n",
        "\n",
        "        self.n = F.shape[1]\n",
        "        self.m = H.shape[1]\n",
        "\n",
        "        self.F = F\n",
        "        self.H = H\n",
        "        self.B = 0 if B is None else B\n",
        "        self.Q = np.eye(self.n) if Q is None else Q\n",
        "        self.R = np.eye(self.n) if R is None else R\n",
        "        self.P = np.eye(self.n) if P is None else P\n",
        "        self.x = np.zeros((self.n, 1)) if x0 is None else x0\n",
        "\n",
        "    def predict(self, u = 0):\n",
        "        self.x = np.dot(self.F, self.x) + np.dot(self.B, u)\n",
        "        self.P = np.dot(np.dot(self.F, self.P), self.F.T) + self.Q\n",
        "        return self.x\n",
        "\n",
        "    def update(self, z):\n",
        "        y = z - np.dot(self.H, self.x)\n",
        "        S = self.R + np.dot(self.H, np.dot(self.P, self.H.T))\n",
        "        K = np.dot(np.dot(self.P, self.H.T), np.linalg.inv(S))\n",
        "        self.x = self.x + np.dot(K, y)\n",
        "        I = np.eye(self.n)\n",
        "        self.P = np.dot(np.dot(I - np.dot(K, self.H), self.P),\n",
        "        \t(I - np.dot(K, self.H)).T) + np.dot(np.dot(K, self.R), K.T)"
      ]
    },
    {
      "cell_type": "code",
      "execution_count": null,
      "metadata": {
        "id": "oI6Tgzggf0QQ"
      },
      "outputs": [],
      "source": [
        "def example(img):\n",
        "  h, w, c = img.shape\n",
        "  filtered_image = np.zeros_like(img)\n",
        "\n",
        "  F = np.eye(c)\n",
        "  H = np.array([5, 0, 0, 0]).reshape(1, 4)\n",
        "  Q = np.eye(c)\n",
        "  R = np.array([5]).reshape(1, 1)\n",
        "  predictions = []\n",
        "  for i in range(c):\n",
        "    kf = KalmanFilter(F = F, H = H, Q = Q, R = R)\n",
        "    for j in range(h):\n",
        "        for k in range(w):\n",
        "            #z = np.array([image[j, k, i]]).reshape(-1, 1)\n",
        "            predictions.append(np.dot(H,  kf.predict())[0])\n",
        "            kf.predict()\n",
        "            kf.update(img[j, k, i].reshape(-1, 1))\n",
        "            filtered_image[j, k, i] = kf.x[0]\n",
        "  return filtered_image.astype(np.uint8)"
      ]
    },
    {
      "cell_type": "code",
      "execution_count": null,
      "metadata": {
        "colab": {
          "base_uri": "https://localhost:8080/"
        },
        "id": "mwjvDqOoFOvy",
        "outputId": "4ff04d16-6962-46db-c218-f03d753d17c3"
      },
      "outputs": [
        {
          "name": "stderr",
          "output_type": "stream",
          "text": [
            "<ipython-input-65-bda574abdedf>:18: DeprecationWarning: Conversion of an array with ndim > 0 to a scalar is deprecated, and will error in future. Ensure you extract a single element from your array before performing this operation. (Deprecated NumPy 1.25.)\n",
            "  filtered_image[j, k, i] = kf.x[0]\n"
          ]
        }
      ],
      "source": [
        "pred1 = example(scnd_img_arr)"
      ]
    },
    {
      "cell_type": "code",
      "execution_count": null,
      "metadata": {
        "colab": {
          "base_uri": "https://localhost:8080/",
          "height": 452
        },
        "id": "_Mus7pJJFSEn",
        "outputId": "554e77c8-8d95-4015-8598-41117c588f22"
      },
      "outputs": [
        {
          "data": {
            "text/plain": [
              "<matplotlib.image.AxesImage at 0x7a05896316c0>"
            ]
          },
          "execution_count": 67,
          "metadata": {},
          "output_type": "execute_result"
        },
        {
          "data": {
            "image/png": "[encoded data removed]",
            "text/plain": [
              "<Figure size 640x480 with 1 Axes>"
            ]
          },
          "metadata": {},
          "output_type": "display_data"
        }
      ],
      "source": [
        "plt.imshow(pred1)"
      ]
    },
    {
      "cell_type": "code",
      "execution_count": null,
      "metadata": {
        "id": "2dzGYp7LeP1K"
      },
      "outputs": [],
      "source": []
    }
  ],
  "metadata": {
    "colab": {
      "provenance": []
    },
    "kernelspec": {
      "display_name": "geo_env_clone",
      "language": "python",
      "name": "python3"
    },
    "language_info": {
      "codemirror_mode": {
        "name": "ipython",
        "version": 3
      },
      "file_extension": ".py",
      "mimetype": "text/x-python",
      "name": "python",
      "nbconvert_exporter": "python",
      "pygments_lexer": "ipython3",
      "version": "3.9.18"
    }
  },
  "nbformat": 4,
  "nbformat_minor": 0
}
