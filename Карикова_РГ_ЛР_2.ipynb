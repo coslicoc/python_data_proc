{
  "cells": [
    {
      "cell_type": "code",
      "execution_count": 1,
      "metadata": {
        "id": "aFaxYmvrvowY"
      },
      "outputs": [],
      "source": [
        "import sqlite3\n",
        "import pandas as pd\n",
        "import re\n",
        "import numpy as np\n",
        "import matplotlib.pyplot as plt"
      ]
    },
    {
      "cell_type": "code",
      "execution_count": 4,
      "metadata": {},
      "outputs": [],
      "source": [
        "with open('data/test1.csv','rb') as f:\n",
        "  test1 = f.readlines()\n",
        "\n",
        "with open('data/test2.csv','rb') as f:\n",
        "  test2 = f.readlines()\n",
        "\n",
        "with open('data/test3.db','rb') as f:\n",
        "  test3 = f.readlines()"
      ]
    },
    {
      "cell_type": "code",
      "execution_count": 5,
      "metadata": {
        "collapsed": true,
        "id": "jaK9TK7zwJVa"
      },
      "outputs": [],
      "source": [
        "con = sqlite3.connect('data/test3.db')\n",
        "#con.execute('select * from vacancies').fetchall()"
      ]
    },
    {
      "cell_type": "markdown",
      "metadata": {
        "id": "LhR5qQSZF7sy"
      },
      "source": [
        "Выгрузим БД в датафрейм"
      ]
    },
    {
      "cell_type": "code",
      "execution_count": 6,
      "metadata": {
        "colab": {
          "base_uri": "https://localhost:8080/"
        },
        "id": "aMVDFvgzTRV4",
        "outputId": "4a5cc220-a0fc-443b-ff25-55a807f824fa"
      },
      "outputs": [
        {
          "name": "stdout",
          "output_type": "stream",
          "text": [
            "<class 'pandas.core.frame.DataFrame'>\n",
            "RangeIndex: 1000 entries, 0 to 999\n",
            "Data columns (total 9 columns):\n",
            " #   Column        Non-Null Count  Dtype \n",
            "---  ------        --------------  ----- \n",
            " 0   id            1000 non-null   object\n",
            " 1   название      1000 non-null   object\n",
            " 2   опыт'         1000 non-null   object\n",
            " 3   занятость     1000 non-null   object\n",
            " 4   зп            1000 non-null   object\n",
            " 5   работодатель  1000 non-null   object\n",
            " 6   регион        1000 non-null   object\n",
            " 7   описание      1000 non-null   object\n",
            " 8   навыки        1000 non-null   object\n",
            "dtypes: object(9)\n",
            "memory usage: 70.4+ KB\n",
            "None\n"
          ]
        }
      ],
      "source": [
        "df = pd.read_sql('select * from vacancies', con)\n",
        "print(df.info())"
      ]
    },
    {
      "cell_type": "markdown",
      "metadata": {
        "id": "6IJ-rVx1GE8q"
      },
      "source": [
        "Создадим столбец со средним значением лет опыта"
      ]
    },
    {
      "cell_type": "code",
      "execution_count": null,
      "metadata": {
        "colab": {
          "base_uri": "https://localhost:8080/"
        },
        "id": "Tph1SUBJTRZT",
        "outputId": "98e3c63c-7a02-4667-c8e2-563b9838ce61"
      },
      "outputs": [
        {
          "name": "stdout",
          "output_type": "stream",
          "text": [
            "<class 'pandas.core.frame.DataFrame'>\n",
            "RangeIndex: 1000 entries, 0 to 999\n",
            "Data columns (total 9 columns):\n",
            " #   Column        Non-Null Count  Dtype \n",
            "---  ------        --------------  ----- \n",
            " 0   id            1000 non-null   object\n",
            " 1   название      1000 non-null   object\n",
            " 2   опыт'         1000 non-null   object\n",
            " 3   занятость     1000 non-null   object\n",
            " 4   зп            1000 non-null   object\n",
            " 5   работодатель  1000 non-null   object\n",
            " 6   регион        1000 non-null   object\n",
            " 7   описание      1000 non-null   object\n",
            " 8   навыки        1000 non-null   object\n",
            "dtypes: object(9)\n",
            "memory usage: 70.4+ KB\n",
            "None\n"
          ]
        }
      ],
      "source": [
        "exp=dict(zip(df[\"опыт'\"].unique(),[2, 6, 4.5, 0, 0]))\n",
        "df.loc[:,\"опыт'\"]=df[\"опыт'\"].map(exp).values\n",
        "print(df.info())"
      ]
    },
    {
      "cell_type": "code",
      "execution_count": null,
      "metadata": {
        "colab": {
          "base_uri": "https://localhost:8080/",
          "height": 658
        },
        "collapsed": true,
        "id": "QK0S6TqS1AhR",
        "outputId": "db3ffb71-8668-48a3-fada-5af7211384a3"
      },
      "outputs": [
        {
          "data": {
            "application/vnd.google.colaboratory.intrinsic+json": {
              "repr_error": "0",
              "type": "dataframe"
            },
            "text/html": [
              "\n",
              "  <div id=\"df-0595c49e-e45f-4f57-883c-b0f108bbc0c2\" class=\"colab-df-container\">\n",
              "    <div>\n",
              "<style scoped>\n",
              "    .dataframe tbody tr th:only-of-type {\n",
              "        vertical-align: middle;\n",
              "    }\n",
              "\n",
              "    .dataframe tbody tr th {\n",
              "        vertical-align: top;\n",
              "    }\n",
              "\n",
              "    .dataframe thead th {\n",
              "        text-align: right;\n",
              "    }\n",
              "</style>\n",
              "<table border=\"1\" class=\"dataframe\">\n",
              "  <thead>\n",
              "    <tr style=\"text-align: right;\">\n",
              "      <th></th>\n",
              "      <th>id</th>\n",
              "      <th>название</th>\n",
              "      <th>опыт'</th>\n",
              "      <th>занятость</th>\n",
              "      <th>зп</th>\n",
              "      <th>работодатель</th>\n",
              "      <th>регион</th>\n",
              "      <th>описание</th>\n",
              "      <th>навыки</th>\n",
              "    </tr>\n",
              "  </thead>\n",
              "  <tbody>\n",
              "    <tr>\n",
              "      <th>10</th>\n",
              "      <td>77432078</td>\n",
              "      <td>Frontend-разработчик</td>\n",
              "      <td>4.5</td>\n",
              "      <td>Полная занятость, полный день</td>\n",
              "      <td>з/п не указана</td>\n",
              "      <td>ТОО НОВА ПЕЙМЕНТ</td>\n",
              "      <td>Усть-Каменогорск</td>\n",
              "      <td>Frontend разработчик - web программист (Junior...</td>\n",
              "      <td>[]</td>\n",
              "    </tr>\n",
              "    <tr>\n",
              "      <th>11</th>\n",
              "      <td>77344822</td>\n",
              "      <td>ML - разработчик (Разработчик машинного обучения)</td>\n",
              "      <td>6.0</td>\n",
              "      <td>Полная занятость, удаленная работа</td>\n",
              "      <td>от 7 000 до 10 000 USD до вычета налогов</td>\n",
              "      <td>Wayy</td>\n",
              "      <td>США</td>\n",
              "      <td>We are looking for Machine Learning developers...</td>\n",
              "      <td>['English', 'Анализ данных', 'machine learning...</td>\n",
              "    </tr>\n",
              "    <tr>\n",
              "      <th>12</th>\n",
              "      <td>77373213</td>\n",
              "      <td>Младший Бэкэнд разработчик (Junior Backend Dev...</td>\n",
              "      <td>0.0</td>\n",
              "      <td>Полная занятость, полный день</td>\n",
              "      <td>до 130 000 руб. до вычета налогов</td>\n",
              "      <td>Геограком</td>\n",
              "      <td></td>\n",
              "      <td>Обязанности:  программирование на Go и/или C++...</td>\n",
              "      <td>['PostgreSQL', 'C++', 'Алгоритмы и структуры д...</td>\n",
              "    </tr>\n",
              "    <tr>\n",
              "      <th>13</th>\n",
              "      <td>77524072</td>\n",
              "      <td>Junior+ Backend Разработчик</td>\n",
              "      <td>2.0</td>\n",
              "      <td>Полная занятость, удаленная работа</td>\n",
              "      <td>от 100 000 руб. на руки</td>\n",
              "      <td>Вспорте</td>\n",
              "      <td></td>\n",
              "      <td>О компании Vsporte — один из лидеров на рынке ...</td>\n",
              "      <td>['Git', 'ООП', 'C#', 'Backend', 'Алгоритмы', '...</td>\n",
              "    </tr>\n",
              "    <tr>\n",
              "      <th>14</th>\n",
              "      <td>72567973</td>\n",
              "      <td>Программист-разработчик игр (Junior)</td>\n",
              "      <td>0.0</td>\n",
              "      <td>Полная занятость, гибкий график</td>\n",
              "      <td>от 1 000 до 2 000 USD на руки</td>\n",
              "      <td>ООО ГравиЛинк</td>\n",
              "      <td></td>\n",
              "      <td>Мы расширяем свою gamedev-команду и ищем заинт...</td>\n",
              "      <td>['Информационные технологии', 'Разработка комп...</td>\n",
              "    </tr>\n",
              "    <tr>\n",
              "      <th>15</th>\n",
              "      <td>77070727</td>\n",
              "      <td>Стажер-разработчик программного обеспечения</td>\n",
              "      <td>0.0</td>\n",
              "      <td>Стажировка, полный день</td>\n",
              "      <td>от 41 000 руб. на руки</td>\n",
              "      <td>ООО Сибирские интеграционные системы</td>\n",
              "      <td></td>\n",
              "      <td>Привет! Для начала мы хотим рассказать несколь...</td>\n",
              "      <td>['SQL', 'Java', 'Английский язык', 'ООП', 'Баз...</td>\n",
              "    </tr>\n",
              "    <tr>\n",
              "      <th>16</th>\n",
              "      <td>77650733</td>\n",
              "      <td>Python разработчик</td>\n",
              "      <td>6.0</td>\n",
              "      <td>Полная занятость, удаленная работа</td>\n",
              "      <td>от 100 000 до 200 000 руб. до вычета налогов</td>\n",
              "      <td>ООО АТРАКС ТРЕЙД</td>\n",
              "      <td></td>\n",
              "      <td>Приглашаем в команду Python разработчика на фу...</td>\n",
              "      <td>['Python', 'Django Framework', 'PostgreSQL', '...</td>\n",
              "    </tr>\n",
              "    <tr>\n",
              "      <th>17</th>\n",
              "      <td>77471199</td>\n",
              "      <td>Go разработчик</td>\n",
              "      <td>4.5</td>\n",
              "      <td>Полная занятость, удаленная работа</td>\n",
              "      <td>до 400 000 руб. на руки</td>\n",
              "      <td>WeMakeTeam</td>\n",
              "      <td>Москва</td>\n",
              "      <td>Мы аккредитованная IT компания WeMakeTeam и ищ...</td>\n",
              "      <td>['Go', 'Golang', 'Microservices', 'Kafka', 'My...</td>\n",
              "    </tr>\n",
              "    <tr>\n",
              "      <th>18</th>\n",
              "      <td>76661659</td>\n",
              "      <td>Backend программист (SPRING)</td>\n",
              "      <td>6.0</td>\n",
              "      <td>Полная занятость, удаленная работа</td>\n",
              "      <td>от 2 500 до 5 500 EUR до вычета налогов</td>\n",
              "      <td>Analytics Company</td>\n",
              "      <td></td>\n",
              "      <td>Полная занятость, удаленная работа Наш коллект...</td>\n",
              "      <td>['Spring Framework', 'Java', 'JUnit', 'Git', '...</td>\n",
              "    </tr>\n",
              "    <tr>\n",
              "      <th>19</th>\n",
              "      <td>77695893</td>\n",
              "      <td>Веб-разработчик (junior)</td>\n",
              "      <td>2.0</td>\n",
              "      <td>Полная занятость, полный день</td>\n",
              "      <td>от 35 000 до 55 000 руб. до вычета налогов</td>\n",
              "      <td>ООО Лаборатория Интернет</td>\n",
              "      <td></td>\n",
              "      <td>В нашем активном и профессиональном коллективе...</td>\n",
              "      <td>['HTML', 'CSS', 'Деловое общение', 'Грамотная ...</td>\n",
              "    </tr>\n",
              "  </tbody>\n",
              "</table>\n",
              "</div>\n",
              "    <div class=\"colab-df-buttons\">\n",
              "\n",
              "  <div class=\"colab-df-container\">\n",
              "    <button class=\"colab-df-convert\" onclick=\"convertToInteractive('df-0595c49e-e45f-4f57-883c-b0f108bbc0c2')\"\n",
              "            title=\"Convert this dataframe to an interactive table.\"\n",
              "            style=\"display:none;\">\n",
              "\n",
              "  <svg xmlns=\"http://www.w3.org/2000/svg\" height=\"24px\" viewBox=\"0 -960 960 960\">\n",
              "    <path d=\"M120-120v-720h720v720H120Zm60-500h600v-160H180v160Zm220 220h160v-160H400v160Zm0 220h160v-160H400v160ZM180-400h160v-160H180v160Zm440 0h160v-160H620v160ZM180-180h160v-160H180v160Zm440 0h160v-160H620v160Z\"/>\n",
              "  </svg>\n",
              "    </button>\n",
              "\n",
              "  <style>\n",
              "    .colab-df-container {\n",
              "      display:flex;\n",
              "      gap: 12px;\n",
              "    }\n",
              "\n",
              "    .colab-df-convert {\n",
              "      background-color: #E8F0FE;\n",
              "      border: none;\n",
              "      border-radius: 50%;\n",
              "      cursor: pointer;\n",
              "      display: none;\n",
              "      fill: #1967D2;\n",
              "      height: 32px;\n",
              "      padding: 0 0 0 0;\n",
              "      width: 32px;\n",
              "    }\n",
              "\n",
              "    .colab-df-convert:hover {\n",
              "      background-color: #E2EBFA;\n",
              "      box-shadow: 0px 1px 2px rgba(60, 64, 67, 0.3), 0px 1px 3px 1px rgba(60, 64, 67, 0.15);\n",
              "      fill: #174EA6;\n",
              "    }\n",
              "\n",
              "    .colab-df-buttons div {\n",
              "      margin-bottom: 4px;\n",
              "    }\n",
              "\n",
              "    [theme=dark] .colab-df-convert {\n",
              "      background-color: #3B4455;\n",
              "      fill: #D2E3FC;\n",
              "    }\n",
              "\n",
              "    [theme=dark] .colab-df-convert:hover {\n",
              "      background-color: #434B5C;\n",
              "      box-shadow: 0px 1px 3px 1px rgba(0, 0, 0, 0.15);\n",
              "      filter: drop-shadow(0px 1px 2px rgba(0, 0, 0, 0.3));\n",
              "      fill: #FFFFFF;\n",
              "    }\n",
              "  </style>\n",
              "\n",
              "    <script>\n",
              "      const buttonEl =\n",
              "        document.querySelector('#df-0595c49e-e45f-4f57-883c-b0f108bbc0c2 button.colab-df-convert');\n",
              "      buttonEl.style.display =\n",
              "        google.colab.kernel.accessAllowed ? 'block' : 'none';\n",
              "\n",
              "      async function convertToInteractive(key) {\n",
              "        const element = document.querySelector('#df-0595c49e-e45f-4f57-883c-b0f108bbc0c2');\n",
              "        const dataTable =\n",
              "          await google.colab.kernel.invokeFunction('convertToInteractive',\n",
              "                                                    [key], {});\n",
              "        if (!dataTable) return;\n",
              "\n",
              "        const docLinkHtml = 'Like what you see? Visit the ' +\n",
              "          '<a target=\"_blank\" href=https://colab.research.google.com/notebooks/data_table.ipynb>data table notebook</a>'\n",
              "          + ' to learn more about interactive tables.';\n",
              "        element.innerHTML = '';\n",
              "        dataTable['output_type'] = 'display_data';\n",
              "        await google.colab.output.renderOutput(dataTable, element);\n",
              "        const docLink = document.createElement('div');\n",
              "        docLink.innerHTML = docLinkHtml;\n",
              "        element.appendChild(docLink);\n",
              "      }\n",
              "    </script>\n",
              "  </div>\n",
              "\n",
              "\n",
              "<div id=\"df-85ae203b-2447-4d69-96f4-50d92e6bf01a\">\n",
              "  <button class=\"colab-df-quickchart\" onclick=\"quickchart('df-85ae203b-2447-4d69-96f4-50d92e6bf01a')\"\n",
              "            title=\"Suggest charts\"\n",
              "            style=\"display:none;\">\n",
              "\n",
              "<svg xmlns=\"http://www.w3.org/2000/svg\" height=\"24px\"viewBox=\"0 0 24 24\"\n",
              "     width=\"24px\">\n",
              "    <g>\n",
              "        <path d=\"M19 3H5c-1.1 0-2 .9-2 2v14c0 1.1.9 2 2 2h14c1.1 0 2-.9 2-2V5c0-1.1-.9-2-2-2zM9 17H7v-7h2v7zm4 0h-2V7h2v10zm4 0h-2v-4h2v4z\"/>\n",
              "    </g>\n",
              "</svg>\n",
              "  </button>\n",
              "\n",
              "<style>\n",
              "  .colab-df-quickchart {\n",
              "      --bg-color: #E8F0FE;\n",
              "      --fill-color: #1967D2;\n",
              "      --hover-bg-color: #E2EBFA;\n",
              "      --hover-fill-color: #174EA6;\n",
              "      --disabled-fill-color: #AAA;\n",
              "      --disabled-bg-color: #DDD;\n",
              "  }\n",
              "\n",
              "  [theme=dark] .colab-df-quickchart {\n",
              "      --bg-color: #3B4455;\n",
              "      --fill-color: #D2E3FC;\n",
              "      --hover-bg-color: #434B5C;\n",
              "      --hover-fill-color: #FFFFFF;\n",
              "      --disabled-bg-color: #3B4455;\n",
              "      --disabled-fill-color: #666;\n",
              "  }\n",
              "\n",
              "  .colab-df-quickchart {\n",
              "    background-color: var(--bg-color);\n",
              "    border: none;\n",
              "    border-radius: 50%;\n",
              "    cursor: pointer;\n",
              "    display: none;\n",
              "    fill: var(--fill-color);\n",
              "    height: 32px;\n",
              "    padding: 0;\n",
              "    width: 32px;\n",
              "  }\n",
              "\n",
              "  .colab-df-quickchart:hover {\n",
              "    background-color: var(--hover-bg-color);\n",
              "    box-shadow: 0 1px 2px rgba(60, 64, 67, 0.3), 0 1px 3px 1px rgba(60, 64, 67, 0.15);\n",
              "    fill: var(--button-hover-fill-color);\n",
              "  }\n",
              "\n",
              "  .colab-df-quickchart-complete:disabled,\n",
              "  .colab-df-quickchart-complete:disabled:hover {\n",
              "    background-color: var(--disabled-bg-color);\n",
              "    fill: var(--disabled-fill-color);\n",
              "    box-shadow: none;\n",
              "  }\n",
              "\n",
              "  .colab-df-spinner {\n",
              "    border: 2px solid var(--fill-color);\n",
              "    border-color: transparent;\n",
              "    border-bottom-color: var(--fill-color);\n",
              "    animation:\n",
              "      spin 1s steps(1) infinite;\n",
              "  }\n",
              "\n",
              "  @keyframes spin {\n",
              "    0% {\n",
              "      border-color: transparent;\n",
              "      border-bottom-color: var(--fill-color);\n",
              "      border-left-color: var(--fill-color);\n",
              "    }\n",
              "    20% {\n",
              "      border-color: transparent;\n",
              "      border-left-color: var(--fill-color);\n",
              "      border-top-color: var(--fill-color);\n",
              "    }\n",
              "    30% {\n",
              "      border-color: transparent;\n",
              "      border-left-color: var(--fill-color);\n",
              "      border-top-color: var(--fill-color);\n",
              "      border-right-color: var(--fill-color);\n",
              "    }\n",
              "    40% {\n",
              "      border-color: transparent;\n",
              "      border-right-color: var(--fill-color);\n",
              "      border-top-color: var(--fill-color);\n",
              "    }\n",
              "    60% {\n",
              "      border-color: transparent;\n",
              "      border-right-color: var(--fill-color);\n",
              "    }\n",
              "    80% {\n",
              "      border-color: transparent;\n",
              "      border-right-color: var(--fill-color);\n",
              "      border-bottom-color: var(--fill-color);\n",
              "    }\n",
              "    90% {\n",
              "      border-color: transparent;\n",
              "      border-bottom-color: var(--fill-color);\n",
              "    }\n",
              "  }\n",
              "</style>\n",
              "\n",
              "  <script>\n",
              "    async function quickchart(key) {\n",
              "      const quickchartButtonEl =\n",
              "        document.querySelector('#' + key + ' button');\n",
              "      quickchartButtonEl.disabled = true;  // To prevent multiple clicks.\n",
              "      quickchartButtonEl.classList.add('colab-df-spinner');\n",
              "      try {\n",
              "        const charts = await google.colab.kernel.invokeFunction(\n",
              "            'suggestCharts', [key], {});\n",
              "      } catch (error) {\n",
              "        console.error('Error during call to suggestCharts:', error);\n",
              "      }\n",
              "      quickchartButtonEl.classList.remove('colab-df-spinner');\n",
              "      quickchartButtonEl.classList.add('colab-df-quickchart-complete');\n",
              "    }\n",
              "    (() => {\n",
              "      let quickchartButtonEl =\n",
              "        document.querySelector('#df-85ae203b-2447-4d69-96f4-50d92e6bf01a button');\n",
              "      quickchartButtonEl.style.display =\n",
              "        google.colab.kernel.accessAllowed ? 'block' : 'none';\n",
              "    })();\n",
              "  </script>\n",
              "</div>\n",
              "    </div>\n",
              "  </div>\n"
            ],
            "text/plain": [
              "          id                                           название опыт'  \\\n",
              "10  77432078                               Frontend-разработчик   4.5   \n",
              "11  77344822  ML - разработчик (Разработчик машинного обучения)   6.0   \n",
              "12  77373213  Младший Бэкэнд разработчик (Junior Backend Dev...   0.0   \n",
              "13  77524072                        Junior+ Backend Разработчик   2.0   \n",
              "14  72567973               Программист-разработчик игр (Junior)   0.0   \n",
              "15  77070727        Стажер-разработчик программного обеспечения   0.0   \n",
              "16  77650733                                 Python разработчик   6.0   \n",
              "17  77471199                                     Go разработчик   4.5   \n",
              "18  76661659                       Backend программист (SPRING)   6.0   \n",
              "19  77695893                           Веб-разработчик (junior)   2.0   \n",
              "\n",
              "                             занятость  \\\n",
              "10       Полная занятость, полный день   \n",
              "11  Полная занятость, удаленная работа   \n",
              "12       Полная занятость, полный день   \n",
              "13  Полная занятость, удаленная работа   \n",
              "14     Полная занятость, гибкий график   \n",
              "15             Стажировка, полный день   \n",
              "16  Полная занятость, удаленная работа   \n",
              "17  Полная занятость, удаленная работа   \n",
              "18  Полная занятость, удаленная работа   \n",
              "19       Полная занятость, полный день   \n",
              "\n",
              "                                              зп  \\\n",
              "10                                з/п не указана   \n",
              "11      от 7 000 до 10 000 USD до вычета налогов   \n",
              "12             до 130 000 руб. до вычета налогов   \n",
              "13                       от 100 000 руб. на руки   \n",
              "14                 от 1 000 до 2 000 USD на руки   \n",
              "15                        от 41 000 руб. на руки   \n",
              "16  от 100 000 до 200 000 руб. до вычета налогов   \n",
              "17                       до 400 000 руб. на руки   \n",
              "18       от 2 500 до 5 500 EUR до вычета налогов   \n",
              "19    от 35 000 до 55 000 руб. до вычета налогов   \n",
              "\n",
              "                            работодатель            регион  \\\n",
              "10                      ТОО НОВА ПЕЙМЕНТ  Усть-Каменогорск   \n",
              "11                                  Wayy               США   \n",
              "12                             Геограком                     \n",
              "13                               Вспорте                     \n",
              "14                         ООО ГравиЛинк                     \n",
              "15  ООО Сибирские интеграционные системы                     \n",
              "16                      ООО АТРАКС ТРЕЙД                     \n",
              "17                            WeMakeTeam            Москва   \n",
              "18                     Analytics Company                     \n",
              "19              ООО Лаборатория Интернет                     \n",
              "\n",
              "                                             описание  \\\n",
              "10  Frontend разработчик - web программист (Junior...   \n",
              "11  We are looking for Machine Learning developers...   \n",
              "12  Обязанности:  программирование на Go и/или C++...   \n",
              "13  О компании Vsporte — один из лидеров на рынке ...   \n",
              "14  Мы расширяем свою gamedev-команду и ищем заинт...   \n",
              "15  Привет! Для начала мы хотим рассказать несколь...   \n",
              "16  Приглашаем в команду Python разработчика на фу...   \n",
              "17  Мы аккредитованная IT компания WeMakeTeam и ищ...   \n",
              "18  Полная занятость, удаленная работа Наш коллект...   \n",
              "19  В нашем активном и профессиональном коллективе...   \n",
              "\n",
              "                                               навыки  \n",
              "10                                                 []  \n",
              "11  ['English', 'Анализ данных', 'machine learning...  \n",
              "12  ['PostgreSQL', 'C++', 'Алгоритмы и структуры д...  \n",
              "13  ['Git', 'ООП', 'C#', 'Backend', 'Алгоритмы', '...  \n",
              "14  ['Информационные технологии', 'Разработка комп...  \n",
              "15  ['SQL', 'Java', 'Английский язык', 'ООП', 'Баз...  \n",
              "16  ['Python', 'Django Framework', 'PostgreSQL', '...  \n",
              "17  ['Go', 'Golang', 'Microservices', 'Kafka', 'My...  \n",
              "18  ['Spring Framework', 'Java', 'JUnit', 'Git', '...  \n",
              "19  ['HTML', 'CSS', 'Деловое общение', 'Грамотная ...  "
            ]
          },
          "execution_count": 7,
          "metadata": {},
          "output_type": "execute_result"
        }
      ],
      "source": [
        "df[10:20]"
      ]
    },
    {
      "cell_type": "markdown",
      "metadata": {
        "id": "Kn4ZWUzxGTSM"
      },
      "source": [
        "Создадим столбец со средним значением зарплат в рублях"
      ]
    },
    {
      "cell_type": "code",
      "execution_count": null,
      "metadata": {
        "id": "wph1-WWh2E0t"
      },
      "outputs": [],
      "source": [
        "def currency(curr_value, mean_val):\n",
        "    rates = {'EUR': 101.28, 'USD': 91.14, 'CNY': 12.78, 'KZT': 19.79}\n",
        "    return mean_val * rates.get(curr_value, 1)\n",
        "\n",
        "def get_salary(sal):\n",
        "  sal_list = []\n",
        "\n",
        "  for s in sal:\n",
        "    mean_sal = 0\n",
        "    counter = 0\n",
        "    numbers = re.findall(r'(\\d+\\s\\d+)', s)\n",
        "    numbers = [int(num.replace('\\xa0', '')) for num in numbers]\n",
        "\n",
        "    if numbers == []:\n",
        "      sal_list.append(np.nan)\n",
        "      continue\n",
        "\n",
        "    for num in numbers:\n",
        "      counter += 1\n",
        "      mean_sal += num\n",
        "    mean_sal /= counter\n",
        "\n",
        "    curr = re.findall(r'USD|KZT|EUR|CNY', s)\n",
        "    if curr != []:\n",
        "      mean_sal = currency(curr[0], mean_sal)\n",
        "\n",
        "    tax = re.findall(r'gross|на руки|до вычета', s)\n",
        "    if tax != []:\n",
        "      mean_sal *= 0.87\n",
        "    sal_list.append(mean_sal)\n",
        "  print(len(sal_list))\n",
        "\n",
        "  return sal_list\n"
      ]
    },
    {
      "cell_type": "code",
      "execution_count": null,
      "metadata": {
        "colab": {
          "base_uri": "https://localhost:8080/"
        },
        "id": "GQ2Ur1jd2GP6",
        "outputId": "1147d518-f253-45bd-dc8b-477a990b97b2"
      },
      "outputs": [
        {
          "name": "stdout",
          "output_type": "stream",
          "text": [
            "1000\n",
            "0      False\n",
            "1      False\n",
            "2      False\n",
            "3      False\n",
            "4      False\n",
            "       ...  \n",
            "995    False\n",
            "996    False\n",
            "997    False\n",
            "998    False\n",
            "999    False\n",
            "Name: sal, Length: 1000, dtype: bool\n"
          ]
        }
      ],
      "source": [
        "sal_list = get_salary(df['зп'])\n",
        "df['sal'] = sal_list\n",
        "df['sal'] = df['sal'].fillna(df['sal'].median()) #медиану соседей?\n",
        "\n",
        "print(np.isnan(df['sal']))"
      ]
    },
    {
      "cell_type": "code",
      "execution_count": null,
      "metadata": {
        "colab": {
          "base_uri": "https://localhost:8080/",
          "height": 423
        },
        "id": "iI-gfq2n1Ani",
        "outputId": "572fc9f0-7c8c-49c8-845e-db62ccfc4d47"
      },
      "outputs": [
        {
          "data": {
            "application/vnd.google.colaboratory.intrinsic+json": {
              "summary": "{\n  \"name\": \"df[['sal',\\\"\\u043e\\u043f\\u044b\\u0442'\\\"]]\",\n  \"rows\": 1000,\n  \"fields\": [\n    {\n      \"column\": \"sal\",\n      \"properties\": {\n        \"dtype\": \"number\",\n        \"std\": 1103364.6043510863,\n        \"min\": 1044.0,\n        \"max\": 13773840.0,\n        \"num_unique_values\": 151,\n        \"samples\": [\n          91350.0,\n          4304325.0,\n          66990.0\n        ],\n        \"semantic_type\": \"\",\n        \"description\": \"\"\n      }\n    },\n    {\n      \"column\": \"\\u043e\\u043f\\u044b\\u0442'\",\n      \"properties\": {\n        \"dtype\": \"date\",\n        \"min\": 0.0,\n        \"max\": 6.0,\n        \"num_unique_values\": 4,\n        \"samples\": [\n          6.0,\n          0.0,\n          2.0\n        ],\n        \"semantic_type\": \"\",\n        \"description\": \"\"\n      }\n    }\n  ]\n}",
              "type": "dataframe"
            },
            "text/html": [
              "\n",
              "  <div id=\"df-b4649b58-9167-4f6d-9ccf-0d8b1fbb11ea\" class=\"colab-df-container\">\n",
              "    <div>\n",
              "<style scoped>\n",
              "    .dataframe tbody tr th:only-of-type {\n",
              "        vertical-align: middle;\n",
              "    }\n",
              "\n",
              "    .dataframe tbody tr th {\n",
              "        vertical-align: top;\n",
              "    }\n",
              "\n",
              "    .dataframe thead th {\n",
              "        text-align: right;\n",
              "    }\n",
              "</style>\n",
              "<table border=\"1\" class=\"dataframe\">\n",
              "  <thead>\n",
              "    <tr style=\"text-align: right;\">\n",
              "      <th></th>\n",
              "      <th>sal</th>\n",
              "      <th>опыт'</th>\n",
              "    </tr>\n",
              "  </thead>\n",
              "  <tbody>\n",
              "    <tr>\n",
              "      <th>0</th>\n",
              "      <td>261000.0</td>\n",
              "      <td>2.0</td>\n",
              "    </tr>\n",
              "    <tr>\n",
              "      <th>1</th>\n",
              "      <td>9469515.0</td>\n",
              "      <td>6.0</td>\n",
              "    </tr>\n",
              "    <tr>\n",
              "      <th>2</th>\n",
              "      <td>121800.0</td>\n",
              "      <td>2.0</td>\n",
              "    </tr>\n",
              "    <tr>\n",
              "      <th>3</th>\n",
              "      <td>282750.0</td>\n",
              "      <td>4.5</td>\n",
              "    </tr>\n",
              "    <tr>\n",
              "      <th>4</th>\n",
              "      <td>121800.0</td>\n",
              "      <td>4.5</td>\n",
              "    </tr>\n",
              "    <tr>\n",
              "      <th>...</th>\n",
              "      <td>...</td>\n",
              "      <td>...</td>\n",
              "    </tr>\n",
              "    <tr>\n",
              "      <th>995</th>\n",
              "      <td>121800.0</td>\n",
              "      <td>4.5</td>\n",
              "    </tr>\n",
              "    <tr>\n",
              "      <th>996</th>\n",
              "      <td>121800.0</td>\n",
              "      <td>4.5</td>\n",
              "    </tr>\n",
              "    <tr>\n",
              "      <th>997</th>\n",
              "      <td>130500.0</td>\n",
              "      <td>4.5</td>\n",
              "    </tr>\n",
              "    <tr>\n",
              "      <th>998</th>\n",
              "      <td>121800.0</td>\n",
              "      <td>2.0</td>\n",
              "    </tr>\n",
              "    <tr>\n",
              "      <th>999</th>\n",
              "      <td>147900.0</td>\n",
              "      <td>2.0</td>\n",
              "    </tr>\n",
              "  </tbody>\n",
              "</table>\n",
              "<p>1000 rows × 2 columns</p>\n",
              "</div>\n",
              "    <div class=\"colab-df-buttons\">\n",
              "\n",
              "  <div class=\"colab-df-container\">\n",
              "    <button class=\"colab-df-convert\" onclick=\"convertToInteractive('df-b4649b58-9167-4f6d-9ccf-0d8b1fbb11ea')\"\n",
              "            title=\"Convert this dataframe to an interactive table.\"\n",
              "            style=\"display:none;\">\n",
              "\n",
              "  <svg xmlns=\"http://www.w3.org/2000/svg\" height=\"24px\" viewBox=\"0 -960 960 960\">\n",
              "    <path d=\"M120-120v-720h720v720H120Zm60-500h600v-160H180v160Zm220 220h160v-160H400v160Zm0 220h160v-160H400v160ZM180-400h160v-160H180v160Zm440 0h160v-160H620v160ZM180-180h160v-160H180v160Zm440 0h160v-160H620v160Z\"/>\n",
              "  </svg>\n",
              "    </button>\n",
              "\n",
              "  <style>\n",
              "    .colab-df-container {\n",
              "      display:flex;\n",
              "      gap: 12px;\n",
              "    }\n",
              "\n",
              "    .colab-df-convert {\n",
              "      background-color: #E8F0FE;\n",
              "      border: none;\n",
              "      border-radius: 50%;\n",
              "      cursor: pointer;\n",
              "      display: none;\n",
              "      fill: #1967D2;\n",
              "      height: 32px;\n",
              "      padding: 0 0 0 0;\n",
              "      width: 32px;\n",
              "    }\n",
              "\n",
              "    .colab-df-convert:hover {\n",
              "      background-color: #E2EBFA;\n",
              "      box-shadow: 0px 1px 2px rgba(60, 64, 67, 0.3), 0px 1px 3px 1px rgba(60, 64, 67, 0.15);\n",
              "      fill: #174EA6;\n",
              "    }\n",
              "\n",
              "    .colab-df-buttons div {\n",
              "      margin-bottom: 4px;\n",
              "    }\n",
              "\n",
              "    [theme=dark] .colab-df-convert {\n",
              "      background-color: #3B4455;\n",
              "      fill: #D2E3FC;\n",
              "    }\n",
              "\n",
              "    [theme=dark] .colab-df-convert:hover {\n",
              "      background-color: #434B5C;\n",
              "      box-shadow: 0px 1px 3px 1px rgba(0, 0, 0, 0.15);\n",
              "      filter: drop-shadow(0px 1px 2px rgba(0, 0, 0, 0.3));\n",
              "      fill: #FFFFFF;\n",
              "    }\n",
              "  </style>\n",
              "\n",
              "    <script>\n",
              "      const buttonEl =\n",
              "        document.querySelector('#df-b4649b58-9167-4f6d-9ccf-0d8b1fbb11ea button.colab-df-convert');\n",
              "      buttonEl.style.display =\n",
              "        google.colab.kernel.accessAllowed ? 'block' : 'none';\n",
              "\n",
              "      async function convertToInteractive(key) {\n",
              "        const element = document.querySelector('#df-b4649b58-9167-4f6d-9ccf-0d8b1fbb11ea');\n",
              "        const dataTable =\n",
              "          await google.colab.kernel.invokeFunction('convertToInteractive',\n",
              "                                                    [key], {});\n",
              "        if (!dataTable) return;\n",
              "\n",
              "        const docLinkHtml = 'Like what you see? Visit the ' +\n",
              "          '<a target=\"_blank\" href=https://colab.research.google.com/notebooks/data_table.ipynb>data table notebook</a>'\n",
              "          + ' to learn more about interactive tables.';\n",
              "        element.innerHTML = '';\n",
              "        dataTable['output_type'] = 'display_data';\n",
              "        await google.colab.output.renderOutput(dataTable, element);\n",
              "        const docLink = document.createElement('div');\n",
              "        docLink.innerHTML = docLinkHtml;\n",
              "        element.appendChild(docLink);\n",
              "      }\n",
              "    </script>\n",
              "  </div>\n",
              "\n",
              "\n",
              "<div id=\"df-3bb18e0c-f661-413d-a5dc-607b1e0c14c7\">\n",
              "  <button class=\"colab-df-quickchart\" onclick=\"quickchart('df-3bb18e0c-f661-413d-a5dc-607b1e0c14c7')\"\n",
              "            title=\"Suggest charts\"\n",
              "            style=\"display:none;\">\n",
              "\n",
              "<svg xmlns=\"http://www.w3.org/2000/svg\" height=\"24px\"viewBox=\"0 0 24 24\"\n",
              "     width=\"24px\">\n",
              "    <g>\n",
              "        <path d=\"M19 3H5c-1.1 0-2 .9-2 2v14c0 1.1.9 2 2 2h14c1.1 0 2-.9 2-2V5c0-1.1-.9-2-2-2zM9 17H7v-7h2v7zm4 0h-2V7h2v10zm4 0h-2v-4h2v4z\"/>\n",
              "    </g>\n",
              "</svg>\n",
              "  </button>\n",
              "\n",
              "<style>\n",
              "  .colab-df-quickchart {\n",
              "      --bg-color: #E8F0FE;\n",
              "      --fill-color: #1967D2;\n",
              "      --hover-bg-color: #E2EBFA;\n",
              "      --hover-fill-color: #174EA6;\n",
              "      --disabled-fill-color: #AAA;\n",
              "      --disabled-bg-color: #DDD;\n",
              "  }\n",
              "\n",
              "  [theme=dark] .colab-df-quickchart {\n",
              "      --bg-color: #3B4455;\n",
              "      --fill-color: #D2E3FC;\n",
              "      --hover-bg-color: #434B5C;\n",
              "      --hover-fill-color: #FFFFFF;\n",
              "      --disabled-bg-color: #3B4455;\n",
              "      --disabled-fill-color: #666;\n",
              "  }\n",
              "\n",
              "  .colab-df-quickchart {\n",
              "    background-color: var(--bg-color);\n",
              "    border: none;\n",
              "    border-radius: 50%;\n",
              "    cursor: pointer;\n",
              "    display: none;\n",
              "    fill: var(--fill-color);\n",
              "    height: 32px;\n",
              "    padding: 0;\n",
              "    width: 32px;\n",
              "  }\n",
              "\n",
              "  .colab-df-quickchart:hover {\n",
              "    background-color: var(--hover-bg-color);\n",
              "    box-shadow: 0 1px 2px rgba(60, 64, 67, 0.3), 0 1px 3px 1px rgba(60, 64, 67, 0.15);\n",
              "    fill: var(--button-hover-fill-color);\n",
              "  }\n",
              "\n",
              "  .colab-df-quickchart-complete:disabled,\n",
              "  .colab-df-quickchart-complete:disabled:hover {\n",
              "    background-color: var(--disabled-bg-color);\n",
              "    fill: var(--disabled-fill-color);\n",
              "    box-shadow: none;\n",
              "  }\n",
              "\n",
              "  .colab-df-spinner {\n",
              "    border: 2px solid var(--fill-color);\n",
              "    border-color: transparent;\n",
              "    border-bottom-color: var(--fill-color);\n",
              "    animation:\n",
              "      spin 1s steps(1) infinite;\n",
              "  }\n",
              "\n",
              "  @keyframes spin {\n",
              "    0% {\n",
              "      border-color: transparent;\n",
              "      border-bottom-color: var(--fill-color);\n",
              "      border-left-color: var(--fill-color);\n",
              "    }\n",
              "    20% {\n",
              "      border-color: transparent;\n",
              "      border-left-color: var(--fill-color);\n",
              "      border-top-color: var(--fill-color);\n",
              "    }\n",
              "    30% {\n",
              "      border-color: transparent;\n",
              "      border-left-color: var(--fill-color);\n",
              "      border-top-color: var(--fill-color);\n",
              "      border-right-color: var(--fill-color);\n",
              "    }\n",
              "    40% {\n",
              "      border-color: transparent;\n",
              "      border-right-color: var(--fill-color);\n",
              "      border-top-color: var(--fill-color);\n",
              "    }\n",
              "    60% {\n",
              "      border-color: transparent;\n",
              "      border-right-color: var(--fill-color);\n",
              "    }\n",
              "    80% {\n",
              "      border-color: transparent;\n",
              "      border-right-color: var(--fill-color);\n",
              "      border-bottom-color: var(--fill-color);\n",
              "    }\n",
              "    90% {\n",
              "      border-color: transparent;\n",
              "      border-bottom-color: var(--fill-color);\n",
              "    }\n",
              "  }\n",
              "</style>\n",
              "\n",
              "  <script>\n",
              "    async function quickchart(key) {\n",
              "      const quickchartButtonEl =\n",
              "        document.querySelector('#' + key + ' button');\n",
              "      quickchartButtonEl.disabled = true;  // To prevent multiple clicks.\n",
              "      quickchartButtonEl.classList.add('colab-df-spinner');\n",
              "      try {\n",
              "        const charts = await google.colab.kernel.invokeFunction(\n",
              "            'suggestCharts', [key], {});\n",
              "      } catch (error) {\n",
              "        console.error('Error during call to suggestCharts:', error);\n",
              "      }\n",
              "      quickchartButtonEl.classList.remove('colab-df-spinner');\n",
              "      quickchartButtonEl.classList.add('colab-df-quickchart-complete');\n",
              "    }\n",
              "    (() => {\n",
              "      let quickchartButtonEl =\n",
              "        document.querySelector('#df-3bb18e0c-f661-413d-a5dc-607b1e0c14c7 button');\n",
              "      quickchartButtonEl.style.display =\n",
              "        google.colab.kernel.accessAllowed ? 'block' : 'none';\n",
              "    })();\n",
              "  </script>\n",
              "</div>\n",
              "    </div>\n",
              "  </div>\n"
            ],
            "text/plain": [
              "           sal опыт'\n",
              "0     261000.0   2.0\n",
              "1    9469515.0   6.0\n",
              "2     121800.0   2.0\n",
              "3     282750.0   4.5\n",
              "4     121800.0   4.5\n",
              "..         ...   ...\n",
              "995   121800.0   4.5\n",
              "996   121800.0   4.5\n",
              "997   130500.0   4.5\n",
              "998   121800.0   2.0\n",
              "999   147900.0   2.0\n",
              "\n",
              "[1000 rows x 2 columns]"
            ]
          },
          "execution_count": 10,
          "metadata": {},
          "output_type": "execute_result"
        }
      ],
      "source": [
        "df[['sal',\"опыт'\"]]"
      ]
    },
    {
      "cell_type": "markdown",
      "metadata": {
        "id": "tmdZimVRHz0E"
      },
      "source": [
        "Приведем столбец с названиями городов к виду, удобному для дальнешей раблты (уберем лишние уточнения, оставив только название города)"
      ]
    },
    {
      "cell_type": "code",
      "execution_count": null,
      "metadata": {
        "id": "9gVmNDdFj6yb"
      },
      "outputs": [],
      "source": [
        "df['city'] = df['регион'].str.split(',').str[0].str.strip()"
      ]
    },
    {
      "cell_type": "code",
      "execution_count": null,
      "metadata": {
        "colab": {
          "base_uri": "https://localhost:8080/",
          "height": 489
        },
        "id": "jjFD3rL9_Gcm",
        "outputId": "81c4cd4e-4d32-41ce-ded2-39cc595354ad"
      },
      "outputs": [
        {
          "data": {
            "text/html": [
              "<div>\n",
              "<style scoped>\n",
              "    .dataframe tbody tr th:only-of-type {\n",
              "        vertical-align: middle;\n",
              "    }\n",
              "\n",
              "    .dataframe tbody tr th {\n",
              "        vertical-align: top;\n",
              "    }\n",
              "\n",
              "    .dataframe thead th {\n",
              "        text-align: right;\n",
              "    }\n",
              "</style>\n",
              "<table border=\"1\" class=\"dataframe\">\n",
              "  <thead>\n",
              "    <tr style=\"text-align: right;\">\n",
              "      <th></th>\n",
              "      <th>count</th>\n",
              "    </tr>\n",
              "    <tr>\n",
              "      <th>city</th>\n",
              "      <th></th>\n",
              "    </tr>\n",
              "  </thead>\n",
              "  <tbody>\n",
              "    <tr>\n",
              "      <th></th>\n",
              "      <td>566</td>\n",
              "    </tr>\n",
              "    <tr>\n",
              "      <th>Москва</th>\n",
              "      <td>207</td>\n",
              "    </tr>\n",
              "    <tr>\n",
              "      <th>Санкт-Петербург</th>\n",
              "      <td>45</td>\n",
              "    </tr>\n",
              "    <tr>\n",
              "      <th>Екатеринбург</th>\n",
              "      <td>16</td>\n",
              "    </tr>\n",
              "    <tr>\n",
              "      <th>Алматы</th>\n",
              "      <td>15</td>\n",
              "    </tr>\n",
              "    <tr>\n",
              "      <th>...</th>\n",
              "      <td>...</td>\n",
              "    </tr>\n",
              "    <tr>\n",
              "      <th>Нижний Тагил</th>\n",
              "      <td>1</td>\n",
              "    </tr>\n",
              "    <tr>\n",
              "      <th>Гомель</th>\n",
              "      <td>1</td>\n",
              "    </tr>\n",
              "    <tr>\n",
              "      <th>Новочеркасск</th>\n",
              "      <td>1</td>\n",
              "    </tr>\n",
              "    <tr>\n",
              "      <th>Брянск</th>\n",
              "      <td>1</td>\n",
              "    </tr>\n",
              "    <tr>\n",
              "      <th>Ростов-на-Дону</th>\n",
              "      <td>1</td>\n",
              "    </tr>\n",
              "  </tbody>\n",
              "</table>\n",
              "<p>63 rows × 1 columns</p>\n",
              "</div><br><label><b>dtype:</b> int64</label>"
            ],
            "text/plain": [
              "city\n",
              "                   566\n",
              "Москва             207\n",
              "Санкт-Петербург     45\n",
              "Екатеринбург        16\n",
              "Алматы              15\n",
              "                  ... \n",
              "Нижний Тагил         1\n",
              "Гомель               1\n",
              "Новочеркасск         1\n",
              "Брянск               1\n",
              "Ростов-на-Дону       1\n",
              "Name: count, Length: 63, dtype: int64"
            ]
          },
          "execution_count": 12,
          "metadata": {},
          "output_type": "execute_result"
        }
      ],
      "source": [
        "df['city'].value_counts()"
      ]
    },
    {
      "cell_type": "markdown",
      "metadata": {
        "id": "oI4qdC_-IHoO"
      },
      "source": [
        "Оставим только те регионы, которые имеют больше 5 вакансий\n"
      ]
    },
    {
      "cell_type": "code",
      "execution_count": null,
      "metadata": {
        "colab": {
          "base_uri": "https://localhost:8080/"
        },
        "collapsed": true,
        "id": "0EakHJV86kdp",
        "outputId": "183de193-2f11-4ef6-dc1d-3bc80a38ece4"
      },
      "outputs": [
        {
          "name": "stdout",
          "output_type": "stream",
          "text": [
            "Index(['', 'Москва', 'Санкт-Петербург', 'Екатеринбург', 'Алматы',\n",
            "       'Новосибирск', 'Астана', 'Казань', 'Нижний Новгород', 'Томск'],\n",
            "      dtype='object', name='регион')\n"
          ]
        }
      ],
      "source": [
        "region_counts = df['регион'].value_counts()\n",
        "regions_to_keep = region_counts[region_counts > 5].index\n",
        "print(regions_to_keep)\n",
        "filtered_df = df[df['регион'].isin(regions_to_keep)]"
      ]
    },
    {
      "cell_type": "markdown",
      "metadata": {
        "id": "uURvwCVgHnOg"
      },
      "source": [
        "Построим ящик с усами по зп в разрезе региона\n"
      ]
    },
    {
      "cell_type": "code",
      "execution_count": null,
      "metadata": {
        "id": "aWo5w4Hry29g"
      },
      "outputs": [],
      "source": [
        "def boxplot_city(city_name, df):\n",
        "  plt.figure(figsize=(8, 6))\n",
        "  plt.boxplot(df[df['регион'] == city_name]['sal'])\n",
        "  plt.title(f'Ящик с усами в разрезе зп в городе {city_name}')\n",
        "  plt.xlabel('City')\n",
        "  plt.ylabel('Salary')"
      ]
    },
    {
      "cell_type": "code",
      "execution_count": null,
      "metadata": {
        "colab": {
          "base_uri": "https://localhost:8080/",
          "height": 564
        },
        "id": "eDHPgD5si7lU",
        "outputId": "b1c11da8-4e1f-4790-8ec9-ccb2000b75f3"
      },
      "outputs": [
        {
          "data": {
            "image/png": "[encoded data removed]",
            "text/plain": [
              "<Figure size 800x600 with 1 Axes>"
            ]
          },
          "metadata": {},
          "output_type": "display_data"
        }
      ],
      "source": [
        "boxplot_city(\"Москва\", df)"
      ]
    },
    {
      "cell_type": "code",
      "execution_count": null,
      "metadata": {
        "colab": {
          "base_uri": "https://localhost:8080/",
          "height": 564
        },
        "id": "ydOvS0o0jF4v",
        "outputId": "9e37c28e-f442-4571-ce7d-9f742cb9216a"
      },
      "outputs": [
        {
          "data": {
            "image/png": "[encoded data removed]",
            "text/plain": [
              "<Figure size 800x600 with 1 Axes>"
            ]
          },
          "metadata": {},
          "output_type": "display_data"
        }
      ],
      "source": [
        "boxplot_city(\"Санкт-Петербург\", df)"
      ]
    },
    {
      "cell_type": "code",
      "execution_count": null,
      "metadata": {
        "colab": {
          "base_uri": "https://localhost:8080/",
          "height": 564
        },
        "id": "EHnJxY04gdEX",
        "outputId": "8bd6d832-dbbf-4b70-c51b-a617f6460e8b"
      },
      "outputs": [
        {
          "data": {
            "image/png": "[encoded data removed]",
            "text/plain": [
              "<Figure size 800x600 with 1 Axes>"
            ]
          },
          "metadata": {},
          "output_type": "display_data"
        }
      ],
      "source": [
        "boxplot_city(\"Екатеринбург\", df)"
      ]
    },
    {
      "cell_type": "code",
      "execution_count": null,
      "metadata": {
        "colab": {
          "base_uri": "https://localhost:8080/",
          "height": 564
        },
        "id": "nseeXHUyjiSB",
        "outputId": "3a73ffc1-751f-473e-d8ce-0e8d2b41c5f9"
      },
      "outputs": [
        {
          "data": {
            "image/png": "[encoded data removed]",
            "text/plain": [
              "<Figure size 800x600 with 1 Axes>"
            ]
          },
          "metadata": {},
          "output_type": "display_data"
        }
      ],
      "source": [
        "boxplot_city(\"Казань\", df)"
      ]
    },
    {
      "cell_type": "code",
      "execution_count": null,
      "metadata": {
        "colab": {
          "base_uri": "https://localhost:8080/",
          "height": 564
        },
        "id": "Ne42_pUMjovv",
        "outputId": "7a11fbe7-eba6-44b0-8a98-e808d1ece98e"
      },
      "outputs": [
        {
          "data": {
            "image/png": "[encoded data removed]",
            "text/plain": [
              "<Figure size 800x600 with 1 Axes>"
            ]
          },
          "metadata": {},
          "output_type": "display_data"
        }
      ],
      "source": [
        "boxplot_city(\"Новосибирск\", df)"
      ]
    },
    {
      "cell_type": "code",
      "execution_count": null,
      "metadata": {
        "colab": {
          "base_uri": "https://localhost:8080/"
        },
        "collapsed": true,
        "id": "7tfxDA3B5bVm",
        "outputId": "19da57f6-8427-4b07-c84e-92589322a918"
      },
      "outputs": [
        {
          "name": "stdout",
          "output_type": "stream",
          "text": [
            "0      ['Работа в команде', 'Информационная безопасно...\n",
            "1      ['Laravel', 'HTML/CSS', 'Bitrix', 'Wordpress',...\n",
            "2      ['JavaScript', 'ASP.NET', 'AngularJS', 'C#', '...\n",
            "3                  ['Git', 'MySQL', 'PHP', 'ООП', 'Yii']\n",
            "4                                                     []\n",
            "                             ...                        \n",
            "995              ['PHP', 'MySQL', 'Git', 'Linux', 'SQL']\n",
            "996                 ['Linux Kernel Space', 'C', 'Linux']\n",
            "997    ['PostgreSQL', 'SQL', 'MS SQL', 'Английский\\xa...\n",
            "998    ['Zerocoding', 'No-Code', 'Зерокодер', 'Разраб...\n",
            "999    ['yii2', 'MySQL', 'jQuery', 'API', 'web-разраб...\n",
            "Name: навыки, Length: 1000, dtype: object\n",
            "[\"['Работа в команде', 'Информационная безопасность', 'Базы данных', 'Безопасность', 'Опытный пользователь ПК', 'Соблюдение сроков', 'Внедрение систем информационной безопасности', 'Внешний аудит информационных систем', 'Внутренний аудит информационных систем', 'Выявление каналов утечки информации', 'Информационные технологии']\"\n",
            " \"['Laravel', 'HTML/CSS', 'Bitrix', 'Wordpress', 'Yandex Maps API', 'Умение работать в условиях многозадачности', 'Visual Studio Code', 'JavaScript', 'jQuery', 'PHP', 'HTML', 'MySQL', 'Git', 'HTML5', 'PHP5', 'Python', 'CMS Wordpress', 'Java', 'CSS', 'SQL', 'CSS3', 'PostgreSQL', 'Работа в команде', 'Английский\\\\xa0— C1 — Продвинутый']\"\n",
            " \"['JavaScript', 'ASP.NET', 'AngularJS', 'C#', 'MVC', 'MS SQL', 'HTML', 'CSS']\"\n",
            " \"['Git', 'MySQL', 'PHP', 'ООП', 'Yii']\" '[]'\n",
            " \"['Английский язык', '.NET Framework', 'C#', 'MS SQL', 'ASP.NET', 'Scrum']\"\n",
            " \"['.NET Framework', 'C#', 'Angular', 'React native', 'TypeScript', 'HTML', 'CSS', 'Git', 'Английский\\\\xa0— A2 — Элементарный']\"\n",
            " \"['Разработка инструкций', 'ООП', 'Apache Karaf', 'Apache Camel', 'Apache Cassandra', 'Java', 'Стремление к профессиональному развитию', 'Architecture']\"\n",
            " \"['English', 'Анализ данных', 'machine learning', 'Английский\\\\xa0— B2 — Средне-продвинутый']\"\n",
            " \"['PostgreSQL', 'C++', 'Алгоритмы и структуры данных', 'Mathematical Programming']\"\n",
            " \"['Git', 'ООП', 'C#', 'Backend', 'Алгоритмы', 'Entity Framework', 'Atlassian Jira', 'Работа в команде', '.NET Framework']\"\n",
            " \"['Информационные технологии', 'Разработка компьютерных Игр', 'Английский\\\\xa0— A2 — Элементарный']\"\n",
            " \"['SQL', 'Java', 'Английский язык', 'ООП', 'Базы данных']\"\n",
            " \"['Python', 'Django Framework', 'PostgreSQL', 'Git', 'Английский язык']\"\n",
            " \"['Go', 'Golang', 'Microservices', 'Kafka', 'MySQL', 'MongoDB', 'PHP', 'Grafana', 'Kibana']\"\n",
            " \"['Spring Framework', 'Java', 'JUnit', 'Git', 'NoSQL']\"\n",
            " \"['HTML', 'CSS', 'Деловое общение', 'Грамотная речь', 'Навыки межличностного общения']\"\n",
            " \"['JavaScript', 'Git', 'SCSS', 'HTML', 'Wordpress', 'JS', 'CSS', 'Адаптивная верстка', 'Готовность обучаться', 'Русский\\\\xa0— C2 — В совершенстве']\"\n",
            " \"['С#', 'Python', 'ASP.NET', '.net core', 'Linux']\"\n",
            " \"['Информационные технологии', 'Разработка компьютерных Игр', 'Английский\\\\xa0— B2 — Средне-продвинутый']\"\n",
            " \"['Python', 'Linux', 'Bash', 'SQL', 'Git', 'ООП', 'FastAPI', 'Docker', 'Kubernetes']\"\n",
            " \"['.NET Framework', 'MS SQL Server', 'С#', 'HTML/CSS']\"\n",
            " \"['C#', '.NET Framework', 'WPF', 'WCF', 'SQL', 'RPA', '.NET Core', '.NET', 'С#']\"\n",
            " \"['JavaScript', 'Git', 'jQuery', 'HTML', 'CSS']\"\n",
            " \"['Go', 'GoLang', 'NoSQL', 'Базы данных', 'C++']\"\n",
            " \"['C#', 'WPF', '.NET Framework', 'MS Visual Studio', 'XAML', 'Visual Studio C#', '.NET', 'С#', 'Windows API', 'WebSocket']\"\n",
            " \"['HTML', 'Мотивация', 'С#']\"\n",
            " \"['Linux', 'C++', 'Python', 'Структуры данных', 'Алгоритмы']\"\n",
            " \"['Node.js', 'Blockchain', 'JavaScript', 'TypeScript', 'React.js', 'Java Script', 'PostgreSQL', 'NestJS', 'Express.js', 'WebSockets', 'API']\"\n",
            " \"['PostgreSQL', 'Golang', 'Kafka', 'Kubernetes', 'Английский\\\\xa0— B1 — Средний']\"\n",
            " \"['Golang', 'k8s', 'Docker', 'Linux', 'RESTful api']\"\n",
            " \"['Java', 'PostgreSQL', 'Spring Framework']\"\n",
            " \"['Java', 'Java Core', 'Spring Framework', 'SOAP', 'REST', 'SQL', 'Kotlin', 'Java 11', 'React JS', 'ACID Pro', 'Spring Boot', 'Базы данных', 'Web Services']\"\n",
            " \"['Разработка ПО', 'Системное мышление', 'Delphi']\"\n",
            " \"['JavaScript', 'Entity Framework', 'ASP.NET', 'C#', 'PostgreSQL', '.NET Framework', 'HTML', 'CSS']\"\n",
            " \"['C#', 'Git', '.NET', 'Redis', 'Link2db']\"\n",
            " \"['Git', 'Java', 'JavaScript', 'XML', 'Spring Framework']\"\n",
            " \"['PHP', 'JavaScript', 'Linux']\" \"['Linux', 'Go']\"\n",
            " \"['.NET', 'C#', '.NET Core']\" \"['Git', 'PostgreSQL', 'Python', 'MySQL']\"\n",
            " \"['удаленно', 'Python', 'MySQL', 'PostgreSQL', 'SQLAlchemy', 'Django', 'Git']\"\n",
            " \"['Vue.js', 'Node.js', 'Nuxt.js']\"\n",
            " \"['Linux', 'Git', 'Docker', 'Nginx', 'Golang', 'SIP', 'MySQL', 'Redis']\"\n",
            " \"['С#, JS', 'ASP.NET Core/Web API, WPF', 'front-end', 'Linux', 'PostgreSQL']\"\n",
            " \"['Git', 'Linux', 'удаленно', 'remote', 'Ответственность и исполнительность', 'Деловая переписка', 'Работа с большим объемом информации', 'PHP', 'PostgreSQL', 'Redis', 'MongoDB', 'RabbitMQ']\"\n",
            " \"['Python', 'PostgreSQL', 'Git', 'ООП', 'SQL', 'MS SQL Server', 'Django Framework', 'Delphi']\"\n",
            " \"['JavaScript', 'CSS3', 'HTML5', 'Node.js', 'Less', 'ООП']\"\n",
            " \"['Python', 'Django Framework', 'PostgreSQL', 'SQL', 'CSS', 'Git', 'RabbitMQ']\"\n",
            " \"['PHP', 'ООП', 'Веб-программирование', 'Git', 'MySQL']\"\n",
            " \"['PHP', 'Bitrix', 'JavaScript']\"\n",
            " \"['React', 'Redux', 'GitHub', 'JavaScript', 'Frontend']\"\n",
            " \"['Oracle Pl/SQL', 'C++', 'ORACLE', 'Borland C++', 'Builder 6', 'ODAC', 'XLReport', 'Developer Express', 'Git', 'Работа в условиях многозадачности', 'Техническое задание', 'SQL', 'Логика', 'oracle 12.2']\"\n",
            " \"['PHP', 'MS SQL', 'CSS', 'HTML', 'Ajax', 'Yii', 'JavaScript', 'SQL']\"\n",
            " \"['Go', 'Linux']\"\n",
            " \"['JavaScript', 'HTML', 'CSS', 'SQL', 'XML', 'ООП', 'Работа с базами данных', 'C#', '1C: Бухгалтерия', '1С: CRM ПРОФ', 'PHP', 'MSSQL', 'ORACLE']\"\n",
            " \"['Системное мышление', 'Математическая статистика', 'Математический анализ', 'Математическое программирование']\"\n",
            " \"['MySQL', 'Git', 'Linux', 'PHP']\"\n",
            " \"['Webflow', 'Git', 'Проектная деятельность', 'CSS', 'HTML', 'CSS3']\"\n",
            " \"['C#', '.NET Core']\"\n",
            " \"['программирование', 'объектно-ориентированное программирование', 'ООП', '1С программирование', 'Базы данных']\"\n",
            " \"['JavaScript', 'C#', 'ASP.NET', 'HTML', 'MS Visual Studio', 'MS SQL', 'CSS', 'MVC', 'Microsoft Visual Studio', 'Работа в условиях многозадачности', 'Git']\"\n",
            " \"['Английский язык', 'ООП', 'C++', 'C/C++']\"\n",
            " \"['C#', '.NET Core', 'Blazor']\"\n",
            " \"['Python', 'Django Framework', 'Flask', 'PostgreSQL', 'ООП', 'Коммуникабильность', 'Стремление к профессиональному развитию']\"\n",
            " \"['JavaScript', 'TypeScript', 'React', 'Vue.js', 'canvas', 'Electron', 'web-приложения', 'Английский\\\\xa0— B2 — Средне-продвинутый']\"\n",
            " \"['Python', 'ООП', 'aiohttp', 'SQLAlchemy']\"\n",
            " \"['PHP', 'SQL', 'PostgreSQL', 'MySQL', 'MVC', 'jQuery', 'AngularJS', 'Git', 'HTML', 'CSS', 'API', 'ООП', 'JavaScript']\"\n",
            " \"['MySQL', 'PHP', 'RabbitMQ', 'PHP5', 'Умение работать в коллективе']\"\n",
            " \"['PostgreSQL', 'Git', 'JavaScript', 'Laravel', 'PHP']\"\n",
            " \"['C#', '.NET Framework', '.net core', 'JavaScript', 'TypeScript', 'vue.js', 'SQL Server', 'PostgreSQL', 'EF Core', 'Git']\"\n",
            " \"['PHP', 'Linux', 'JavaScript']\"\n",
            " \"['JavaScript', 'jQuery', 'HTML', 'CSS', 'Git', 'PHP', 'CSS3', 'HTML5', 'Кроссбраузерная верстка']\"\n",
            " \"['Python', 'Bash', 'Git', 'Linux', 'Математическое программирование', 'Алгоритмы', 'Анализ данных', 'Оптимизация кода', 'Аналитическое мышление', 'Node.js', 'HTML5', 'JavaScript', 'CSS']\"\n",
            " \"['JavaScript', 'MySQL', 'PHP', 'HTML', 'REST API', 'API', 'Backend', 'Frontend']\"\n",
            " \"['ООП', 'СУБД', 'Работа с базами данных', 'C++', 'Git', 'Linux', 'Qt']\"\n",
            " \"['Ответственность', 'iOS', 'Swift', 'SOLID']\"\n",
            " \"['Java не ниже 8', 'Spring Framework', 'Linux', 'Git', 'PostgreSQL', 'J2EE', 'BPM']\"\n",
            " \"['MS SQL', 'Diasoft', '5NT', 'SYBASE', 'Fa#']\"\n",
            " \"['SQL', 'MS SQL', 'Базы данных', 'Cистемы управления базами данных', 'Pascal', 'MS SSAS', 'T-SQL', 'MDX', 'Английский\\\\xa0— B1 — Средний']\"\n",
            " \"['Кроссбраузерная верстка', 'Адаптивная верстка', 'SASS/SCSS', 'HTML5', 'CSS3', 'React/Redux', 'JavaScript', 'TypeScript']\"\n",
            " \"['JavaScript', 'HTML', 'CSS', 'jQuery', 'Ajax', 'Git', 'Vue', 'Vue.js', 'Знание английского языка']\"\n",
            " \"['VueJS', 'CSS', 'HTML', 'Vuex', 'Vue']\"\n",
            " \"['Java', 'PostgreSQL', 'SQL', 'Оптимизация кода', 'Backend', 'Английский\\\\xa0— B2 — Средне-продвинутый']\"\n",
            " \"['Nuxt', 'TypeScript', 'Vue', 'Умение эффективно планировать свое время', 'Способность быстро принимать решения', 'Способность анализировать проблемы, эффективно искать пути их решения']\"\n",
            " \"['JavaScript', 'ООП', 'MySQL', 'PHP', 'Laravel']\"\n",
            " \"['Git', 'Linux', 'Английский язык', 'TypeScript', 'Redux', 'Брянск', 'JS', 'React', 'JavaScript', 'Frontend', 'Outstaffing', 'Vue', 'Коммуникабильность', 'Умение адаптироваться', 'Работа с большим объемом информации']\"\n",
            " \"['Git', 'Java Core', 'Spring', 'Java', 'Hibernate', 'Apache Maven', 'PostgreSQL', 'Hibernate ORM', 'Web', 'MySQL', 'MongoDB', 'Linux', 'ООП']\"\n",
            " \"['Английский язык', 'Желание обучаться', 'Java', 'Git', 'ООП', 'SQL']\"\n",
            " \"['СУБД', 'PHP', 'C/C++', 'Java', 'SQL', 'ООП']\"\n",
            " \"['Java', 'SQL', 'JPA', 'Hibernate', 'Spring MVC']\"\n",
            " \"['любить свое дело', 'Удаленная работа', 'Коммуникабельность', 'Командная работа', 'Высокая энергичность', 'Самодисциплина']\"\n",
            " \"['Git', 'Spring Framework', 'Java', 'Hibernate ORM', 'ООП', 'PostgreSQL', 'Spring Boot', 'MySQL']\"\n",
            " \"['PostgreSQL', 'Git', 'Linux', 'Scrum', 'laravel', 'Docker', 'PHP', 'Laravel']\"\n",
            " \"['Git', 'SQL', 'Linux', 'Golang', 'Go', 'NoSQL', 'GitLab']\"\n",
            " \"['Node.js', 'Spring Framework', 'Английский язык', 'Java', 'TypeScript', 'Английский\\\\xa0— B1 — Средний']\"\n",
            " \"['Оптимизация кода', 'Java', 'Spring Framework', 'Spring', 'Разработка компьютерных Игр', 'Java Backend', 'Gamedev', 'Backend', 'Удаленная работа', 'Рефакторинг кода', 'ООП', 'Английский\\\\xa0— B1 — Средний']\"\n",
            " \"['JS', 'React', 'Git', 'CSS', 'Docker', 'Frontend developer', 'Figma', 'HTML', 'Java Script']\"\n",
            " \"['Objective-C', 'Java', 'ООП', 'iOS', 'Android', 'C/C++']\"\n",
            " \"['Оптимизация кода', 'Swagger', 'Рефакторинг кода', 'JavaScript', 'TypeScript Event Loop', 'WebRTC data-channel', 'RTCPeerConnection TCP', 'UDP протоколы Webpack', 'hls.js', 'Media Source Extensions']\"\n",
            " \"['ООП', 'MS Access', 'Pascal', 'Планирование карьеры', 'Jira']\"\n",
            " \"['JavaScript', 'HTML5', 'CSS3', 'ООП']\"\n",
            " \"['Linux', 'JavaScript', 'Git', 'CSS', 'HTML']\"\n",
            " \"['TypeScript', 'Redux', 'Redux Toolkit', 'React']\"\n",
            " \"['JavaScript', 'CSS3', 'HTML5', 'CSS']\"\n",
            " \"['Python', 'PostgreSQL', 'Django Framework', 'Linux', 'JavaScript', 'Django Rest Framework', 'Английский\\\\xa0— A2 — Элементарный']\"\n",
            " \"['Python', 'Elasticsearch', 'ClickHouse', 'Cassandra', 'RabbitMQ', 'Highload', 'Git', 'SQL', 'Redis', 'asyncio', 'aiohttp']\"\n",
            " \"['ООП', 'HTML', 'CSS', 'Ajax', 'HTTP', 'MySQL', 'PHP']\"\n",
            " \"['CMS Wordpress', 'PHP', 'CSS', 'Умение работать в команде и самостоятельно', 'Symfony', 'MySQL', 'HTML', 'jQuery', 'JavaScript', 'Vue.js', 'API', 'Оптимизация кода']\"\n",
            " \"['Laravel', 'Symphony', 'MySQL', 'HTML/CSS/JS', 'Unit тесты', 'чистый код', 'паттерны проектирования', 'solid', 'BigBlueButton', 'Go', 'Kubernetes']\"\n",
            " \"['MySQL', 'PHP', 'HTML', 'CSS', 'Веб-программирование', 'jQuery']\"\n",
            " \"['Android SDK', 'Git', 'Системы контроля версий', 'Java', 'Databases', 'SQL', 'Алгоритмы', 'Java Core', 'ООП', 'Алгоритмы и структуры данных', 'Паттерны проектирования', 'Android Studio', 'Android']\"\n",
            " \"['Английский язык', 'Удаленная работа', 'Умение слушать', 'C', 'Linux', 'Git', 'Toolchain', 'hisilicon', 'ARM', 'C/C++', 'Гибкость мышления', 'Работа в условиях многозадачности', 'Желание учиться и развиваться', 'Логика', 'Стремление развиваться', 'Адекватность', 'Умение анализировать', 'Умение работать в условиях многозадачности', 'Деловая переписка', 'Организаторские навыки', 'Грамотная речь', 'Ведение переговоров', 'Русский\\\\xa0— C2 — В совершенстве', 'Английский\\\\xa0— C2 — В совершенстве']\"\n",
            " \"['.NET Framework', 'C#', 'REST API', 'Docker', 'Redis', 'ORM', 'RabbitMQ', 'MSSQL', 'gRPC']\"\n",
            " \"['HTML5', 'CSS3', 'JavaScript', 'Валидная верстка', 'Кроссбраузерная верстка', 'Семантическая верстка', 'Git', 'Gulp', 'ES6', 'БЭМ', 'Sass', 'npm', 'Gitlab', 'BEM', 'Веб-разработка', 'Рефакторинг кода']\"\n",
            " \"['PostgreSQL', 'Git', 'C#', 'Linux', 'SQL', 'ООП', 'ASP.NET', 'Web api', 'NETCore', 'Figma', 'Jira', 'С#']\"\n",
            " \"['SQL', 'C#', 'MS SQL', 'ООП', 'ECM', '.NET Framework', 'Directum RX', 'Внедрение', 'Информационные системы', 'Directum', 'Обучение и развитие', 'Базы данных', 'Visual Studio C#', 'Автоматизация документооборота', 'Git', 'Linux']\"\n",
            " \"['Kafka, RabbitMQ', 'JSF, ООП, Java, Java EE, JSP, CSS, jQuery, XML, JSON, SOAP, HTML, REST API, React JS, Spring Fram', 'Apache Tomcat, GlassFish']\"\n",
            " \"['JavaScript', 'Less', 'Sass', 'Git', 'Node.js']\"\n",
            " \"['PHP', 'Блочная верстка', 'HTML/CSS', 'CSS', 'jQuery', 'CSS3', 'Веб-программирование', 'HTML5']\"\n",
            " \"['C#', 'Jenkins', 'Docker', 'ASP.NET', 'JavaScript', 'HTML/CSS', 'Web API', 'SOLID', 'Gitlab', 'Алгоритмы и структуры данных', 'Unit Testing']\"\n",
            " \"['PostgreSQL', 'Python', 'docker', 'Fastapi']\"\n",
            " \"['UI', 'UX', 'Angular', 'React', 'React Native', 'SCSS', 'Sass', 'CSS3', 'HTML5', 'Web Design', 'jQuery', 'JavaScript', 'Figma']\"\n",
            " \"['Delphi', 'Pascal', 'SQL', 'Образованность', 'Ответственный подход к работе']\"\n",
            " \"['Qt', 'C++', 'ООП', 'OpenGL', 'Git', 'Английский язык', 'Linux']\"\n",
            " \"['Git', '.NET Core', 'Английский язык', 'GitHub', 'BDD', 'SOLID', 'Unit Testing', 'Английский\\\\xa0— B1 — Средний']\"\n",
            " \"['PHP', 'Node.js', 'Laravel', 'MySQL', 'PostgreSQL', 'Linux', 'PHP7', 'PHP8', 'Agile']\"\n",
            " \"['Oracle Pl/SQL', 'SQL', 'ORACLE', 'База данных: Oracle', 'FastReport', 'DBA Oracle', 'Английский\\\\xa0— B1 — Средний']\"\n",
            " \"['Laravel', 'PHP', 'Python', 'SQL', 'PostgreSQL', 'MySQL', 'Elasticsearch']\"\n",
            " \"['Linux', 'ООП', 'MS Movie Maker', 'С++', 'C', 'STM32', 'RTOS', 'API']\"\n",
            " \"['React', 'Redux', 'JavaScript', 'TypeScript']\"\n",
            " \"['Java', 'PostgreSQL', 'RabbitMQ', 'Spring', 'Git', 'Linux']\"\n",
            " \"['Python', 'Linux', 'MySQL', 'Vuetify 3 + Nuxt 3', 'Fronend', 'Ubuntu Server', 'Docker', 'Celery, Redis', 'MongoDB', 'Высокий уровень самоорганизации', 'Решение нестандартных задач', 'asyncio', 'Docker-compose', 'Энтузиазм', 'LibreOffice', 'Работа в условиях многозадачности', 'Лояльность', 'Умение работать в условиях многозадачности', 'Умение изучать', 'Английский\\\\xa0— B1 — Средний']\"\n",
            " \"['Node.js', 'Nest.JS', 'Git', 'gRPC', 'REST', 'PostgreSQL', 'JavaScript', 'TypeScript', 'RxJS', 'Docker', 'Kubernetes']\"\n",
            " \"['Python', 'Git', 'Django Framework', 'Flask']\"\n",
            " \"['SQL', 'MS SQL', 'C#']\"\n",
            " \"['React', 'React Native', 'Android', 'iOS', 'Rest API', 'HTTP', 'Unit Testing', 'Работа в команде']\"\n",
            " \"['Node.js', 'JavaScript', 'HTML5', 'CSS3', 'Sass']\"\n",
            " \"['HTML5', 'CSS3', 'JavaScript', 'jQuery', 'Adobe Photoshop', 'Git', 'Ajax', 'SQL', 'ООП', 'Bootstrap', 'Sass', 'Gulp', 'npm', 'SCSS', 'Twig', 'SASS/SCSS']\"\n",
            " \"['JavaScript', 'Entity Framework', 'MS SQL Server', 'HTML', 'ASP.NET Core', 'Git', 'C#']\"\n",
            " \"['PHP', 'Elasticsearch', 'RabbitMQ', 'PostgreSQL', 'Memcached']\"\n",
            " \"['CMS Wordpress', 'CSS', 'Администрирование сайтов', 'HTML', 'SEO']\"\n",
            " \"['1С-Битрикс', 'PHP', '1С: Документооборот', 'Bitrix', 'REST API', 'CMS Bitrix', 'Битрикс 24', 'Ответственность и пунктуальность']\"\n",
            " \"['Meteor', 'React', 'Ts', 'Docker', 'Vue', 'Node', 'Svelte', 'Handlebars']\"\n",
            " \"['Oracle Pl/SQL', 'C#', 'XML', 'SQL', 'Visual Studio C#', 'ASP.NET', 'JS', 'HTML', 'CSS', 'jQuery', 'LINQ']\"\n",
            " \"['yii2', 'PHP', 'AngularJS', 'Bootstrap', 'HTML5', 'CSS3', 'ООП', 'Git', 'Laravel', 'Vuejs']\"\n",
            " \"['PHP', 'MySQL', 'оформление документации', 'Грамотность', 'Умение планировать', 'Specifications', 'backend']\"\n",
            " \"['Oracle Pl/SQL', 'База данных: Oracle', 'СУБД', 'SQL', 'PostgreSQL']\"\n",
            " \"['Английский язык', 'SQL', 'C#', 'Работа с базами данных', 'Базы данных', 'Английский\\\\xa0— B2 — Средне-продвинутый']\"\n",
            " \"['Python', 'PostgreSQL', 'Redis', 'Kafka', 'SQLAlchemy', 'Удаленная работа']\"\n",
            " \"['Планирование карьеры', 'Умение принимать решения', 'PHP', 'JS']\"\n",
            " \"['Английский язык', 'Figma', 'Babel', 'Design']\"\n",
            " \"['API', 'Работа с базами данных', 'Python', 'PHP']\"\n",
            " \"['Git', 'C#', '.NET Framework', 'Backend', '.NET Core', 'Удаленная работа']\"\n",
            " \"['Git', 'Atlassian Confluence', 'Atlassian Jira', 'PHP', 'Английский язык', 'Bootstrap', 'jQuery', 'MySQL', 'MariaDB', 'React', 'Yii', 'Linux', 'SQL', 'HTML', 'CSS']\"\n",
            " \"['MS Access', 'Удаленная работа', 'Линейное программирование', 'Работа в условиях многозадачности', 'С++', 'BASIC']\"\n",
            " \"['Готовность к командному труду', 'Способность к обучению и восприятию информации']\"\n",
            " \"['C++', 'Алгоритмы', 'Структуры данных', 'STL']\"\n",
            " \"['Английский язык', 'Java', 'Spring Framework', 'Angular', 'TypeScript', 'Analytical skills', 'Higher technical education', 'React', 'Vue', 'Английский\\\\xa0— B2 — Средне-продвинутый']\"\n",
            " \"['Git', 'ООП', 'PHP', 'MySQL', 'Vue.js', 'Laravel', 'Backend', 'Оптимизация кода', 'Удаленная работа']\"\n",
            " \"['PHP', 'Pascal', 'MS SQL', 'JavaScript', 'JS', 'Умение находить общий язык', 'Умение работать в условиях многозадачности', 'Ответственность и пунктуальность', 'Желание учиться и развиваться']\"\n",
            " \"['C/C++', 'Linux', 'Git', 'Windows Os', 'Bash', 'Python']\"\n",
            " \"['SQL', 'MS SQL', 'VFP', 'Базы данных', 'БД', 'C#', 'XML', 'Python', 'JSON', 'T-SQL']\"\n",
            " \"['.NET Core', '.NET Framework', 'ASP.NET', 'ООП', 'HTTP', 'ASP.NET Core', 'MongoDB', 'C#', 'gRPC', 'С#', 'SOLID']\"\n",
            " \"['Git', 'Битрикс24', 'PHP', 'ООП', 'MySQL', 'SQL', 'Стремление к профессиональному росту', 'Системность', 'Внимательность, ответственность']\"\n",
            " \"['Python', 'Английский язык', 'SQLAlchemy', 'MongoDB', 'Django']\"\n",
            " \"['Qt', 'Git', 'ООП', 'STL', 'C++', 'OpenGL', '3D', 'Аналитическое мышление', 'Желание работать и развиваться', 'Программирование 3D-графики', 'Алгоритмы', 'Computer Vision', 'Images Processing', 'Линейная алгебра', 'Аналитическая геометрия']\"\n",
            " \"['Администрирование сайтов', 'Управление интернет-проектами', 'Графические редакторы', 'Web-дизайн', 'CSS', 'Верстка', 'Наполнение контентом', 'Графика', 'HTML', 'Работа в команде', 'CMS Wordpress', 'JavaScript', 'SEO']\"\n",
            " \"['API', 'Обучение и развитие', 'REST API', 'Pixel Perfect', 'Wordpress', 'Удаленная работа', 'PHP']\"\n",
            " \"['Python', 'SQL', 'Linux', 'HTML', 'Java Script']\"\n",
            " \"['Java', 'SQL', 'MySQL', 'Spring Framework', 'Node.js', 'Linux', 'Spring Boot']\"\n",
            " \"['Ajax', 'Bootstrap', 'CSS3', 'HTML5', 'JavaScript', 'jQuery', 'MySQL', 'React', 'PHP']\"\n",
            " \"['Python', 'SQL', 'HTML', 'Adobe Photoshop', 'Визуализация данных']\"\n",
            " \"['Oracle Pl/SQL', 'SQL', 'ORACLE', 'XML', 'MS SQL']\"\n",
            " \"['Python', 'Linux', 'HTML', 'MySQL', 'Django Framework', 'CSS3', 'JavaScript', 'Веб-программирование', 'Bootstrap']\"\n",
            " \"['PHP', 'MySQL', 'JavaScript', 'HTML', 'CSS']\"\n",
            " \"['TypeScript', 'React Native', 'MobX', 'Expo Bare Workflow', 'React Navigation', 'React Native Reanimated', 'Firebase']\"\n",
            " \"['JavaScript', 'TypeScript', 'Git', 'React', 'Redux', 'Webpack', 'SASS/SCSS', 'Адаптивность', 'HTML/CSS', 'UI', 'Jest']\"\n",
            " \"['SQL', 'Работа с базами данных', 'ETL', 'Greenplum', 'Docker', 'FTP', 'Git']\"\n",
            " \"['JSON API', 'Универсальность', 'PHP', 'Type Script', 'MySQL', 'Unit Testing', 'REST API', 'JavaScript', 'Vue', 'Английский\\\\xa0— A1 — Начальный']\"\n",
            " \"['SQL', 'SOAP', 'Мотивация', 'Microsoft Access', 'Работа в условиях многозадачности', 'Мотивированность на результат', 'Microsoft', 'Работа в MS Office', 'MS Navision']\"\n",
            " \"['React Native', 'GraphQL', 'REST', 'Android', 'iOS']\"\n",
            " \"['Less', 'CSS3', 'HTML5', 'Sass', 'VueJS', 'CSS', 'Git', 'jQuery', 'UI/UX', 'PHP', 'Figma', 'Рефакторинг кода']\"\n",
            " \"['Git', 'Java', 'ООП', 'Kotlin', 'ORM', 'Java EE', 'Kafka', 'PostgreSQL', 'RabbitMQ', 'Elasticsearch', 'Kibana']\"\n",
            " \"['Python', 'Git', 'Node.js', 'SQL']\"\n",
            " \"['PostgreSQL', 'MongoDB', '.NET Core', 'Docker', 'Entity Framework', 'RabbitMQ']\"\n",
            " \"['Koltin', 'RxJava2', 'Android']\"\n",
            " \"['Разработка ПО', 'Linux', 'Python', 'PostgreSQL', 'СУБД']\"\n",
            " \"['JS', 'Node.js', 'JavaScript', 'Git', 'HTML', 'CSS', 'React', 'CSS3', 'Верстка']\"\n",
            " \"['CSS', 'JavaScript', 'MySQL', 'PHP', 'HTML']\"\n",
            " \"['Python', 'Английский язык', 'Redis', 'MongoDB', 'RabbitMQ', 'MySQL', 'PostgreSQL', 'Docker', 'Kafka', 'FastAPI']\"\n",
            " \"['PHP', 'MySQL', 'Работа в условиях многозадачности', 'Git', 'laravel', 'Codeigniter', 'Laravel', 'Backend', 'Умение работать в условиях многозадачности', 'Оптимизация кода']\"\n",
            " \"['Java', 'Liferay', 'SOAP', 'JSON API', 'REST']\"\n",
            " \"['C/C++', 'Git', 'SVN', 'Linux', 'Английский язык', 'PIC32', 'STM32', 'SQLite', 'SPI', 'NFC', 'Mifare', 'ARM7', 'SoC', 'Английский\\\\xa0— A2 — Элементарный']\"\n",
            " \"['Знание стандартов и методик фирмы 1C', 'способность работать в условиях многозадачности']\"\n",
            " \"['Информационная безопасность', 'Golang']\"\n",
            " \"['PHP', 'Symfony', 'Git', 'PostgreSQL', 'ООП']\"\n",
            " \"['JavaScript', 'Vue.js', 'HTML', 'CSS', 'HTML/CSS', 'Java Script', 'JS', 'Three.js', 'WebGL', 'TypeScript', 'SQL', 'PostgreSQL', 'Node.js']\"\n",
            " \"['ООП', 'HTTP', 'Python', 'Git']\"\n",
            " \"['Работа в условиях многозадачности', 'Умение работать в команде', 'знание языков программирования']\"\n",
            " \"['C++', 'Linux', 'Умение работать в условиях многозадачности', 'Visual Studio Code', 'Qt', 'Готовность к командному труду', 'Debian', 'WxWidgets']\"\n",
            " \"['Frontend', 'Кроссбраузерная верстка', 'Pixel Perfect', 'JS', 'jQuery', 'JavaScript', 'HTML', 'CSS']\"\n",
            " \"['C/C++', 'C++', 'Microsoft Visual Studio', 'Qt', 'MS Visual Studio', 'Linux']\"\n",
            " \"['Transact-SQL', 'MS SQL', 'PostgreSQL', 'SQL', 'Опыт разработки на любом из языков C#, Go, PHP', 'Работа с базами данных']\"\n",
            " \"['Kotlin', 'Java', 'XML', 'Android', 'Atlassian Jira']\"\n",
            " \"['JavaScript', 'CSS', 'HTML', 'HTML5', 'Sass', 'jQuery', 'PHP', 'Git', 'CSS3', 'PostgreSQL']\"\n",
            " \"['JavaScript', 'Git', 'HTML', 'jQuery', 'REST', 'С#', 'MS SQL', 'Python', '.NET Framework', 'RabbitMQ', 'Django Framework', 'Golang', 'Vue.js']\"\n",
            " \"['SQL', 'Python', 'Git']\"\n",
            " \"['Git', 'Python', 'Linux', 'PostgreSQL', 'JavaScript', 'Flask', 'SQL', 'Django Framework', 'HTML5']\"\n",
            " \"['Python', 'PostgreSQL', 'Django Framework', 'Django', 'Git', 'Celery', 'Английский\\\\xa0— B2 — Средне-продвинутый']\"\n",
            " \"['C++', 'Разработка компьютерных Игр', 'Unity 3D', 'Gamedev', 'Удаленная работа']\"\n",
            " \"['vba access', 'MS Access', 'Microsoft Access']\"\n",
            " \"['CSS3', 'HTML', 'CSS', 'HTML5', 'Git', 'JavaScript', 'jQuery', 'Верстка', 'Кроссбраузерная верстка', 'React.js', 'Frontend', 'JS', 'React', 'HTML/CSS', 'Java Script', 'Английский\\\\xa0— B1 — Средний']\"\n",
            " \"['SQL', 'Базы данных', 'СУБД', 'Работа с базами данных', 'FastReport']\"\n",
            " \"['Английский язык', 'Ведение переписки', 'SAP CRM', 'SQL', 'ООП']\"\n",
            " \"['PHP', 'MySQL', 'Redis', 'Elasticsearch', 'Linux', 'Nginx', 'Docker']\"\n",
            " \"['Git', 'JavaScript', 'VueJS', 'CSS', 'CSS3', 'HTML5', 'Frontend', 'Разработка продукта', 'Scrum', 'Agile', 'Blockchain', 'Java Script', 'SaaS', 'Docker', 'Bootstrap', 'Оптимизация кода', 'Разработка нового продукта', 'Visual Studio Code', 'Работа в условиях многозадачности']\"\n",
            " \"['SQL', 'PostgreSQL', 'FirebirdSQL', 'Python', 'Delphi']\"\n",
            " \"['DDD', 'ASP.NET', 'PostgreSQL', 'Git', 'Docker']\"\n",
            " \"['Pl/SQLTransact-SQL', 'Oracle Database']\"\n",
            " \"['С#', 'C++', 'Qt', 'WPF', 'Git']\"\n",
            " \"['Python', 'Linux', 'SQL', 'PostgreSQL', 'Git', 'RabbitMQ', 'Docker', 'Django Framework', 'Nginx', 'Sentry', 'Gitlab', 'Jira', 'Backend', 'API', 'Английский\\\\xa0— B1 — Средний']\"\n",
            " \"['C++', 'Linux', 'Git']\"\n",
            " \"['1С программирование', '1С: Бухгалтерия', '1C: Зарплата и кадры', 'Создание конфигурации 1С']\"\n",
            " \"['Java', 'Kotlin', 'Hibernate', 'Blockchain', 'PostgreSQL', 'R2DBC', 'Gradle', 'Jenkins', 'Ktor', 'Exposed', 'Блокчейн', 'Spring', 'Spring Framework']\"\n",
            " \"['Python', 'Машинное обучение', 'Machine Learning', 'C++', 'Алгоритмы и структуры данных']\"\n",
            " \"['Assembler', 'Git', 'Linux', 'C/C++', 'Python', 'IDA', 'iOS', 'Android', 'GHIDRA', 'lldb']\"\n",
            " \"['HTML', 'CSS', 'Веб-программирование', 'Bootstrap', 'HTML-верстка', 'CSS-верстка', 'Landing page', 'Разработка CMS', 'Блочная верстка', 'Adobe Muse', 'Git', 'Java', 'Python', 'CSS3', 'MySQL', 'Пользователь ПК', 'Умение работать в команде', 'Работа в команде', 'С++']\"\n",
            " \"['PHP', 'Laravel', 'MySQL', 'JavaScript', 'jQuery']\"\n",
            " \"['C++', 'Git', 'Boost', 'asio', 'cmake', 'spirit', 'STL']\"\n",
            " \"['JavaScript', 'Git', 'Node.js', 'Redmine', 'Flexbox']\"\n",
            " \"['Английский\\\\xa0— A1 — Начальный']\" \"['Английский\\\\xa0— B1 — Средний']\"\n",
            " \"['Node.js', 'TypeScript', 'Docker', 'NoSQL', 'REST', 'Оптимизация кода', 'NodeJS']\"\n",
            " \"['Symfony', 'PHP', 'RabbitMQ', 'PostgreSQL']\"\n",
            " \"['PostgreSQL', 'SQL', 'Cassandra', 'Java', 'ООП', 'Git', 'RabbitMQ', 'REST', 'Spring Boot', 'Spring MVC', 'Spring Data', 'Java Core', 'CI', 'CD', 'Redis']\"\n",
            " \"['Sass', 'JavaScript', 'HTML5', 'CSS3', 'Кроссбраузерная верстка', 'Работа в команде', 'BEM']\"\n",
            " \"['Работа с базами данных', 'Datalens', 'MS SQL', 'Apache Airflow', 'Работа в условиях многозадачности']\"\n",
            " \"['Nuxt', 'Vue', 'TypeScript', 'Умение адаптироваться', 'Умение эффективно планировать свое время', 'Сосредоточенность', 'GraphQL']\"\n",
            " \"['Python', 'Django Framework', 'PostgreSQL', 'RabbitMQ']\"\n",
            " \"['JavaScript', 'HTML', 'CSS', 'SQL', 'PHP']\"\n",
            " \"['jQuery', 'PHP', 'JavaScript', 'HTML', 'CSS', 'MySQL', 'CMS Wordpress', '1С-Битрикс', 'SCSS', 'БЭМ', 'Rest API', 'MODX', 'OpenCard', 'React', 'Многозадачность']\"\n",
            " \"['PHP', 'JavaScript', 'React', 'Vue', 'Laravel', 'PostgreSQL', 'Symfony', 'ClickHouse', 'Английский\\\\xa0— A1 — Начальный']\"\n",
            " \"['JavaScript', 'Git', 'CSS3', 'VueJS', 'TypeScript', 'Английский\\\\xa0— A2 — Элементарный']\"\n",
            " \"['JavaScript', 'Git', 'TypeScript', 'Node.js', 'React']\"\n",
            " \"['PHP', 'Yii']\"\n",
            " \"['PHP', 'Symfony', 'MySQL', 'Docker', 'ClickHouse', 'Kubernetes']\"\n",
            " \"['Python', 'Django Framework', 'Aiohttp', 'Kubernetes', 'Terraform', 'Docker']\"\n",
            " \"['Постановка задач разработчикам', 'Scrum', 'XML', 'Linux', 'REST', 'JSON API', 'Python', 'Swagger', 'postman', 'rest api']\"\n",
            " \"['Git', 'ООП', 'Docker', 'Kubernetes', 'MongoDB', 'C#', '.NET Framework']\"\n",
            " \"['Linux', 'Обучение и развитие', 'C#', 'Net 5', 'IdentityServer4', 'RabbitMQ']\"\n",
            " \"['Java']\"\n",
            " \"['SQL', 'Стабильность', 'Логика', 'Стремление к профессиональному развитию', 'Английский\\\\xa0— A1 — Начальный']\"\n",
            " \"['Linux', 'SQLite', 'Golang', 'PostgreSQL', 'Git', 'RESTful']\"\n",
            " \"['Git', 'MySQL', 'PostgreSQL', 'PHP', 'Laravel', 'SQL', 'Базы данных', 'Postman', 'Nginx', 'JSON', 'REST API']\"\n",
            " \"['PHP', 'Elasticsearch', 'Redis', 'Yii', 'MySQL', 'Системное мышление', 'Highload']\"\n",
            " \"['HTML', 'JavaScript', 'PHP', 'HTML5', 'MySQL', 'CMS Wordpress', 'Веб-программирование', 'SEO оптимизация']\"\n",
            " \"['Git', 'Angular', 'ООП', 'CSS', 'Atlassian Jira']\"\n",
            " \"['C#', 'Entity Framework', '.NET Framework', '.NET Core', 'SQL', 'API']\"\n",
            " \"['C#', 'SQL', 'ASP.NET', '.NET Framework', 'Проведение тестирований', 'ООП', 'Обучение', 'LINQ']\"\n",
            " \"['1С программирование', '1С: Бухгалтерия', '1С: Предприятие 8', '1С: Управление Торговлей', 'Обновление конфигурации 1С', '1С: Зарплата и управление персоналом', '1С: Комплексная автоматизация']\"\n",
            " \"['Erlang', 'Elixir', 'Git', 'Phoenix']\" \"['MS SQL', 'SCADA', 'Excel']\"\n",
            " \"['Android', 'iOS', 'Dart', 'Redux', 'MobX', 'BLoC']\"\n",
            " \"['jQuery', 'MySQL', 'JavaScript', 'ООП', 'PHP 7.0+', 'HTML', 'CSS', 'Bootstrap', 'Английский\\\\xa0— A1 — Начальный']\"\n",
            " \"['JavaScript']\"\n",
            " \"['PHP', 'MySQL', 'Laravel', 'Git', 'Vue.js', 'Vue', 'JS', 'SRM', 'Оптимизация кода', 'Логическое мышление', 'Удаленная работа', 'Позитивное мышление']\"\n",
            " \"['SQL', '1С программирование', 'MS SQL', 'Transact-SQL', '1С: Управление предприятием', 'Оптимизация кода', 'Оптимизация запросов', 'Индивидуальный подход', '1C: Предприятие', 'Групповые программы', 'Энтузиазм', 'Проектная работа', 'Проектная деятельность']\"\n",
            " \"['PHP', 'Laravel', 'Lumen', 'MongoDB', 'PostgreSQL', 'React JS']\"\n",
            " \"['PHP', 'Битрикс 24', 'Автоматизация процессов', 'HTML/CSS', 'Git']\"\n",
            " \"['Ruby', 'Ruby On Rails', 'JavaScript', 'Git', 'MySQL', 'jQuery', 'Ajax', 'SQL', 'PostgreSQL', 'Nginx', 'Администрирование серверов Linux', 'Apache HTTP Server', 'Linux', 'HTML', 'Redmine']\"\n",
            " \"['Git', 'Docker', 'Django Framework', 'Python', 'Linux', 'Qt']\"\n",
            " \"['HTML', 'CSS', 'PHP', 'Веб-программирование', 'phpMyAdmin']\"\n",
            " \"['разработка сайтов']\"\n",
            " \"['C#', 'SQL', 'API', 'ZennoPoster', 'Integromat', 'Fiddler', 'Удаленная работа', 'Соблюдение дедлайнов', 'Высокий уровень дисциплины', 'Работа в условиях многозадачности', 'Высокая трудоспособность']\"\n",
            " \"['Git', 'ООП', 'PostgreSQL', 'Linux', 'PHP']\"\n",
            " \"['SQL', 'Delphi', 'MS SQL', 'Базы данных', 'Умение работать в условиях многозадачности']\"\n",
            " \"['Умение работать в условиях многозадачности']\"\n",
            " \"['Английский язык', 'Умение работать в коллективе', 'Windows Os', 'Assembler', 'Research', 'reverse', 'IDA']\"\n",
            " \"['PHP', 'MySQL', 'SQL', 'cron', 'HTML', 'CSS', 'AngularJS', 'Git', 'vue', 'Laravel']\"\n",
            " \"['C#', 'ООП', 'Unity', '.NET Framework', 'MS Visual Studio', 'Английский\\\\xa0— A2 — Элементарный']\"\n",
            " \"['Python', 'PostgreSQL', 'MongoDB', 'REST', 'HTTP', 'Git', 'Linux', 'Docker']\"\n",
            " \"['C#', '.NET Framework', 'SQL', 'Java']\"\n",
            " \"['Git', 'Redux', 'JavaScript', 'React', 'TypeScript']\"\n",
            " \"['SASS/SCSS', 'React', 'JavaScript', 'GraphQL', 'TypeScript', 'CSS', 'HTML/CSS', 'Удаленная работа', 'JS', 'Java Script', 'HTML']\"\n",
            " \"['C#', 'JavaScript', 'HTML', 'CSS', '.NET Core', 'PostgreSQL', 'ArangoDB', 'VueJS']\"\n",
            " \"['Vue/Nuxt', 'Vue.js', 'Nuxt', 'Vue', 'Java Script', 'TypeScript', 'Gitlab', 'Git']\"\n",
            " \"['Git', 'C++', 'CMake', 'Асинхронное программирование', 'Алгоритмы', 'Unix', 'Eclipse', 'Docker']\"\n",
            " \"['Git', 'Yii', 'MySQL', 'JavaScript', 'Yii2', 'PHP']\"\n",
            " \"['AngularJS', 'VueJS']\"\n",
            " \"['SQL', 'PostgreSQL', 'Python', 'Java', 'NoSQL', 'C++', 'REST', 'PHP', 'С#', 'Node.js', 'Ruby']\"\n",
            " \"['Git', 'PostgreSQL', 'laravel', 'PHP']\"\n",
            " \"['CSS', 'JavaScript', 'HTML', 'HTML5', 'CSS3', 'webpack', 'Gulp', 'DOM']\"\n",
            " \"['RPA', 'Git', 'SQL', 'Atlassian Jira', 'Python', '.NET Framework', 'С#', 'PowerShell', 'Работа в команде', 'Наставничество']\"\n",
            " \"['JavaScript', 'Git', 'MySQL', 'PHP', 'Laravel', 'amoCRM', 'PostgreSQL']\"\n",
            " \"['MySQL', 'MVC', 'ООП', 'JavaScript', 'SQL', 'PHP', 'Node.js', 'Yii', 'Ответственность', 'Работа в команде', 'Стрессоустойчивость', 'Работа в условиях многозадачности', 'Active Directory']\"\n",
            " \"['Linux', 'Git', 'ООП', 'PostgreSQL', 'Python', 'PHP']\"\n",
            " \"['MySQL', 'PHP', 'CSS', 'HTML', 'Bootstrap', '1С-Битрикс']\"\n",
            " \"['C/C++', 'Работа в команде']\"\n",
            " \"['ORACLE', 'PostgreSQL', 'SQL', 'Oracle Pl/SQL', 'Базы данных']\"\n",
            " \"['PHP', 'MySQL', 'Начало карьеры', 'ООП', 'Git']\"\n",
            " \"['jQuery', 'Java Script', 'JS', 'CSS', 'HTML', 'PHP', 'Git', 'MySQL']\"\n",
            " \"['C#', '.Net', 'Windows Forms', 'WPF', 'Mac Os', 'ООП', 'Adobe Photoshop', 'Английский\\\\xa0— B2 — Средне-продвинутый']\"\n",
            " \"['SQL']\"\n",
            " \"['SQL', 'SCALA', 'Apache Kafka', 'Machine Learning', 'SaaS', 'Spring', 'Elasticsearch', 'ClickHouse', 'Spark', 'Java Core']\"\n",
            " \"['PHP', 'Symfony', 'Wordpress', 'PostgreSQL', 'jQuery', 'Vue.js']\"\n",
            " \"['Spring Framework', 'Git', 'REST', 'JDBC', 'Linux', 'Java', 'Автоматизированное рабочее место (АРМ)']\"\n",
            " \"['TCP/IP', 'Модель OSI', 'C++', 'Linux', 'Разработка ПО', 'Английский\\\\xa0— B1 — Средний']\"\n",
            " \"['PHP', 'Ext JS', 'PostgreSQL', 'JavaScript', 'Желание учиться и развиваться', 'JS']\"\n",
            " \"['Node.js', 'React.js', 'GraphQL', 'Analytical skills', 'JavaScript', 'TypeScript', 'Blockchain', 'Web3', 'Английский\\\\xa0— B2 — Средне-продвинутый']\"\n",
            " \"['SQL', 'PostgreSQL', 'Работа с базами данных', 'Docker', 'Базы данных', 'Английский язык - A 1- начальный', 'Golang', 'Go lang', 'Microservices', 'Удаленная работа', 'Английский\\\\xa0— A1 — Начальный']\"\n",
            " \"['HTML/CSS', 'CSS', 'Работа в условиях многозадачности', 'HTML', 'Vuex', 'Axios', 'jQuery', 'Sass', 'Less', 'SCSS', 'REST', 'REST API', 'npm', 'JS', 'Docker', 'Web']\"\n",
            " \"['Node.js', 'JavaScript', 'NestJS', 'TypeScript', 'Express']\"\n",
            " \"['Redux', 'JavaScript', 'Next.js', 'SASS/SCSS', 'React toolkit', 'RTK query', 'Node.js', 'Webpack', 'GitLab', 'CI/CD', 'HTML5', 'Less', 'TypeScript']\"\n",
            " \"['1С программирование', 'Автоматизация', '1С: Документооборот', '1С Бит Финанс', '1С Бит Аренда', '1C: Бухгалтерия', 'Разработка технических заданий', 'Контур.Диадок']\"\n",
            " \"['HTML5', 'CSS3', 'JavaScript', 'jQuery', 'Bootstrap', 'Кроссбраузерная верстка', 'Адаптивная верстка', 'JS', 'CSS']\"\n",
            " \"['Английский\\\\xa0— B2 — Средне-продвинутый']\"\n",
            " \"['Python', 'Организация рабочих мест', 'C/C++', 'GCC', 'ARM']\"\n",
            " \"['CRM', 'PHP', 'JavaScript', 'Удаленная работа', 'Создание лендингов', 'Желание обучаться', 'ООП', 'jQuery', 'Ajax', 'Опытный пользовать ПК', 'MySQL', 'СРМ', 'Лендинг', 'Коммуникабельность, ответственность', 'Английский\\\\xa0— C1 — Продвинутый']\"\n",
            " \"['CRM', 'JavaScript', 'HTML', 'MySQL', 'CSS', 'jQuery', 'Git', 'PHP', 'Laravel', 'ООП', 'MVC', 'Ajax', 'MongoDB', 'Redis', 'Vue.js', 'Английский\\\\xa0— A1 — Начальный']\"\n",
            " \"['PostgreSQL', 'Django Framework', 'MySQL', 'Redis', 'MongoDB', 'Flask', 'Scrum', 'REST', 'Kubernetes', 'Docker', 'InfluxDB', 'Jenkins', 'Git']\"\n",
            " \"['HTML', 'API', 'CSS', 'Node.js', 'PostgreSQL', 'Git', 'JavaScript', 'React.js', 'Cистемы управления базами данных']\"\n",
            " \"['MySQL', 'JavaScript', 'PHP7', 'PHP', 'ООП', 'Vue', 'Jetbrains Phpstorm', 'Удаленная работа', 'Backend', 'Оптимизация кода']\"\n",
            " \"['JavaScript', 'Vue.js', 'Git', 'JS', 'Java Script', 'Frontend', 'HTML5', 'CSS3', 'SPA', 'Nuxt.js', 'API', 'REST API', 'Vuex']\"\n",
            " \"['C++', 'Английский язык', 'Работа в команде', 'Преподаватель', 'Обучение и развитие', 'C/C++', 'Организация учебного процесса', 'Грамотность', 'MS Visual C++', 'Arduino', 'Схемотехника электронного оборудования', 'системное администрирование']\"\n",
            " \"['JavaScript', 'Python', 'JS', 'Английский язык', 'Работа в условиях многозадачности', 'Английский\\\\xa0— B2 — Средне-продвинутый']\"\n",
            " \"['Git', 'C++', 'Английский язык']\"\n",
            " \"['SQL', 'Pascal', 'Delphi', 'FastReport', 'ООП', 'Базы данных']\"\n",
            " \"['Java', 'PostgreSQL', 'Spring Framework', 'Git', 'SQL']\"\n",
            " \"['Python 3', 'FastAPI', 'PostgreSQL', 'Redis', 'Django Framework', 'ClickHouse', 'Docker', 'Kubernetes']\"\n",
            " \"['PHP', 'MySQL', 'Git']\" \"['PHP', 'SQL', 'MySQL']\"\n",
            " \"['PHP', 'Symfony', 'MySQL', 'PostgreSQL']\"\n",
            " \"['SQL', 'Базы данных', 'СУБД', 'FastReport']\"\n",
            " \"['Linux', 'Java', 'Jakarta', 'Spring Framework', 'Hibernate ORM', 'PostgreSQL']\"\n",
            " \"['Python', 'Django Framework', 'SQL', 'MySQL', 'PostgreSQL', 'Git', 'HTTP']\"\n",
            " \"['HTML', 'MySQL', 'CSS', 'PHP', 'Кроссбраузерная верстка', 'phpMyAdmin', 'Git', 'Laravel', 'VUE.js']\"\n",
            " \"['C#', 'MS SQL', 'PHP5', 'MySQL', 'JavaScript', 'CSS']\"\n",
            " \"['Figma', 'PHP', 'SQL', 'HTML5', 'CSS3', 'Node.js', 'React', 'Web', 'Творческий', 'Стремление к профессиональному развитию', 'PostgreSQL']\"\n",
            " \"['ASP.NET', 'MS SQL']\"\n",
            " \"['Английский язык', 'C/C++', 'Assembler', 'Микроконтроллеры', 'Программирование микроконтроллеров']\"\n",
            " \"['React Native', 'Английский язык', 'GraphQL', 'Storybook', 'Xcode', 'Gradle', 'CocoaPods', 'React Navigation', 'Английский\\\\xa0— C1 — Продвинутый']\"\n",
            " \"['MySQL', 'Git', 'Управление проектами', 'PHP', 'Разработка ПО', 'Symfony', 'PHPUnit', 'JavaScript', 'HTML', 'Jetbrains Phpstorm', 'PHP5', 'RabbitMQ', 'Redis', 'Оптимизация кода', 'Английский\\\\xa0— A1 — Начальный']\"\n",
            " \"['JavaScript', 'Node.js', 'SQL', 'VueJS', 'Git', 'TypeScript', 'NestJS', 'amoCRM', 'ExpressJS', 'React']\"\n",
            " \"['Python', 'Django Framework']\"\n",
            " \"['CSS', 'Git', 'CSS3', 'REST API', 'Bootstrap', 'HTML5', 'JavaScript', 'vue 2,3', 'Sass', 'PHP']\"\n",
            " \"['Git', 'SQL', 'Docker', 'Golang', 'Go', 'PostgreSQL']\"\n",
            " \"['Ruby On Rails', 'Linux', 'Ruby', 'SQL', 'Elixir']\"\n",
            " \"['C#', '.NET Framework', 'SQL']\"\n",
            " \"['C#', 'Visual Studio C#', 'webapi', 'MVC', 'ASP.NET', 'Entity Framework', 'PostgreSQL']\"\n",
            " \"['.NET Framework', 'C#', 'SQL', 'MS SQL Server', 'C++']\"\n",
            " \"['Visual FoxPro', 'Работа с базами данных', 'Microsoft Access', 'Excel', 'Продвинутый пользователь ПК']\"\n",
            " \"['Entity Framework', '.NET Framework', 'WPF', 'C#', 'RabbitMQ', 'Visual Studio C#', 'Developer Express', 'WCF', 'SQL', 'Git', '.Net Core']\"\n",
            " \"['I2C', 'SPI', 'UART', 'STM32', 'C/C++', 'SVN', 'ARM', 'Git', 'Микроконтроллеры', 'Программирование микроконтроллеров', 'esp32', 'GCC', 'Arduino']\"\n",
            " \"['React', 'Node.js', 'TypeScript', 'Redux']\"\n",
            " \"['Работа в команде', 'Git', 'СУБД', 'MySQL', 'SQL', 'Yii2', 'API', 'Умение вести переписку', 'Backend', 'PHP', 'Логика', 'Удаленная работа']\"\n",
            " \"['JavaScript', 'SQL', 'PostgreSQL', 'ORACLE', 'MySQL', 'MS SQL Server']\"\n",
            " \"['Python', 'Git', 'Django Framework', 'Linux', 'PostgreSQL']\"\n",
            " \"['Linux', 'Python', 'Английский\\\\xa0— A1 — Начальный']\"\n",
            " \"['PHP', 'HTML', 'CSS', 'ООП', 'Docker', 'Sass', 'Less', 'Composer', 'Laravel', 'Bitrix', 'Webpack', 'Bootstrap', 'npm', 'Foundation', 'Node.js', 'MySQL', 'Git', 'jQuery', 'JavaScript']\"\n",
            " \"['знание всех особенностей React.', 'углубленное знание Javascript', 'Vue', 'Angular', 'Знание паттернов проектирования, алгоритмов и структур данных', 'Typescript', 'NodeJS', 'MongoDB', 'Умение работать с сервисами REST API', 'Git', 'CSS', 'HTML', 'HTML5', 'CSS3', 'ES6', 'PHP Symfony', 'UI/UX', 'MySQL']\"\n",
            " \"['JavaScript', 'vue3', 'SaaS', 'vue2', 'Backend', 'Java Script', 'Git', 'Frontend', 'MongoDB', 'nest', 'express', 'REST', 'Java']\"\n",
            " \"['REST', 'GraphQL', 'Blockchain', 'Golang', 'Блокчейн', 'Node.js']\"\n",
            " \"['Qt', 'Linux', 'C++', 'C/C++', 'QML']\" \"['PostgreSQL', 'SQL', 'Git']\"\n",
            " \"['Английский язык', 'Grafana', 'PHP', 'Laravel', 'Symfony', 'PostgreSQL']\"\n",
            " \"['Python', 'Git', 'SQL', 'Linux', 'C++', 'Go', 'Алгоритмы', 'Алгоритмы и структуры данных']\"\n",
            " \"['ООП', 'SVN', 'Delphi', 'Embarcadero Delphi', '2D/3D-графика']\"\n",
            " \"['Git', 'MongoDB', 'MVC', 'Базы данных', 'SQL', 'HTML', 'CSS3', 'PHP', 'MVC-фреймворк']\"\n",
            " \"['Lua', 'Git flow', 'Subversion', 'Mercurial', 'Sphinx']\"\n",
            " \"['PHP', 'PostgreSQL', 'Laravel']\"\n",
            " \"['HTML', 'CSS', 'Bitrix', 'CMS Битрикс', 'PHP', 'БУС']\"\n",
            " \"['HTML CSS LASS SASS UX UI', 'UX/UI B2C UX/UI B2B', 'Joomla CMS', 'JavaScript jQuery', 'Adobe XD Figma', 'Дизайн интерфейсов', 'Проектирование пользовательских интерфейсов', 'Веб-дизайн', 'Английский — B1']\"\n",
            " \"['Git', 'Linux', 'MySQL', 'Qt', 'PHP', 'Умение разбираться в чужом коде', 'Базы данных', 'Python']\"\n",
            " \"['JavaScript', 'jQuery', 'HTML', 'CSS', 'Bootstrap', 'Webpack', 'Vue', 'Кроссбраузерная верстка', 'PHP']\"\n",
            " \"['Python', 'Redis', 'MongoDB', 'RabbitMQ', 'Системное мышление', 'Docker', 'PostgreSQL', 'Git', 'Django Framework', 'Flask']\"\n",
            " \"['Git', 'Java', 'Spring Framework', 'Linux', 'Коммуникабельность', 'Английский язык', 'Самостоятельность', 'PostgreSQL', 'Hibernate', 'Bash', 'Mockito', 'Python', 'ООП', 'Английский\\\\xa0— B1 — Средний']\"\n",
            " \"['Удаленная работа', 'PostgreSQL', 'Backend', 'Оптимизация кода', 'ASP.NET Core', '.NET Core']\"\n",
            " \"['MySQL', 'Laravel', 'PHP', 'SaaS']\"\n",
            " \"['Git', 'MySQL', 'PHP', 'Laravel']\"\n",
            " \"['Git', 'MySQL', 'PHP', 'Redis', 'Docker']\"\n",
            " \"['Работа в команде', 'HTML', 'Node.js', 'MS SQL', 'PostgreSQL', 'Git', 'PHP', 'Symfony', 'Vue', 'Docker']\"\n",
            " \"['PostgreSQL', 'Qt', 'Git', 'Linux', 'C++']\" \"['PHP', 'OpenCart']\"\n",
            " \"['jQuery', 'Git', 'MySQL', '1С-Битрикс', 'PHP', 'HTML', 'CSS3', 'CSS', 'HTML5']\"\n",
            " \"['HTML', 'CSS3', 'MODX', 'Bitrix24', 'PHP']\"\n",
            " \"['Java Script', 'SQL', 'Kafka', 'REST', 'Docker', 'OpenShift']\"\n",
            " \"['PHP', 'Git', 'Docker', 'Python', 'Laravel']\"\n",
            " \"['Многозадачность', 'RabbitMQ', 'Git', 'PostgreSQL', 'Redis', 'Django Framework', 'Django', 'ClickHouse']\"\n",
            " \"['Программирование промышленных роботов', 'Обучаемость', 'Стрессоустойчивость', 'Планирование карьеры', 'Готовность к командировкам', 'Стратегическое мышление', 'Сосредоточенность', 'Английский\\\\xa0— B1 — Средний']\"\n",
            " \"['Linux', 'Julia', 'Haskell', 'SCALA', 'Elixir', 'Kotlin', 'Java', 'C++', 'R', 'MATLAB', 'Ruby', 'Rust', 'LISP', 'Bash', 'Git', 'Docker', 'Английский\\\\xa0— B1 — Средний']\"\n",
            " \"['Low-code разработчик в ELMA365', 'язык программирования: TypeScript', 'умение читать и описывать процессы в нотации BPMN2.0', 'умение работать в Wordpress', 'Internet Marketing', 'Веб-программирование', 'CMS Wordpress', 'ELMA', 'Cоциальный маркетинг', 'Wordpress', 'Разработка CMS', 'Организация рабочего процесса', 'Работа в условиях многозадачности', 'Интернет-реклама', 'Продвижение', 'Умение работать с людьми', 'Английский\\\\xa0— B1 — Средний']\"\n",
            " \"['Laravel', 'GraphQL', 'SQL']\"\n",
            " \"['iOS', 'Android', 'Flutter', 'REST API', 'Английский\\\\xa0— A1 — Начальный']\"\n",
            " \"['HTML-верстка', 'CSS-верстка', 'HTML', 'CSS', 'CMS Wordpress', 'JS-верстка', 'ACF Pro', 'HTML/CSS', 'Верстка', 'Git', 'PHP', 'CMS Битрикс', 'Opencart', 'CMS', 'JS', 'jQuery', 'Ajax', 'WooCommerce', 'Сайт', 'Web']\"\n",
            " \"['HTML', 'CSS', 'Кроссбраузерная верстка', 'JavaScript', 'React', 'TypeScript']\"\n",
            " \"['SQL', 'MS SQL', 'Спортивные мероприятия', 'FastReport', 'Transact-SQL', 'Python', 'ERP Systems']\"\n",
            " \"['C/C++', 'Linux', 'Unix', 'Unix Shell Scripts', 'Python', 'VPN', 'JavaScript', 'PHP', 'TCP/IP', 'Bourne shell']\"\n",
            " \"['Node.js', 'MongoDB', 'RabbitMQ', 'PostgreSQL', 'Git', 'REST', 'JavaScript', 'WebSocket', 'API', 'REST API', 'JSON API', 'Английский язык', 'Английский\\\\xa0— A1 — Начальный']\"\n",
            " \"['CMS MODX', 'Joomla CMS', 'HTML', 'CSS', 'Web разработка']\"\n",
            " \"['React', 'TypeScript', 'HTML5', 'CSS3', 'JavaScript', 'CSS', 'SCSS', 'Next.js', 'Redux']\"\n",
            " \"['ORACLE PL/SQL.', 'PostgreSQL PL/pgSQL', 'ORACLE', 'PostgreSQL']\"\n",
            " \"['PHP', 'MySQL', 'MariaDB', 'JavaScript', 'jQuery', 'Git', 'Trello', 'phpstorm']\"\n",
            " \"['Java', 'Spring Framework', 'Spring Boot', 'REST', 'SOAP', 'ORACLE', 'PostgreSQL', 'Hibernate', 'SQL', 'ООП', 'СУБД', 'Умение работать в условиях многозадачности', 'Коммуникабельность, ответственность', 'Желание учиться и развиваться', 'Работа в команде', 'Английский\\\\xa0— B1 — Средний']\"\n",
            " \"['Cистемы управления базами данных', 'Работа с базами данных', 'Работа с большим объемом информации', 'Оптимизация бизнес-процессов', 'Бизнес-анализ', 'Веб-аналитика']\"\n",
            " \"['Git', 'ООП', 'SVN', 'C++', 'Unreal Engine']\"\n",
            " \"['Java', 'JDBC', 'ORACLE', 'NoSQL', 'SQL']\"\n",
            " \"['PHP', 'REST', 'MySQL', 'Redis', 'Kubernetes', 'См. в вакансии']\"\n",
            " \"['объектно ориентировннное программирование', 'Автоматизация процессов', 'разработка и сопровождение ПО']\"\n",
            " \"['Обучение и развитие', 'React/Redux', 'Планирование карьеры', 'JS', 'Удаленная работа', 'React Native', 'React', 'JavaScript', 'Redux', 'Доброта', 'Java Script']\"\n",
            " \"['SQL', 'PostgreSQL', 'Atlassian Jira', 'MS SQL', 'Базы данных', 'Git', 'SQL-запросы']\"\n",
            " \"['Postgre SQL', 'ORACLE']\"\n",
            " \"['SQL', 'MS SQL', 'Olap (online analytical processing)']\"\n",
            " \"['ue5', 'unreal engine', 'gamedev', 'программист']\"\n",
            " \"['PostgreSQL', 'Laravel', 'PHP', 'Redis', 'Memcache', 'CRM', 'Vuejs']\"\n",
            " \"['C/C++', 'ROS2', 'SLAM', 'STM32', 'AGV', 'AMR', 'CUDA']\"\n",
            " \"['SQL', 'BPMN', 'UML', 'ООП', 'PostgreSQL', 'C#', 'JavaScript', 'MySQL', 'CSS', 'Linux', 'Docker', 'Kubernetes', 'low-code']\"\n",
            " \"['SQL', 'C#', '.NET Framework', 'MS SQL', 'C++']\"\n",
            " \"['Java', 'ООП', 'Проведение тестирований', 'Навыки межличностного общения', 'SQL']\"\n",
            " \"['Аналитическое мышление', 'Ориентация на результат', 'Творческое мышление', 'Сбор и анализ информации', 'Системный подход', 'JS', 'Vue.js', 'Java Script', 'Git', 'HTML/CSS', 'Адаптивность']\"\n",
            " \"['JavaScript', 'TypeScript', 'REST API', 'Front-end', 'Git', 'React']\"\n",
            " \"['MySQL', 'Git', 'PHP', 'JavaScript', 'HTML5', 'PHPUnit']\"\n",
            " \"['ООП', 'PostgreSQL', 'PHP', 'Английский\\\\xa0— B1 — Средний']\"\n",
            " \"['JavaScript', 'CSS', 'HTML', 'ООП', 'Design Patterns']\"\n",
            " \"['Java', 'Spring Framework']\"\n",
            " \"['HTML', 'CSS', 'Ajax', 'Vue.js', 'SCSS', 'JavaScript (TypeScript)', 'Git и GitLab', 'Vuex', 'VueRoute']\"\n",
            " \"['1С программирование', '1C ERP', 'ERP-системы на базе 1С']\"\n",
            " \"['Laravel', 'PHP', 'SQL', 'CSS', 'HTML', 'Английский язык', 'Backend', 'Стрессоустойчивость', 'Русский\\\\xa0— C2 — В совершенстве', 'Английский\\\\xa0— B1 — Средний']\"\n",
            " \"['C#', '.NET Framework']\"\n",
            " \"['Git MySQL Nuxt 2 (Vue 2, Vuex) Bitrix Elasticsearch Laravel Умение работать в условиях многозадачнос']\"\n",
            " \"['Delphi', 'C#', 'СУБД']\"\n",
            " \"['Wordpress', 'HTML', 'PHP', 'HTML/CSS', 'Английский\\\\xa0— A1 — Начальный']\"\n",
            " \"['Английский язык', 'TypeScript', 'C#', 'MS Visual Studio', 'платформа .NET.', 'Создание сопровождаемого и поддерживаемого кода.', 'Способность разбираться в чужом коде.', 'Практика работы с реляционными СУБД.', 'Знание и использование паттернов проектирования, принципов SOLID.', 'Практика работы с React или Angular.', 'NET6, ASP.NET, REST API, Entity Framework, TypeScript, Angular/React, PostgreSQL, SQLite', 'Английский\\\\xa0— A1 — Начальный']\"\n",
            " \"['Oracle Pl/SQL', 'Английский язык', 'База данных: Oracle', 'ORACLE', 'Умение принимать решения', 'корпоративное информационное хранилище']\"\n",
            " \"['Linux', 'SQL', 'BPMN', 'JavaScript', 'C#', 'TypeScript']\"\n",
            " \"['HTML', 'TDD', 'MQTT', 'React JS', 'RESTful API']\"\n",
            " \"['1С-Битрикс', 'Git', 'PHP', 'ООП', 'Jetbrains Phpstorm', 'Bitrix', 'Удаленная работа']\"\n",
            " \"['Python', 'NLP', 'Машинное обучение', 'Machine Learning', 'Анализ данных', 'C++']\"\n",
            " \"['jQuery', 'PHP', 'MS SQL', 'ООП', 'JavaScript']\"\n",
            " \"['Jira', 'Confluence', 'ELMA', 'СУБД', 'SQL', 'Java', 'JavaScript', 'Docker', 'REST', 'BPMN']\"\n",
            " \"['1С программирование', '1С: Предприятие 8', '1С: Управление Производственным Предприятием', 'MS PowerPoint', 'C#']\"\n",
            " \"['PHP', 'MySQL', 'Laravel', 'Yii2', 'Backend', 'REST']\"\n",
            " \"['Golang', 'Linux', 'Python', 'Bash', 'API', 'Highload', 'С/С++', 'Redis', 'Nginx', 'AWS S3', 'QUIC', 'Lua']\"\n",
            " \"['PHP', 'Laravel', 'REST', 'PostgreSQL']\"\n",
            " \"['PHP', 'SQL', 'MySQL', 'Git', 'Работа в команде']\"\n",
            " \"['1С: Предприятие', 'Git', 'ERP']\"\n",
            " \"['Git', 'ООП', 'PostgreSQL', 'Управление проектами', 'Деловая коммуникация', 'Python', 'ClickHouse']\"\n",
            " \"['JavaScript', 'Nestjs', 'TypeORM', 'Vue 2', 'Vue 3', 'MySQL', 'Redis', 'OOP', 'HTTP', 'TypeScript', 'ECMAScript2021+', 'Websockets', 'WebRTC', 'Promises', 'RegEx', 'FileSystem', 'Events', 'Observable', 'Верстка']\"\n",
            " \"['MySQL', 'PHP', 'Node.js', 'ООП', 'Yii2', 'Git', 'Vue.js', 'Паттерны проектирования']\"\n",
            " \"['Соблюдение сроков', 'Позитивное мышление', 'Умение организовать работу', 'Стремление к саморазвитию', 'Веб-программирование', 'Python']\"\n",
            " \"['MySQL', 'Linux', 'JS', 'HTML/CSS', 'PHP', 'jQuery', 'Bootstrap', 'SQL', 'HTML5', 'CSS3', 'JavaScript', 'LAMP', 'CI/CD']\"\n",
            " \"['PostgreSQL', 'PLpgSQL']\"\n",
            " \"['HTML', 'Внимательность', 'Ответственность', 'Желание расти и развиваться', 'Быстрое обучение', 'Работа в команде']\"\n",
            " \"['Linux', 'C++', 'Разработка ПО', 'Микроконтроллеры', 'Программирование микроконтроллеров', 'FPGA', 'System Verilog']\"\n",
            " \"['Linux', 'Ansible', 'OpenStack', 'Kubernetes', 'Python']\"\n",
            " \"['Грамотная речь', 'Русский язык', 'Коммуникабельность', 'code review', 'API', 'HTTP', 'умение работать самостоятельно', 'SQL', 'С#']\"\n",
            " \"['PostgreSQL', 'Git', 'Linux', 'ORACLE', 'Английский язык', 'Английский\\\\xa0— B1 — Средний']\"\n",
            " \"['C#', '.NET', 'Микросервисы', 'Git', 'Redmine']\"\n",
            " \"['Jetbrains Phpstorm', 'Yuii2', 'Redis', 'RabbitMQ', 'Kafka', 'ClickHouse', 'Linux (Ubuntu)', 'JS', 'jQuery', 'SQL']\"\n",
            " \"['Git', 'JavaScript', 'HTML', 'PostgreSQL', 'Английский язык']\"\n",
            " \"['Git', 'C#', 'Azure', '.NET Core', 'ASP.NET', 'Web API', 'TFS', 'Entity Framework']\"\n",
            " \"['ReactJS', 'Redux', 'CSS', 'Typescript', 'Bootstrap', 'REST', 'Web Application Development', 'Scrum', 'Английский\\\\xa0— B2 — Средне-продвинутый']\"\n",
            " \"['Git', 'ООП', 'PostgreSQL', 'SQL', 'MVC']\"\n",
            " \"['MSSQLServer', 'C#', 'LINQ', 'Entity Framework', 'Visual Basic']\"\n",
            " \"['1С программирование']\"\n",
            " \"['ООП', 'Планирование рабочего времени', 'Коммуникация', 'Оптимизация кода', 'Рефакторинг кода', 'SOLID', 'Backend', 'Самоконтроль', 'Желание учиться и развиваться', 'Android', 'Android SDK', 'Доброжелательность', 'Добросовестность', 'Java']\"\n",
            " \"['Информационная безопасность', 'Информационные технологии', 'Технические средства информационной защиты', 'Ответственный подход к работе']\"\n",
            " \"['PostgreSQL', 'Java', 'NoSQL', 'SQL', 'Spring Framework']\"\n",
            " \"['Java', 'AWS', 'Amazon Web Services', 'Английский\\\\xa0— B2 — Средне-продвинутый']\"\n",
            " \"['Xamarin.Android']\"\n",
            " \"['.NET Framework', 'C#', 'MS SQL', 'LINQ', '.NET Core', 'ASP.NET Core']\"\n",
            " \"['C++', 'Linux', 'TCP/IP']\"\n",
            " \"['Git', 'PHP', 'ES6+', 'ReactJS', 'Phalcon']\"\n",
            " \"['Английский язык', 'C/C++', 'MS Visual Studio', 'Системное мышление']\"\n",
            " \"['SQL', 'HTML', 'Git', 'C#', 'Transact-SQL']\"\n",
            " \"['PHP', 'JavaScript', 'MySQL', 'jQuery', 'Ajax', 'HTML5']\"\n",
            " \"['Веб-программирование', 'Обучение', 'Обучение и развитие', 'Эффективное принятие решений', 'умение работать с программами Word, Excel, Power Point', 'Грамотная речь', 'Поиск информации в интернет', 'Пользователь ПК', 'Работа в условиях многозадачности', 'Опыт работы в команде']\"\n",
            " \"['ClickHouse', 'PostgreSQL', 'Docker', 'Работа с большим объемом информации', 'PHP', 'Laravel', 'ElasticSearch', 'API']\"\n",
            " \"['CSS3', 'Vuex', 'jQuery', 'JavaScript', 'vue.js']\" \"['Go']\"\n",
            " \"['С++', 'С#', 'Java']\" \"['Git', 'PHP', 'REST API']\"\n",
            " \"['Python', 'Django + drf', 'Rest API', 'Базы данных', 'RabbitMQ', 'Celery', 'Express.js', 'Redis', 'NoSQL', 'JavaScript', 'Английский язык', 'Управление временем', 'Soft skills']\"\n",
            " \"['MODx', 'Back-end', 'MySQL', 'JavaScript', 'PHP', 'CSS', 'HTML', 'jQuery', 'lavarel', 'CMS OpenCart', 'Wordpress']\"\n",
            " \"['Веб-программирование', 'MS SQL', 'MySQL', 'phpMyAdmin', 'Apache', 'Nginx', 'веб разработчик']\"\n",
            " \"['Delphi', 'MSSQL', 'XML', 'JSON', 'Работа в условиях многозадачности', 'Visual Studio C#', 'Бухта', 'Visual Basic', 'Transact-SQL']\"\n",
            " \"['JavaScript', 'vue.js', 'SPA', 'User Acceptance Testing', 'Git', 'ООП', 'CSS', 'Atlassian Jira', 'REST', 'HTML', 'Typescript', 'Webpack', 'Jest', 'Sass']\"\n",
            " \"['Python', 'Django Framework', 'PostgreSQL', 'Linux']\"\n",
            " \"['1C: Предприятие', '1C: Бухгалтерия', '1С: Зарплата и управление персоналом']\"\n",
            " \"['Kafka', 'PHP', 'MySQL', 'TDD', 'Yii']\"\n",
            " \"['Spring', 'Java', 'Spring Framework', 'AngularJS', 'PostgreSQL']\"\n",
            " \"['.NET Core', 'C#', 'ООП', 'ASP.NET', 'Entity Framework']\"\n",
            " \"['MySQL', 'PHP', 'HTML', 'CSS', 'ООП', 'API']\"\n",
            " \"['PHP', 'MySQL', 'Git', 'Docker', 'Backend', 'Laravel', 'MariaDB', 'CSS', 'JavaScript', 'Sass', 'Linux', 'PHPUnit', 'Pest', 'XDebug']\"\n",
            " \"['JavaScript', 'HTML', 'NodeJS', 'PоstgreSQL', 'React', 'Блочная верстка', 'Базовые знания английского языка', 'Умение работать в команде и самостоятельно', 'Деловое общение']\"\n",
            " \"['PostgreSQL', 'Английский язык', 'Node.js', 'nestjs', 'Typescript', 'NodeJS', 'Английский\\\\xa0— B2 — Средне-продвинутый']\"\n",
            " \"['PHP', '1С-Битрикс', 'Умение принимать решения', 'Корпоративная этика']\"\n",
            " \"['TypeScript', 'React.js', 'JavaScript', 'GraphQL', 'WebSocket', 'CI/CD', 'Material UI', 'Ant Design']\"\n",
            " \"['Creatio']\" \"['TypeScript', 'ReactJS', 'Git', 'CI/CD']\"\n",
            " \"['Git', 'CSS3', 'HTML5', 'Figma', 'vue.js', 'nuxt.js', 'vuetify', 'tailwind css', 'Bootstrap', 'Sass', 'JavaScript']\"\n",
            " \"['Обновление конфигурации 1С', 'Подключение торгового оборудования к 1С', 'Внимательность к деталям, способность работать с большими массивами информации', 'Многовекторность', '1С: Бухгалтерия предприятия', '1С программирование', 'Знание 1С', '1С: Предприятие 8', '1C: Предприятие']\"\n",
            " \"['MS SQL', 'PostgreSQL', 'ORACLE', 'ETL']\"\n",
            " \"['SQL', 'ESB', 'UML', 'XML', 'PostgreSQL', 'Git', 'K8S']\"\n",
            " \"['PHP', 'SQL', '1С-Битрикс', 'HTML', 'CSS', 'JavaScript', 'backend PHP', 'Английский\\\\xa0— A1 — Начальный']\"\n",
            " \"['микросервисы', 'микро-сервисы', 'Java', 'Git', 'Maven', 'Gradle', 'Spring Framework', 'JSON API', 'REST']\"\n",
            " \"['Python', 'C#', 'С++', 'Delphi', 'Высшее образование', 'Linux']\"\n",
            " \"['iOS']\"\n",
            " \"['Angular', 'TypeScript', 'JavaScript', 'SCSS', 'CSS3', 'REST API', 'Bootstrap']\"\n",
            " \"['Python', 'MATLAB', 'Нейронные сети', 'Машинное обучение', 'C++', 'OpenCV', 'SimInTech', 'NVIDIA Jetson', 'Huawei Atlas', 'ЕСПД', 'ЕКСД', 'искусственный интеллект', 'компьютерное зрение', 'машинное обучение', 'видеонавигация', 'видеообработка изображений', 'совмещение изображений', 'наложение изображений', 'визуальная одометрия', 'распознавание объектов', 'нейронные сети', 'генетические алгоритмы']\"\n",
            " \"['Golang', 'MongoDB', 'JavaScript', 'Vue.js', 'HTML/CSS', 'Docker', 'gRPC']\"\n",
            " \"['Bitrix', 'Работа в условиях многозадачности', 'Умение работать в условиях многозадачности', 'Битрикс24']\"\n",
            " \"['JavaScript', 'Git', 'CSS3', 'HTML5', 'JSON API', 'Ajax', 'REST API', 'JS', 'Linux', 'Nginx', 'SQL', 'React']\"\n",
            " \"['MySQL', 'PostgreSQL', 'Python', 'PHP', 'JavaScript', 'HTML', 'CSS', 'drupal', 'Symfony']\"\n",
            " \"['Golang', 'PostgreSQL', 'MongoDB', 'gRPC', 'Rabbit', 'Pulsar', 'Kafka', 'GraphQL']\"\n",
            " \"['ASP.NET', 'C#', 'MS SQL', 'Английский\\\\xa0— B1 — Средний']\"\n",
            " \"['PHP', 'Laravel']\" \"['Laravel', 'CSS', 'ООП', 'HTML']\"\n",
            " \"['Английский язык']\" \"['Blazor', 'Английский\\\\xa0— A1 — Начальный']\"\n",
            " \"['FirebirdSQL', 'Embarcadero Delphi', 'Delphi', 'Базы данных', 'SQL', 'Linux']\"\n",
            " \"['PHP', 'ООП', 'Laravel', 'Git', 'MySQL', 'JavaScript', 'Английский\\\\xa0— B1 — Средний']\"\n",
            " \"['ООП', 'Git', 'PHP', 'Laravel', 'MySQL', 'Удаленная работа', 'Bitrix', 'Желание учиться и развиваться', 'Желание обучаться', 'Умение адаптироваться', 'Стремление к профессиональному росту', 'Хорошая обучаемость']\"\n",
            " \"['1C: Предприятие', 'Умение работать в режиме многозадачности', 'Удаленная работа', 'Мобильность', 'Соблюдение сроков', 'Коммуникабельность, ответственность']\"\n",
            " \"['Cистемы управления базами данных', 'Visual Basic', 'Turbo Pascal', 'Аналитические способности', 'Проектная работа', 'Критическое мышление', 'Работа в команде', 'Позитивное мышление', 'Креативность', 'Управление проектами']\"\n",
            " \"['PostgreSQL', 'Transact-SQL', 'SQL', 'MS SQL', 'MS SQL Server', 'СУБД', 'Cистемы управления базами данных']\"\n",
            " \"['PostgreSQL', 'MS SQL Server', 'SQL', 'MS SQL', 'Базы данных']\"\n",
            " \"['Английский язык', 'MySQL', 'Delphi', 'Работа с базами данных', 'Грамотность', 'Английский\\\\xa0— A2 — Элементарный']\"\n",
            " \"['AngularJS', 'GraphQL']\"\n",
            " \"['JavaScript', 'Git', 'TypeScript', 'Node.js', 'CSS', 'PHP', 'SQL', 'Linux']\"\n",
            " \"['Высокий уровень самоорганизации', 'Стремление к профессиональному развитию', 'Постоянное самообразование', 'Умение быстро усваивать новую информацию', 'Знание программ', 'Заинтересованность']\"\n",
            " \"['Linix', 'Git', 'REST API', 'HTML', 'JavaScript', 'CSS']\"\n",
            " \"['JavaScript', 'vue.js', 'SPA', 'User Acceptance Testing', 'TypeScript', 'Jest', 'Webpack', 'Sass', 'Git', 'ООП', 'Atlassian Jira', 'CSS', 'HTML5', 'REST']\"\n",
            " \"['1С: Управление предприятием', 'Продвинутый пользователь ПК', 'Удаленная работа', '1C: Предприятие', 'Работа в условиях многозадачности']\"\n",
            " \"['ECMAS6', 'REST API', 'npm', 'Git', 'GitHub', 'JavaScript', 'ООП']\"\n",
            " \"['SQL', 'BPMN', 'UML', 'ООП', 'PostgreSQL', 'C#', 'JavaScript', 'MySQL', 'CSS', 'Linux', 'Docker', 'Kubernetes', 'low-code', 'TypeScript']\"\n",
            " \"['PHP', 'JavaScript', 'Laravel', 'Git', 'Docker', 'Vue', 'React', 'Ubuntu Server', 'CI', 'MySQL']\"\n",
            " \"['Git', 'Dart', 'Firebase', 'REST API']\"\n",
            " \"['WildFly', 'GWT', 'Java', 'Hibernate ORM', 'PostgreSQL', 'Docker', 'k8s', 'React', 'TypeScript']\"\n",
            " \"['Деловая коммуникация', 'Творческое мышление', 'Ориентация на результат', 'Работа в команде', 'Английский\\\\xa0— B1 — Средний']\"\n",
            " \"['PHP', 'Zend Framework', 'PostgreSQL', 'Symfony', 'Ext JS', 'Yii', 'Liquibase', 'Git', 'ООП', 'Оптимизация процессов', 'Работа в команде']\"\n",
            " \"['ООП', 'C++', 'C/C++', 'STL', 'Базы данных', 'Русский\\\\xa0— C2 — В совершенстве', 'Английский\\\\xa0— B2 — Средне-продвинутый']\"\n",
            " \"['PHP', 'PHP5']\"\n",
            " \"['WPF', 'C#', 'Системное мышление', 'WCF', 'Желание обучаться', 'Высокий уровень самоорганизации', 'Стремление к профессиональному росту', 'Высшее образование', 'Английский\\\\xa0— A1 — Начальный']\"\n",
            " \"['JavaScript', 'JS', 'PixiJS', 'Three.js', 'Работа в команде', 'Самообучаемость', 'Английский\\\\xa0— B1 — Средний']\"\n",
            " \"['Git', 'C#', 'Unity 3D', 'Kotlin', 'Java', 'SDK', 'Android Studio']\"\n",
            " \"['Oracle Pl/SQL', 'SQL', 'ORACLE']\"\n",
            " \"['ООП', 'PHP', 'Yii2', 'Docker', 'Symfony', 'PostgreSQL', 'MySQL']\"\n",
            " \"['PHP', 'MySQL', 'REST', 'SOAP', 'JSON API', 'Git', 'backend']\"\n",
            " \"['PHP', 'MySQL', 'ООП', 'Yii']\"\n",
            " \"['Ajax', 'Кроссбраузерная верстка', 'Figma', 'phpMyAdmin', 'Веб-программирование', 'HTML-верстка', 'CSS-верстка', 'jQuery', 'CSS3', 'HTML5', 'JavaScript', 'MySQL', 'CSS', 'PHP']\"\n",
            " \"['C++', 'ООП', 'Linux', 'Git', 'ARM', 'C/C++']\"\n",
            " \"['React', 'Node.js', 'Redux', 'TypeScript', 'CSS', 'HTML', 'ООП', 'HTML5', 'Webpack', 'Работа в команде', 'Next.js', 'Английский\\\\xa0— A1 — Начальный']\"\n",
            " \"['Unity 3D', 'Android Studio', 'С#', 'Kotlin', 'Cordova', 'JavaScript', 'Английский\\\\xa0— B1 — Средний']\"\n",
            " \"['PHP', 'оформление документации', 'Грамотность', 'Умение планировать', 'Specifications', 'backend']\"\n",
            " \"['C#', 'HTML5', 'CSS3', 'JavaScript', 'Entity Framework', 'Blazor', 'Bootstrap', 'Git', '.NET']\"\n",
            " \"['Python', 'Git', 'Linux']\"\n",
            " \"['HTML', 'PHP', 'Английский язык', 'CSS', 'MySQL', 'JavaScript', 'Linux', 'Базы данных', 'Redis', 'A/B тесты']\"\n",
            " \"['CSS', 'Git', 'vue', 'HTML', 'Less', 'Ajax']\"\n",
            " \"['PHP', 'angular', 'Symfony']\"\n",
            " \"['CMS Wordpress', 'PHP', 'MySQL', 'JavaScript', 'CSS', 'HTML', 'jQuery', 'HTML5', 'API', 'Веб-программирование', 'PHP5', 'JS', 'Wordpress', 'CSS-верстка', 'XML', 'phpMyAdmin', 'Bootstrap']\"\n",
            " \"['JavaScript', 'Agile Project Management', 'PostgreSQL', 'Подготовка презентаций', 'Scrum', 'Английский\\\\xa0— A1 — Начальный']\"\n",
            " \"['PHP', 'MySQL', 'MariaDB', 'ООП', 'MVC']\"\n",
            " \"['Go', 'MongoDB', 'MySQL', 'PHP']\"\n",
            " \"['PHP', 'PHP7', 'Git', 'ООП', 'SQL', 'JavaScript', 'TypeScript', 'React.js', 'Symfony', 'Yii', 'CSS', 'MySQL', 'SSH', 'RabbitMQ', 'Redis', 'ELK', 'MobX', 'Material UI', 'Сomposer']\"\n",
            " \"['PostgreSQL', 'Oracle Pl/SQL', 'SQL', 'Java', 'ORACLE']\"\n",
            " \"['Docker', 'Быстро учусь', 'neo4j', 'Разработка ПО', 'ES6', 'vue js', 'vue3']\"\n",
            " \"['SQL', 'elma']\" \"['Git', 'Linux', 'ООП', 'Python']\"\n",
            " \"['CRM', 'ERP', 'MySQL', 'MongoDB', 'Redis', 'PHP', 'HTML', 'CSS', 'JavaScript', 'jQuery', 'Ajax', 'Laravel', 'Vue.js', 'ООП', 'MVC', 'Git']\"\n",
            " \"['PHP', 'Wordpress', 'Желание обучаться', 'HTML']\"\n",
            " \"['Python', 'jQuery', 'PostgreSQL', 'Django Framework', 'Nginx', 'SQL']\"\n",
            " \"['PHP', 'MySQL', 'CSS', 'ООП', 'HTML', 'HTTP']\"\n",
            " \"['HTML', 'CSS', 'JavaScript', 'Linux', 'Веб-программирование']\"\n",
            " \"['C/C++', 'Программирование микроконтроллеров', 'Математический анализ', 'Git', 'Linux', 'Алгоритмы', 'Анализ данных']\"\n",
            " \"['PHP', 'MySQL', 'JavaScript', 'jQuery', 'Composer', 'RabbitMQ', 'Linux', 'Docker', 'Git']\"\n",
            " \"['Java EE', 'EJB', 'Hibernate ORM', 'Gradle', 'Git', 'Wildfly', 'MySQL', 'MariaDB']\"\n",
            " \"['Git', 'Linux', '1С-Битрикс', 'bitrix', 'PHP']\"\n",
            " \"['ASP.NET', 'MS Visual Studio', 'Transact-SQL']\"\n",
            " \"['MS Excel', 'SQL', '1С программирование', 'HTTP', 'JSON API', 'XML', 'CSS', 'HTML', 'Bootstrap', 'Vue.JS']\"\n",
            " \"['Nginx', 'Node.js', 'MongoDB', 'React', 'Next.js', 'Английский язык', 'PostgreSQL', 'JavaScript', 'TypeScript', 'React.js', 'GitHub', 'Express.js', 'Notion']\"\n",
            " \"['SQL', 'MS SQL', 'Git', 'С#', '.NET Framework', 'Xamarin', '.NET Standard 2']\"\n",
            " \"['Git', 'HTML', 'CSS', 'TypeScript', 'React', 'GitHub']\"\n",
            " \"['C++', 'ORACLE', 'PostgreSQL', 'XML', 'Oracle Pl/SQL']\"\n",
            " \"['Linux', 'Git', 'MySQL', 'Python', 'Java', 'Intellij IDEA', 'JavaScript', 'PHP', 'PostgreSQL']\"\n",
            " \"['Веб-программирование', 'HTML', 'JavaScript', 'CSS', 'MySQL', 'PHP', 'Adobe Photoshop', 'CSS3', 'CMS Wordpress', 'Git', 'Ajax', '1С-Битрикс', 'Bootstrap', 'Symfony', 'vue', 'Drupal', 'figma', 'CMS Drupal', 'React.js']\"\n",
            " \"['PHP', 'MySQL', 'Git', 'Linux', 'Docker', 'Symfony']\"\n",
            " \"['1С программирование', 'Обновление конфигурации 1С', 'SQL', 'Базы данных']\"\n",
            " \"['MySQL', 'Git', 'MongoDB', 'Redis', 'PHP']\"\n",
            " \"['Java', 'ООП', 'Английский язык']\"\n",
            " \"['PHP 7', 'ООП', 'MySQL', 'Git', 'HTML5', 'CSS', 'jQuery', 'Laravel']\"\n",
            " \"['Git', 'JavaScript', 'jQuery', 'HTML', 'CSS']\"\n",
            " \"['Power BI', 'ETL', 'SQL', 'Python', 'Оптимизация запросов', 'Аналитическое мышление', 'Работа с большим объемом информации', 'Анализ данных']\"\n",
            " \"['Git', 'CSS', 'Atlassian Jira', 'REST', 'HTML5', 'JavaScript', 'vue.js', 'SPA', 'User Acceptance Testing', 'Typescript']\"\n",
            " \"['Git', 'ООП', 'MVC', 'Android', 'iOS', 'Dart', 'Flutter', 'Командная разработка']\"\n",
            " \"['Docker', 'REST', 'SQL', 'PHP', 'MySQL', 'Git', 'MVC', 'Linux', 'Веб-программирование', 'JSON API', 'PHP5', 'NoSQL', 'PostgreSQL', 'Elasticsearch', 'Redis', 'Английский\\\\xa0— B1 — Средний']\"\n",
            " \"['WPF', 'C#', 'ООП', 'Git', '.NET Framework', 'MVVM', 'Научная разработка', 'Visual Studio']\"\n",
            " \"['С#', '.NET Framework']\" \"['PHP']\"\n",
            " \"['C#', '.NET Framework', 'WPF', 'Английский язык', 'Git']\"\n",
            " \"['VHDL', 'FPGA', 'Разработка технической документации', 'Знание английского языка', 'MATLAB', 'Английский язык', 'Работа в условиях многозадачности', 'Техническая документация', 'Оптимизация кода', 'Моделирование']\"\n",
            " \"['JavaScript', 'typescript', 'MaterialUI', 'RxJs', 'AngularJS']\"\n",
            " \"['PHP', 'JavaScript', 'HTML', 'SQL', 'CSS', 'Git', 'MySQL', 'MODX']\"\n",
            " \"['JavaScript', 'Git', 'React', 'Redux', 'Английский язык', 'PHP', 'Laravel', 'MySQL']\"\n",
            " \"['C#', '.NET Framework', 'MS SQL Server', 'PostgreSQL Server', 'REST-сервис', 'ASP.NET', 'Entity Framework', 'HTML', 'JavaScript', 'CSS', '.NETCore', '.NET Core', 'github', 'Angular', 'AngularJS', 'PWA', 'Разработка ПО', 'программирование']\"\n",
            " \"['ООП', 'PHP', 'PostgreSQL', 'Redis', 'RabbitMQ', 'Docker', 'Git', 'CI/CD', 'Nginx']\"\n",
            " \"['PHP', 'MySQL', 'Git', 'Vagrant', 'ООП', 'Веб-программирование', 'Разработка ПО']\"\n",
            " \"['JavaScript', 'Работа в команде', 'Flutter Dart']\"\n",
            " \"['Git', 'C#', 'ASP.NET', 'SQL', 'MS SQL Server']\"\n",
            " \"['jQuery', 'PHP', 'MySQL', 'JavaScript', 'laravel', 'Symfony', 'ООП', 'Git', 'PHP5', 'HTML', 'Web']\"\n",
            " \"['Английский язык', 'VHDL', 'FPGA', 'SVN', 'Прототипирование']\"\n",
            " \"['SQL', 'PostgreSQL', 'MySQL', 'API', 'REST API', 'Golang', 'Git', 'Работа в команде']\"\n",
            " \"['Oracle BI', 'PostgreSQL', 'опыт интеграции с 1С', 'MySQL', 'Grafana', 'Power BI', 'ClikSense']\"\n",
            " \"['PHP', 'HTML', 'HTML5', 'Linux', 'Git', 'ООП', 'MySQL', 'CSS', 'SQL']\"\n",
            " \"['1С: Управление Производственным Предприятием', '1С программирование']\"\n",
            " \"['Git', 'Flash MySQL', 'PHP', 'API']\" \"['1С: Предприятие']\"\n",
            " \"['Vue', 'MySQL', 'PHP7', 'PHP', 'JavaScript', 'Удаленная работа', 'Backend']\"\n",
            " \"['SQL', 'Java', 'PHP', 'ООП', 'XML']\"\n",
            " \"['MySQL', 'PHP', 'Zend Framework', 'Git', 'SOLID', 'Redis', 'RabbitMQ']\"\n",
            " \"['PHP', 'SQL', 'Git', 'MySQL', 'Agile', 'Scrum', 'Умение работать в команде', 'Тайм-менеджмент']\"\n",
            " \"['PHP', 'Laravel', 'Git']\" \"['C++']\"\n",
            " \"['Ruby', 'Системное мышление', 'SQL', 'C++', 'Python']\"\n",
            " \"['Python', 'Django', 'Pytest']\"\n",
            " \"['JavaScript', 'Redux', 'Git', 'React', 'React Native', 'REST API', 'React/Redux', 'React.js', 'TypeScript']\"\n",
            " \"['.NET 7', 'ASP.NET Core', 'Entity Framework', 'xUnit', 'Testcontainers', 'OpenAPI v3']\"\n",
            " \"['Java', 'SQL', 'XML', 'REST', 'ООП', 'JavaScript']\"\n",
            " \"['JavaScript', 'TypeScript', 'Git', 'Redux', 'React', 'Webpack', 'MobX', 'Less', 'React/Redux', 'ReactJS', 'React.js', 'SCSS', 'Автотесты', 'SASS/SCSS', 'Кроссбраузерная верстка']\"\n",
            " \"['MySQL', 'GitLab', 'PHP-native', 'HTML', 'PHP', 'Ajax', 'ООП', 'REST API', 'Английский\\\\xa0— B1 — Средний']\"\n",
            " \"['C#', 'JavaScript', 'ASP.NET', 'Docker', 'MS SQL Server', '.NET Framework', 'PostgreSQL']\"\n",
            " \"['Git', 'ООП', 'Английский язык', 'JavaScript', 'TypeScript']\"\n",
            " \"['C++', 'Unity 3D', 'C#', 'Unity', 'Game Programming']\"\n",
            " \"['C#', 'HTML', 'ASP.NET', 'CSS', 'MS SQL', 'JavaScript', 'MS Visual Studio']\"\n",
            " \"['PHP', 'MySQL', 'ООП', 'SQL', 'Английский язык', 'Symfony', 'Laravel', 'Zend', 'Yii', 'Codeigniter', 'Node.js', 'Go', 'RabbitMQ', 'ClickHouse', 'MongoDB', 'Docker', 'Redis', 'Python', 'API', 'Golang', 'Базы данных']\"\n",
            " \"['SQL', 'СУБД', 'ООП', 'JavaScript', 'Английский язык']\"\n",
            " \"['Java', 'Kotlin', 'Android']\"\n",
            " \"['C++', 'ООП', 'Git', 'Английский язык']\"\n",
            " \"['JavaScript', 'React', 'TypeScript', 'HTML', 'CSS', 'Английский\\\\xa0— B2 — Средне-продвинутый']\"\n",
            " \"['1С программирование', '1С: Предприятие 8', '1С: Документооборот', '1С: Зарплата и управление персоналом', 'HTML']\"\n",
            " \"['Unreal Engine 4', 'Unreal Engine 5', 'Python', 'C++', 'Blueprints', 'Qt', 'AAA project', 'Business English', 'SOLID', 'Паттерны проектирования', 'Git', 'Replication Graph', 'Tools', 'Работа в команде', 'Ведение документации', 'Менеджмент', 'Английский\\\\xa0— B1 — Средний']\"\n",
            " \"['TypeScript', 'NestJs', 'Express', 'Swagger', 'Node.js', 'NoSQL', 'Удаленная работа', 'SQL', 'MySQL', 'JavaScript']\"\n",
            " \"['JSON API', 'Node.js', 'ES6', 'HTML5', 'CSS3', 'Vuetify', 'Vue.js', 'Работа с базами данных', 'Знание английского языка']\"\n",
            " \"['Бизнес-анализ', 'Постановка задач разработчикам', 'Java', 'UML', 'BPMN']\"\n",
            " \"['Node.js']\"\n",
            " \"['PHP', 'Redis', 'MySQL', 'RabbitMQ', 'Manticore', 'Docker', 'Микросервисы']\"\n",
            " \"['JavaScript', 'PHP', 'CSS', 'HTML', 'ООП', 'Laravel', 'Bitrix']\"\n",
            " \"['Python', 'Математическая статистика', 'Machine Learning']\"\n",
            " \"['JavaScript', 'Битрикс24', 'Опытный пользователь ПК', 'Эффективное принятие решений', 'HTML', 'Веб-программирование', 'MySQL', 'PHP5', 'Английский\\\\xa0— A2 — Элементарный']\"\n",
            " \"['Delphi', 'SQL', 'MS SQL', 'XML', 'ООП']\"\n",
            " \"['Git', 'CSS', 'Atlassian Jira', 'REST', 'HTML5', 'JavaScript', 'vue.js', 'SPA', 'User Acceptance Testing', 'TypeScript', 'ООП', 'Jest', 'Webpack', 'Sass']\"\n",
            " \"['AngularJS', 'JavaScript', 'CSS3', 'HTML5', 'TypeScript', 'REST', 'HTTP', 'Оптимизация кода', 'web', 'ООП']\"\n",
            " \"['C++', 'Game Programming', 'Game development', 'C++ developer', 'Английский\\\\xa0— A1 — Начальный']\"\n",
            " \"['Git', 'MySQL', 'jQuery', 'JavaScript', 'Bootstrap', 'PHP', 'REST API', 'Laravel', 'SASS/SCSS', 'CSS3', 'JS', 'PHP7']\"\n",
            " \"['ООП', 'C#', 'Qt', 'SQL', '.NET Framework']\"\n",
            " \"['Python', 'Git', 'Django Framework', 'PostgreSQL', 'Linux']\"\n",
            " \"['React', 'Typescript', 'React Hooks', 'Web3', 'Ethereum']\"\n",
            " \"['PHP', 'MySQL', 'SQL', 'cron', 'HTML', 'CSS', 'AngularJS', 'Git', 'vue', 'laravel']\"\n",
            " \"['1С программирование', '1С: Управление Торговлей', '1С: Документооборот', '1С: Розница', 'Удаленная работа']\"\n",
            " \"['PHP', 'react-native', 'AngularJS']\"\n",
            " \"['WPF', 'Git', 'C#', 'SQL', 'CAD', '.NET Framework', 'Работа в команде']\"\n",
            " \"['Agile', 'Kanban', 'Scrum', 'HTML', 'CSS', 'JS', 'WebPack', 'Vue.js']\"\n",
            " \"['PHP5', 'MySQL', 'Yii2', 'Bootstrap', 'ООП', 'jQuery', 'HTML', 'CSS', 'Git']\"\n",
            " \"['Git', 'C++', 'Linux', 'Unit Testing', 'OpenCV', 'SOLID', 'ООП', 'Английский\\\\xa0— B2 — Средне-продвинутый']\"\n",
            " \"['PHP', 'Git', 'MySQL', 'Redis', 'MongoDB', 'Nginx']\"\n",
            " \"['Swift', 'iOS', 'MVC', 'Realm', 'Xcode', 'MVP', 'Viper', 'CoreData', 'Moya']\"\n",
            " \"['Английский язык', 'Linux', 'PostgreSQL', 'MongoDB', 'Docker']\"\n",
            " \"['WPF', 'C#', 'ООП', 'Git', 'SQL', 'Linux', 'WinAPI', 'Разработка ПО', 'Автоматизация процессов', 'HTML', 'CSS', 'JavaScript', 'Рефакторинг кода', 'RPA', 'Оптимизация кода', '.NET Core', 'Unit Testing', 'ReactiveUI', 'MVVM', 'Roslyn']\"\n",
            " \"['JavaScript', 'Yii', 'jQuery', 'PHP', 'CSS']\"\n",
            " \"['PHP', 'MySQL', 'Symfony']\"\n",
            " \"['Vivado', 'FPGA', 'Python', 'MATLAB', 'VHDL', 'DSP', 'цифровая обработка сигналов', 'ЦОС', 'LTE', 'радиосвязь']\"\n",
            " \"['golang']\"\n",
            " \"['JavaScript', 'HTML5', 'Git', 'CSS3', 'ООП', 'JS', 'TypeScript', 'AngularJS', 'Angular', 'Английский\\\\xa0— A1 — Начальный']\"\n",
            " \"['1С программирование', '1С: Предприятие 8', '1С: Зарплата и управление персоналом', '1С: Управление Торговлей', 'ERP-системы на базе 1С']\"\n",
            " \"['PHP', 'SQL', 'JavaScript', 'Linux', 'MVC', 'web-программирование', 'Рефакторинг кода', 'Базы данных', 'Laravel', 'Git', 'DevOps', 'Jetbrains Phpstorm']\"\n",
            " \"['PHP', 'JavaScript', 'WPF', 'HTML', 'C#', 'Английский\\\\xa0— A1 — Начальный']\"\n",
            " \"['Удаленная работа', 'lowcode', 'nocode', 'программист', 'разработчик', 'developer', 'стажер', 'Обучение', 'фриланс']\"\n",
            " \"['CSS', 'CMS Wordpress', 'PHP', 'SQL', 'API', 'JavaScript', 'Английский\\\\xa0— B1 — Средний']\"\n",
            " \"['PHP', 'JavaScript']\"\n",
            " \"['MySQL', 'PHP', 'phpMyAdmin', 'Symfony', 'Docker', 'MongoDB', 'Golang']\"\n",
            " \"['Git', 'JavaScript', 'PHP', 'Linux', 'jQuery']\"\n",
            " \"['Эффективное принятие решений', 'Дружелюбность', 'RabbitMQ', 'Node.js', 'MongoDB', 'PostgreSQL']\"\n",
            " \"['JavaScript', 'Node.js', 'ООП', 'TypeScript', 'MySQL', 'PostgreSQL']\"\n",
            " \"['JavaScript', 'React', 'TypeScript']\"\n",
            " \"['.NET Framework', 'C#', 'WPF', 'MVVM', 'Git', 'Научная разработка', 'Visual Studio', 'ООП']\"\n",
            " \"['PHP', 'JavaScript', 'MySQL', 'Английский язык']\"\n",
            " \"['Python', 'Backend', 'SQL', 'FASTAPI', 'Git']\"\n",
            " \"['JavaScript', 'CMS Wordpress', 'CSS', 'HTML', 'PHP5', 'SQL', 'ООП', 'Аналитическое мышление']\"\n",
            " \"['JavaScript', 'ООП', 'PHP', 'Redmine', 'PostgreSQL', 'CSS', 'HTML']\"\n",
            " \"['JavaScript', 'PHP', '1С-Битрикс', 'Битрикс24', 'Bitrix Framework', 'jQuery']\"\n",
            " \"['программист', 'flutter', 'dart', 'iOS', 'Android']\"\n",
            " \"['C++', 'SDK', 'Backend', 'Game Development']\"\n",
            " \"['AppsFlyer', 'Android SDK', 'Webview', 'Flutter', 'Unity', 'React', 'Kotlin']\"\n",
            " \"['1С-Битрикс', 'Битрикс 24', 'Git', 'ООП', 'SQL', 'MySQL', 'CSS', 'PHP', 'HTML', 'jQuery', 'Английский\\\\xa0— B1 — Средний']\"\n",
            " \"['PHP', 'Yii2']\"\n",
            " \"['Lua', 'C++', 'Python', 'Linux', 'Работа в команде', 'Openresty', 'API', 'Freeswitch', 'Clickhouse', 'RethinkDB', 'Kamailio', 'RTPengine', 'Английский\\\\xa0— A1 — Начальный']\"\n",
            " \"['PHP', 'Linux', 'CSS', 'HTML', 'Деловая переписка', 'Figma', 'MySQL', 'jQuery', 'JavaScript', 'Проведение презентаций', 'Обучение и развитие', 'CMS Wordpress', 'Деловое общение', 'Wordpress', 'JS', 'Yandex Maps API']\"\n",
            " \"['MySQL', 'Symfony', 'PHP', 'Redis', 'RabbitMQ']\"\n",
            " \"['PHP', 'MySQL', 'Kafka', 'RabbitMQ', 'Symfony', 'Redis', 'SOLID', 'PostgreSQL', 'Elasticsearch']\"\n",
            " \"['Битрикс24', 'Bitrix24', 'HTML-верстка', 'HTML', 'Расширение клиентской базы', '1С-Битрикс', 'Битрикс 24']\"\n",
            " \"['1С-Битрикс', 'Bitrix', 'Битрикс 24']\"\n",
            " \"['JavaScript', 'TypeScript', 'Бизнес-анализ', 'ELMA', 'ELMA365']\"\n",
            " \"['MySQL', 'Git', 'PHP5', 'Linux', 'JavaScript', 'PHP', 'VUE', 'Nuxt', 'Английский\\\\xa0— B1 — Средний']\"\n",
            " \"['JavaScript', 'HTML5', 'Webpack', 'CSS', 'GraphQL', 'Frontend', 'Vue.js', 'Nuxt.js', 'Vite', 'GitLab', 'TypeScript']\"\n",
            " \"['1С-Битрикс', '1С: Предприятие 8', 'Администрирование сайтов', 'Многозадачность', 'Творческое мышление', 'Битрикс 24', 'Эффективное принятие решений', 'Разработка сайтов', '1С: Управление Торговлей']\"\n",
            " \"['PHP', 'JavaScript', 'MySQL']\" \"['PHP', 'JavaScript', 'Bitrix', 'API']\"\n",
            " \"['C#', 'ASP.NET MVC', '.NET Framework', 'Entity Framework', 'ASP.NET', 'MS Visual Studio', 'Visual Studio C#', 'Microsoft Visual Studio', 'MVC', 'Английский\\\\xa0— A1 — Начальный']\"\n",
            " \"['JavaScript', 'VueJS']\"\n",
            " \"['Git', 'ООП', 'PHP', 'MySQL', 'Atlassian Jira', 'Laravel', 'Backend']\"\n",
            " \"['Python', 'JavaScript', 'Django Framework', 'PostgreSQL', 'React', 'Redux', 'TypeScript']\"\n",
            " \"['Node.js', 'React Native', 'JavaScript', 'Redux']\"\n",
            " \"['Altium Designer', 'ЕСКД', 'Схемотехника электронного оборудования', 'Разработка нового продукта', 'Проектно-конструкторская деятельность']\"\n",
            " \"['C++', 'Linux', 'TCP/IP', 'Информационная безопасность']\"\n",
            " \"['PHP', 'SQL', 'ООП', 'Symfony', 'Работа в команде']\"\n",
            " \"['Android SDK', 'SQL', 'Kotlin', 'C++', 'ORACLE', 'Android']\"\n",
            " \"['SQL', 'OeBS', 'СУБД']\" \"['Wordpress', 'PHP']\"\n",
            " \"['Docker', 'Управление проектами', 'Деловая коммуникация', 'Unit Testing', '.NET 5', 'C#']\"\n",
            " \"['JavaScript', 'HTML', 'SQL', 'MS SQL', 'Функциональное тестирование', 'PHP', 'Ext JS', 'Ajax', 'JSON API', 'C++', 'Object Pascal/Delphi']\"\n",
            " \"['JavaScript', 'typescript', 'pug', 'react', 'CSS', 'Верстка', 'wordpress', 'express']\"\n",
            " \"['PHP', 'Yii2', 'ООП', 'Git', 'Swagger', 'REST API', 'API', 'SPA']\"\n",
            " \"['Git', 'PHP', 'SQL', 'ООП', '1С-Битрикс']\"\n",
            " \"['Git', 'Linux', 'jQuery', 'JS', 'MySQL', 'PHP', 'Рефакторинг кода', 'Логика', 'Стабильность', 'Jetbrains Phpstorm', 'Опытный пользователь ПК']\"\n",
            " \"['C++', 'Linux', 'STL', 'WinAPI', 'Рефакторинг кода', 'Qt', 'Английский\\\\xa0— A2 — Элементарный']\"\n",
            " \"['SQL', 'Linux', 'Elasticsearch', 'Ruby On Rails', 'Ruby', 'API', 'Backend', 'Git', 'PostgreSQL']\"\n",
            " \"['PHP', 'SQL', 'PostgreSQL']\"\n",
            " \"['Разработка технических заданий', '1С: Управление Торговлей', 'Обучение персонала', 'Постановка задач разработчикам', '1С: Зарплата и управление персоналом', 'ERP-системы на базе 1С', '1С: Комплексная автоматизация', '1С: Предприятие 8', '1С: Торговля', '1С: Документооборот', '1С: Управление предприятием']\"\n",
            " \"['UiPath', 'Primo', 'C#']\"\n",
            " \"['PHP', 'HTML', 'JavaScript', 'MySQL', 'CSS', 'jQuery', 'Ajax', 'ООП', 'Git', '1С-Битрикс', 'Веб-программирование']\"\n",
            " \"['C++', 'C/C++', 'Linux', 'Алгоритмы и структуры данных', 'Git', 'Python']\"\n",
            " \"['JavaScript', 'TypeScript', 'Angular', 'CSS', 'JS']\"\n",
            " \"['Git', 'PostgreSQL', 'JavaScript', 'PHP', 'CSS']\"\n",
            " \"['JavaScript', 'PHP', 'ООП', 'Laravel', 'HTML']\"\n",
            " \"['C/C++', 'Qt', '3D', 'HTTP', 'QML', 'Redmine', 'Git']\"\n",
            " \"['PL/pgSQL', 'PL/SQL']\" \"['Python', 'Git', 'OpenCV', 'Linux', 'Docker']\"\n",
            " \"['JavaScript', 'Pixel Perfect', 'Начало карьеры', 'HTML', 'CSS']\"\n",
            " \"['Gitlab', 'Composer', 'Git', 'Docker', 'PHP', 'MySQL']\"\n",
            " \"['JavaScript', 'React', 'Управление проектами', 'React.js', 'REST API', 'Java Script', 'Работа в команде', 'внимательность к деталям, умение работать с большими объемами информации', 'Наставничество', 'TypeScript', 'JS', 'Gitlab', 'Git']\"\n",
            " \"['PHP', 'MySQL', 'JavaScript', 'VueJS', 'Laravel', 'Vue.js']\"\n",
            " \"['Английский язык', 'Ведение переписки', 'SQL', 'ООП']\"\n",
            " \"['Разработка ПО']\"\n",
            " \"['JavaScript', 'jQuery', 'CSS', 'HTML', 'MySQL', '1С-Битрикс', 'PHP']\"\n",
            " \"['PostgreSQL', 'PHP', 'Laravel', 'Directus']\"\n",
            " \"['yii2', 'MySQL', 'jQuery', 'API', 'web-разработка', 'Веб-программирование', 'PHP', 'high-load', 'RabbitMQ', 'php8']\"\n",
            " \"['Python', 'Git', 'Linux', 'Agile Project Management', 'Spring Framework']\"\n",
            " \"['C++', 'Python', 'Linux', 'CUDA', 'Git']\"\n",
            " \"['Java', 'SQL', 'Scrum', 'Оптимизация запросов', 'MS SQL', 'Базы данных', 'Работа с банками', 'Delphi']\"\n",
            " \"['Git', 'Гибкость', 'MS SQL', 'Laravel', 'PHP', 'JS', 'Backend', 'NoSQL', 'nuxt.js']\"\n",
            " \"['Swift', 'ООП', 'iOS', 'Objective-C', 'Git']\"\n",
            " \"['React Native', 'Redux', 'iOS', 'Android', 'Typescript', 'Git', 'Multithread Programming', 'Bootstrap', 'REST', 'Mobile Applibation Development', 'Scrum', 'Английский\\\\xa0— B2 — Средне-продвинутый']\"\n",
            " \"['Python', 'Git', 'Node.js', 'Работа в команде', 'Interviews']\"\n",
            " \"['PHP', 'Работа с базами данных', '1С-Битрикс', 'MySQL', 'JS']\"\n",
            " \"['Android', 'Английский язык', 'iOS', 'RESTful API', 'Логическое мышление', 'Навыки планирования', 'Flutter']\"\n",
            " \"['Creatio', 'BPMN', 'C#', '.NET', 'HTML']\"\n",
            " \"['1С: Предприятие 8', '1С программирование', '1С: Комплексная автоматизация']\"\n",
            " \"['jQuery', 'Vue.js', 'Figma', 'Nginx', 'Оптимизация кода', 'laravel', 'CSS-верстка']\"\n",
            " \"['Yii2']\"\n",
            " \"['Coffeecup HTML Editor', 'JavaScript', 'конструктор (platforma LP/Tilda/Wix)', 'Python', 'Unity', 'Java']\"\n",
            " \"['JavaScript', 'NodeJS', 'Английский язык', 'Удаленная работа']\"\n",
            " \"['MySQL', 'ООП', 'PHP', 'web программист', 'SQL', 'Git', 'SVN']\"\n",
            " \"['jQuery', '1С-Битрикс', 'JavaScript', 'PHP', 'MySQL', 'Создание сайтов', 'Nginx', 'Bootstrap', 'Веб-программирование', 'Администрирование сайтов', 'HTML', 'CSS', 'HTML5', 'CSS3', 'Работа с доменами', 'Разработка сайтов', 'CMS Bitrix', 'Bitrix24 (Коробочная версия)', 'Bitrix 24', 'Анализ кода', 'Валидная верстка', 'Разработка CMS', 'HTML-верстка', 'Bitrix', 'Wordpress', 'Программинг 1С Bitrix', 'Программинг Битрикс 24', 'Веб разработчик', 'Web разработчик', 'Laravel']\"\n",
            " \"['PostgreSQL', 'Node.js', 'MongoDB', 'TypeScript', 'SOLID', 'Redis', 'Docker', 'RabbitMQ', 'Ethers.js', 'Socket.io']\"\n",
            " \"['Git', 'Linux', 'PostgreSQL', 'PHP', 'ООП', 'Yii2', 'API']\"\n",
            " \"['Проектная документация', 'P-CAD', 'Разработка технических заданий', 'Разработка РЭА', 'Altium Designer', 'DesignerСхемотехника электронного оборудования', 'Чтение электросхем', 'Проектирование', 'Разработка оборудования', 'Автоматизация технологических процессов', 'Предпроектное обследование', 'Настройка серверов', 'Настройка IT-оборудования', 'Пресейл', 'Инженер пресейла']\"\n",
            " \"['C#', 'SQL', 'PostgreSQL', '1C', 'ERP']\"\n",
            " \"['MySQL', 'PHP', 'ООП', 'Git', '1С-Битрикс']\"\n",
            " \"['Python', 'Django Framework', 'MongoDB', 'PostgreSQL', 'Redis', 'Celery', 'DjangoORM', 'DRF', 'RabbitMQ']\"\n",
            " \"['SQL', 'PostgreSQL', 'Git', 'MS SQL', 'С#', 'REST', 'API', 'RabbitMQ', 'Kafka', 'MS SharePoint']\"\n",
            " \"['Unreal Engine 4', 'Unreal Engine 5', 'Game Programming', 'Blueprint']\"\n",
            " \"['JavaScript', 'ASP.NET', 'C#', 'SQL', '.NET core']\"\n",
            " \"['C/C++', 'C#', 'Git']\"\n",
            " \"['PHP', 'Laravel', 'Unix', 'PostgreSQL', 'Golang']\"\n",
            " \"['Python', 'Машинное обучение']\"\n",
            " \"['MS Visio', 'MS PowerPoint', 'MS Project', 'Работа в команде', 'Бизнес-анализ', 'Английский\\\\xa0— A1 — Начальный']\"\n",
            " \"['MongoDB', 'JavaScript', 'MySQL', 'Mercurial', 'Git', 'PHP', 'Iron Python']\"\n",
            " \"['Управление командой', 'ООП', 'Java', 'Делегирование', 'Backend', 'Работа в команде', 'Умение планировать', 'Ответственность и пунктуальность', 'Готовность самостоятельно принимать решения', 'REST', 'SOAP', 'Работа с базами данных', 'SQL', 'Spring Framework', 'Английский\\\\xa0— B2 — Средне-продвинутый']\"\n",
            " \"['Аналитическое мышление', 'Системное мышление', 'Работа в команде', 'Английский\\\\xa0— A1 — Начальный']\"\n",
            " \"['1С: Предприятие 8', '1С: Управление Торговлей', '1С программирование', '1С: Торговля', '1C: Бухгалтерия', 'Пользователь ПК']\"\n",
            " \"['PHP', 'MySQL', 'Linux', 'Laravel', 'Symfony']\"\n",
            " \"['PHP', 'Laravel', 'Nuxt', 'Vue', 'React', 'Node.js', 'Git', 'Gitlab', 'VueJS', 'JS', 'Vue.js', 'Nuxt.js', 'HTML', 'CSS']\"\n",
            " \"['PHP', 'SQL', 'Joomla CMS', 'HTML', 'MySQL', 'Веб-программирование', 'Базовые знания SQL', 'Оптимизация запросов', 'Коммуникабельность, ответственность']\"\n",
            " \"['Python', 'PostgreSQL', 'Linux', 'SQL', 'Django Framework', 'C#', 'C++', 'Работа с базами данных', 'Pandas']\"\n",
            " \"['Sass', 'JavaScript', 'Node.js', 'React', 'Redux', 'Git']\"\n",
            " \"['ООП', 'Git', 'PostgreSQL', 'PHP', 'SOLID', 'ClickHouse', 'REST API', 'PHP7', 'Работа с большим объемом информации', 'Symfony']\"\n",
            " \"['PHP', 'MySQL', 'Laravel', 'Symfony', 'Docker']\"\n",
            " \"['ООП', 'SQL', 'Java', 'MS SQL', 'C#', 'AXAPTA']\"\n",
            " \"['JavaScript', 'Английский язык', 'Обучение и развитие', 'API', 'Continuous Integration', 'GitHub', 'MongoDB', 'JS', 'Усердие', 'Быстрое обучение', 'Git', 'SQL', 'ООП', 'PHP', 'MySQL', 'Atlassian Jira', 'Умение принимать решения', 'Адекватность', 'Удаленная работа', 'Оптимизация запросов', 'Высокая скорость работы', 'Laravel', 'Angular 2+', 'TypeScript']\"\n",
            " \"['Python', 'Git', 'Django Framework', 'PostgreSQL', 'SQL', 'Flask', 'Docker', 'Scrum', 'Английский\\\\xa0— B1 — Средний']\"\n",
            " \"['1С: Предприятие 8', 'Английский язык', '1С программирование', '1С: Комплексная автоматизация', 'ERP-системы на базе 1С', '1С: Управление Торговлей', 'Создание конфигурации 1С']\"\n",
            " \"['PHP', '1С-Битрикс', 'ООП', 'MySQL', 'JavaScript']\"\n",
            " \"['PHP', 'MySQL', 'Laravel', 'Git', 'Linux', 'VueJS', 'Docker']\"\n",
            " \"['JavaScript', 'PHP', 'Git', 'Ajax', '1С-Битрикс', 'MySQL', 'CSS', 'HTML', 'SEO', 'Веб-программирование']\"\n",
            " \"['Python', 'PostgreSQL', 'Django Framework', 'Flask', 'FastAPI', 'REST', 'SOAP', 'JSON API', 'XML', 'RabbitMQ', 'Redis', 'CI/CD', 'Docker', 'SOLID', 'DRY', 'KISS', 'YAGNI', 'Git']\"\n",
            " \"['Java', 'Spring Framework', 'Git', 'REST', 'JavaScript', 'UI', 'Spting data', 'SQL']\"\n",
            " \"['JavaScript', 'Node.js', 'Vue.js', 'HTML5', 'CSS3', 'Vuex', 'Nuxt.js', 'PostgreSQL', 'Адаптивная верстка', 'JS', 'Java Script']\"\n",
            " \"['JavaScript', 'HTML', 'CSS', 'Bootstrap', 'Блочная верстка', 'vue3', 'typescript', 'Git']\"\n",
            " \"['1С программирование', 'Разработка технических заданий', '1С: Управление Производственным Предприятием', 'Постановка задач разработчикам', 'ERP-системы на базе 1С']\"\n",
            " \"['JavaScript', 'MySQL', 'PHP', 'CSS', 'HTML', 'HTML5', 'CSS3', 'CMS Wordpress', 'PHP5', 'API', 'Ajax', 'ООП', 'Веб-программирование', 'SQL', 'phpMyAdmin', 'Bootstrap', 'Кроссбраузерная верстка', 'XML', 'Git', 'jQuery']\"\n",
            " \"['MySQL', '1С-Битрикс', 'jQuery', 'PHP', 'Ajax', 'Битрикс24', 'Nginx', 'Git', 'Bitrix24', 'CRM Bitrix24', 'Автоматизация процессов', 'Microsoft Excel']\"\n",
            " \"['Go', 'MySQL', 'Начало карьеры', 'Желание обучаться']\"\n",
            " \"['JavaScript', 'MySQL', 'jQuery', 'PHP', 'XML']\"\n",
            " \"['PHP', 'MySQL', 'Git', 'Linux', 'SQL']\"\n",
            " \"['Linux Kernel Space', 'C', 'Linux']\"\n",
            " \"['PostgreSQL', 'SQL', 'MS SQL', 'Английский\\\\xa0— A1 — Начальный']\"\n",
            " \"['Zerocoding', 'No-Code', 'Зерокодер', 'Разработка приложений', 'Преподаватель', 'Ментор', 'Zero-code', 'Low-code', 'Tilda', 'Bubble developer']\"\n",
            " \"['yii2', 'MySQL', 'jQuery', 'API', 'web-разработка', 'Веб-программирование', 'PHP', 'PHP7', 'high-load', 'RabbitMQ']\"]\n"
          ]
        }
      ],
      "source": [
        "skills_divided = df.explode('навыки')\n",
        "print(skills_divided['навыки'])\n",
        "print(skills_divided['навыки'].unique())"
      ]
    },
    {
      "cell_type": "code",
      "execution_count": null,
      "metadata": {
        "id": "D48sEnTHzZRN"
      },
      "outputs": [],
      "source": [
        "def boxplot_skill(skill_name, df):\n",
        "  plt.figure(figsize=(8, 6))\n",
        "\n",
        "  df_skill = df[df['навыки'].apply(lambda x: skill_name.lower() in x.lower())]\n",
        "  plt.boxplot(df_skill['sal'])\n",
        "  plt.title(f'Ящик с усами для навыка {skill_name}')\n",
        "  plt.xlabel('skill')\n",
        "  plt.ylabel('salary')"
      ]
    },
    {
      "cell_type": "code",
      "execution_count": null,
      "metadata": {
        "colab": {
          "base_uri": "https://localhost:8080/",
          "height": 564
        },
        "id": "73ULRtfvkF87",
        "outputId": "d7c9801d-023e-4e15-b303-0fe8a53dffa7"
      },
      "outputs": [
        {
          "data": {
            "image/png": "[encoded data removed]",
            "text/plain": [
              "<Figure size 800x600 with 1 Axes>"
            ]
          },
          "metadata": {},
          "output_type": "display_data"
        }
      ],
      "source": [
        "boxplot_skill(\"Проектная деятельность\", df)"
      ]
    },
    {
      "cell_type": "code",
      "execution_count": null,
      "metadata": {
        "colab": {
          "base_uri": "https://localhost:8080/",
          "height": 564
        },
        "id": "PQ4ckM0w56du",
        "outputId": "3743207a-8546-4516-e87a-040854fe116a"
      },
      "outputs": [
        {
          "data": {
            "image/png": "[encoded data removed]",
            "text/plain": [
              "<Figure size 800x600 with 1 Axes>"
            ]
          },
          "metadata": {},
          "output_type": "display_data"
        }
      ],
      "source": [
        "boxplot_skill(\"Python\", df)"
      ]
    },
    {
      "cell_type": "code",
      "execution_count": null,
      "metadata": {
        "colab": {
          "base_uri": "https://localhost:8080/",
          "height": 564
        },
        "id": "YIfz-gN18HpI",
        "outputId": "7a897f46-b081-43d9-b26e-62c2cbff6d4c"
      },
      "outputs": [
        {
          "data": {
            "image/png": "[encoded data removed]",
            "text/plain": [
              "<Figure size 800x600 with 1 Axes>"
            ]
          },
          "metadata": {},
          "output_type": "display_data"
        }
      ],
      "source": [
        "boxplot_skill(\"MySQL\", df)"
      ]
    },
    {
      "cell_type": "code",
      "execution_count": null,
      "metadata": {
        "colab": {
          "base_uri": "https://localhost:8080/",
          "height": 564
        },
        "id": "Y70AvdTx8KfE",
        "outputId": "77785a5e-7902-42bb-d671-3485280a6ddc"
      },
      "outputs": [
        {
          "data": {
            "image/png": "[encoded data removed]",
            "text/plain": [
              "<Figure size 800x600 with 1 Axes>"
            ]
          },
          "metadata": {},
          "output_type": "display_data"
        }
      ],
      "source": [
        "boxplot_skill(\"JavaScript\", df)"
      ]
    },
    {
      "cell_type": "code",
      "execution_count": null,
      "metadata": {
        "colab": {
          "base_uri": "https://localhost:8080/",
          "height": 564
        },
        "id": "79yWaQen8Un7",
        "outputId": "824b9fb0-bce0-43b3-ef2d-5ac7a6741283"
      },
      "outputs": [
        {
          "data": {
            "image/png": "[encoded data removed]",
            "text/plain": [
              "<Figure size 800x600 with 1 Axes>"
            ]
          },
          "metadata": {},
          "output_type": "display_data"
        }
      ],
      "source": [
        "boxplot_skill(\"PostgreSQL\", df)"
      ]
    },
    {
      "cell_type": "code",
      "execution_count": null,
      "metadata": {
        "id": "cX15P7OMRIrk"
      },
      "outputs": [],
      "source": [
        "from scipy import stats"
      ]
    },
    {
      "cell_type": "code",
      "execution_count": null,
      "metadata": {
        "id": "wVD4R47vSIFm"
      },
      "outputs": [],
      "source": [
        "def pval_result(p_val, alpha=0.05):\n",
        "  print(f'p value = {p_val}')\n",
        "  if p_val < alpha:\n",
        "    print('Есть статистически значимые различия между группами')\n",
        "  if p_val > alpha:\n",
        "    print('Нет статистически значимых различий между группами')"
      ]
    },
    {
      "cell_type": "markdown",
      "metadata": {
        "id": "O_TjjmFLIPr1"
      },
      "source": [
        "Выясним, есть ли зависимость значения зп от количества лет опыта\n"
      ]
    },
    {
      "cell_type": "code",
      "execution_count": null,
      "metadata": {
        "colab": {
          "base_uri": "https://localhost:8080/"
        },
        "id": "YSDAp_k_RROj",
        "outputId": "a226474a-fd51-4a06-b897-8f3d4d88c5db"
      },
      "outputs": [
        {
          "name": "stdout",
          "output_type": "stream",
          "text": [
            "p value = 0.019979160064387318\n",
            "Есть статистически значимые различия между группами\n",
            "None\n"
          ]
        }
      ],
      "source": [
        "sal_from_exp = stats.f_oneway(\n",
        "  df[df[\"опыт'\"] == 0]['sal'],\n",
        "  df[df[\"опыт'\"] == 2]['sal'],\n",
        "  df[df[\"опыт'\"] == 4.5]['sal'],\n",
        "  df[df[\"опыт'\"] == 6]['sal']\n",
        ")\n",
        "\n",
        "print(pval_result(sal_from_exp[1]))"
      ]
    },
    {
      "cell_type": "markdown",
      "metadata": {
        "id": "v19fc0HCJUN6"
      },
      "source": [
        "Есть статистически значимые различия между группами => зп зависит от опыта"
      ]
    },
    {
      "cell_type": "code",
      "execution_count": null,
      "metadata": {
        "id": "G0tmhWk5JTBB"
      },
      "outputs": [],
      "source": []
    },
    {
      "cell_type": "code",
      "execution_count": null,
      "metadata": {
        "colab": {
          "base_uri": "https://localhost:8080/",
          "height": 491
        },
        "id": "kaBRqrQSUB_d",
        "outputId": "4338853e-7e8e-4c2e-887e-92acaf502ecf"
      },
      "outputs": [
        {
          "data": {
            "text/html": [
              "<div>\n",
              "<style scoped>\n",
              "    .dataframe tbody tr th:only-of-type {\n",
              "        vertical-align: middle;\n",
              "    }\n",
              "\n",
              "    .dataframe tbody tr th {\n",
              "        vertical-align: top;\n",
              "    }\n",
              "\n",
              "    .dataframe thead th {\n",
              "        text-align: right;\n",
              "    }\n",
              "</style>\n",
              "<table border=\"1\" class=\"dataframe\">\n",
              "  <thead>\n",
              "    <tr style=\"text-align: right;\">\n",
              "      <th></th>\n",
              "      <th>count</th>\n",
              "    </tr>\n",
              "    <tr>\n",
              "      <th>занятость</th>\n",
              "      <th></th>\n",
              "    </tr>\n",
              "  </thead>\n",
              "  <tbody>\n",
              "    <tr>\n",
              "      <th>Полная занятость, полный день</th>\n",
              "      <td>596</td>\n",
              "    </tr>\n",
              "    <tr>\n",
              "      <th>Полная занятость, удаленная работа</th>\n",
              "      <td>282</td>\n",
              "    </tr>\n",
              "    <tr>\n",
              "      <th>Полная занятость, гибкий график</th>\n",
              "      <td>48</td>\n",
              "    </tr>\n",
              "    <tr>\n",
              "      <th>Частичная занятость, удаленная работа</th>\n",
              "      <td>23</td>\n",
              "    </tr>\n",
              "    <tr>\n",
              "      <th>Стажировка, полный день</th>\n",
              "      <td>15</td>\n",
              "    </tr>\n",
              "    <tr>\n",
              "      <th>Стажировка, гибкий график</th>\n",
              "      <td>15</td>\n",
              "    </tr>\n",
              "    <tr>\n",
              "      <th>Частичная занятость, полный день</th>\n",
              "      <td>7</td>\n",
              "    </tr>\n",
              "    <tr>\n",
              "      <th>Проектная работа/разовое задание, удаленная работа</th>\n",
              "      <td>5</td>\n",
              "    </tr>\n",
              "    <tr>\n",
              "      <th>Проектная работа/разовое задание, полный день</th>\n",
              "      <td>4</td>\n",
              "    </tr>\n",
              "    <tr>\n",
              "      <th>Частичная занятость, гибкий график</th>\n",
              "      <td>3</td>\n",
              "    </tr>\n",
              "    <tr>\n",
              "      <th>Проектная работа/разовое задание, гибкий график</th>\n",
              "      <td>1</td>\n",
              "    </tr>\n",
              "    <tr>\n",
              "      <th></th>\n",
              "      <td>1</td>\n",
              "    </tr>\n",
              "  </tbody>\n",
              "</table>\n",
              "</div><br><label><b>dtype:</b> int64</label>"
            ],
            "text/plain": [
              "занятость\n",
              "Полная занятость, полный день                         596\n",
              "Полная занятость, удаленная работа                    282\n",
              "Полная занятость, гибкий график                        48\n",
              "Частичная занятость, удаленная работа                  23\n",
              "Стажировка, полный день                                15\n",
              "Стажировка, гибкий график                              15\n",
              "Частичная занятость, полный день                        7\n",
              "Проектная работа/разовое задание, удаленная работа      5\n",
              "Проектная работа/разовое задание, полный день           4\n",
              "Частичная занятость, гибкий график                      3\n",
              "Проектная работа/разовое задание, гибкий график         1\n",
              "                                                        1\n",
              "Name: count, dtype: int64"
            ]
          },
          "execution_count": 30,
          "metadata": {},
          "output_type": "execute_result"
        }
      ],
      "source": [
        "df['занятость'].value_counts() #?"
      ]
    },
    {
      "cell_type": "markdown",
      "metadata": {
        "id": "vIoASSkGKGYo"
      },
      "source": [
        "Выделим две группы в данных: seniors и others"
      ]
    },
    {
      "cell_type": "code",
      "execution_count": null,
      "metadata": {
        "collapsed": true,
        "id": "lYkn02kIUCCV"
      },
      "outputs": [],
      "source": [
        "def get_names(title):\n",
        "  title_lower = title.lower()\n",
        "  if 'ведущ' in title_lower or 'старш' in title_lower or 'senior' in title_lower or 'сен' in title_lower:\n",
        "      return 'seniors'\n",
        "  else:\n",
        "      return 'others'\n",
        "\n",
        "df['новое название'] = df['название'].map(get_names)"
      ]
    },
    {
      "cell_type": "markdown",
      "metadata": {
        "id": "XRnZfUqzKmX6"
      },
      "source": [
        "Зависит ли зп от этих групп?"
      ]
    },
    {
      "cell_type": "code",
      "execution_count": null,
      "metadata": {
        "colab": {
          "base_uri": "https://localhost:8080/"
        },
        "id": "NqIM3ZOuuWQJ",
        "outputId": "b2c8402f-87a9-4be5-f6e0-3ebee1377fd6"
      },
      "outputs": [
        {
          "name": "stdout",
          "output_type": "stream",
          "text": [
            "p value = 0.44362704557233357\n",
            "Нет статистически значимых различий между группами\n"
          ]
        }
      ],
      "source": [
        "sal_from_name = stats.f_oneway(\n",
        "  df[df[\"новое название\"] == 'seniors']['sal'],\n",
        "  df[df[\"новое название\"] == 'others']['sal']\n",
        ")\n",
        "\n",
        "pval_result(sal_from_name[1])"
      ]
    },
    {
      "cell_type": "markdown",
      "metadata": {
        "id": "NfB5LA29LFu_"
      },
      "source": [
        "Нет статистически значимых различий между группами => нет зависимости между зп и группами others и seniors"
      ]
    },
    {
      "cell_type": "code",
      "execution_count": null,
      "metadata": {
        "id": "sxWe0LeyuWS4"
      },
      "outputs": [],
      "source": [
        "np.random.seed(42)"
      ]
    },
    {
      "cell_type": "markdown",
      "metadata": {
        "id": "TwgfHgQSLPaV"
      },
      "source": [
        "Создадим датафрейм из 1 млн строк"
      ]
    },
    {
      "cell_type": "code",
      "execution_count": null,
      "metadata": {
        "id": "4OeHE2lVuWg4"
      },
      "outputs": [],
      "source": [
        "num_rows = 1000000\n",
        "gender = np.random.choice(['Male', 'Female'], size=num_rows)\n",
        "age = np.random.randint(18, 65, size=num_rows)\n",
        "income = np.random.normal(loc=50000, scale=15000, size=num_rows).astype(int)\n",
        "profession = np.random.choice(['Analyst', 'SRE', 'Product Manager', 'Developer'], size=num_rows)"
      ]
    },
    {
      "cell_type": "markdown",
      "metadata": {
        "id": "5ROyvOoXLVgL"
      },
      "source": [
        "Создадим датафрейм с сгенерированными данными"
      ]
    },
    {
      "cell_type": "code",
      "execution_count": null,
      "metadata": {
        "id": "r8ANalQUUCF6"
      },
      "outputs": [],
      "source": [
        "df_measure = pd.DataFrame({\n",
        "  'gender': gender,\n",
        "  'age': age,\n",
        "  'income': income,\n",
        "  'profession': profession\n",
        "})"
      ]
    },
    {
      "cell_type": "markdown",
      "metadata": {
        "id": "QFum91TjMoFX"
      },
      "source": [
        "Замерим объем памяти датафрейма в памяти"
      ]
    },
    {
      "cell_type": "code",
      "execution_count": null,
      "metadata": {
        "colab": {
          "base_uri": "https://localhost:8080/"
        },
        "id": "cWeFvGTE5zJ5",
        "outputId": "f5f8c016-1864-4048-9228-56fdf023a7e0"
      },
      "outputs": [
        {
          "name": "stdout",
          "output_type": "stream",
          "text": [
            "<class 'pandas.core.frame.DataFrame'>\n",
            "RangeIndex: 1000000 entries, 0 to 999999\n",
            "Data columns (total 4 columns):\n",
            " #   Column      Non-Null Count    Dtype \n",
            "---  ------      --------------    ----- \n",
            " 0   gender      1000000 non-null  object\n",
            " 1   age         1000000 non-null  int64 \n",
            " 2   income      1000000 non-null  int64 \n",
            " 3   profession  1000000 non-null  object\n",
            "dtypes: int64(2), object(2)\n",
            "memory usage: 30.5+ MB\n",
            "\n",
            "Память по столбцам:\n",
            "Index              128\n",
            "gender        61999622\n",
            "age            8000000\n",
            "income         8000000\n",
            "profession    65494858\n",
            "dtype: int64\n"
          ]
        }
      ],
      "source": [
        "df_measure.info()\n",
        "\n",
        "memory_usage = df_measure.memory_usage(deep=True)\n",
        "print(\"\\nПамять по столбцам:\")\n",
        "print(memory_usage)"
      ]
    },
    {
      "cell_type": "markdown",
      "metadata": {
        "id": "xYoJPuFLMt9n"
      },
      "source": [
        "Замерим скорость записи и чтения"
      ]
    },
    {
      "cell_type": "code",
      "execution_count": null,
      "metadata": {
        "colab": {
          "base_uri": "https://localhost:8080/"
        },
        "id": "g-nc85fF5zMV",
        "outputId": "a3222f13-91a2-45b7-df1c-150af1b2b633"
      },
      "outputs": [
        {
          "name": "stdout",
          "output_type": "stream",
          "text": [
            "1.55 s ± 422 ms per loop (mean ± std. dev. of 7 runs, 1 loop each)\n"
          ]
        }
      ],
      "source": [
        "%%timeit\n",
        "df_measure.to_csv('data.csv', index=False)"
      ]
    },
    {
      "cell_type": "code",
      "execution_count": null,
      "metadata": {
        "colab": {
          "base_uri": "https://localhost:8080/"
        },
        "id": "caxXXlmp5zOx",
        "outputId": "eb01488a-5372-40b0-f080-3e164b8d4403"
      },
      "outputs": [
        {
          "name": "stdout",
          "output_type": "stream",
          "text": [
            "496 ms ± 92.1 ms per loop (mean ± std. dev. of 7 runs, 1 loop each)\n"
          ]
        }
      ],
      "source": [
        "%%timeit\n",
        "df_new = pd.read_csv('data.csv')"
      ]
    },
    {
      "cell_type": "code",
      "execution_count": null,
      "metadata": {
        "colab": {
          "base_uri": "https://localhost:8080/"
        },
        "id": "y7xxj1sJ5zSP",
        "outputId": "bf8e8d7b-a794-4a36-f784-f3b4c26f7e18"
      },
      "outputs": [
        {
          "name": "stdout",
          "output_type": "stream",
          "text": [
            "257 ms ± 72.5 ms per loop (mean ± std. dev. of 7 runs, 1 loop each)\n"
          ]
        }
      ],
      "source": [
        "%%timeit\n",
        "avg_age = df_measure['age'].mean()\n",
        "max_income = df_measure['income'].max()\n",
        "most_common_gender = df_measure['gender'].mode()[0]\n",
        "rarest_profession = df_measure['profession'].value_counts().idxmin()"
      ]
    },
    {
      "cell_type": "code",
      "execution_count": null,
      "metadata": {
        "id": "6cSQO1v0QCi9"
      },
      "outputs": [],
      "source": []
    }
  ],
  "metadata": {
    "colab": {
      "provenance": []
    },
    "kernelspec": {
      "display_name": "geo_env_clone",
      "language": "python",
      "name": "python3"
    },
    "language_info": {
      "codemirror_mode": {
        "name": "ipython",
        "version": 3
      },
      "file_extension": ".py",
      "mimetype": "text/x-python",
      "name": "python",
      "nbconvert_exporter": "python",
      "pygments_lexer": "ipython3",
      "version": "3.9.18"
    }
  },
  "nbformat": 4,
  "nbformat_minor": 0
}
